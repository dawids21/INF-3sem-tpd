{
 "cells": [
  {
   "cell_type": "markdown",
   "metadata": {},
   "source": [
    "# The NetworkX Module"
   ]
  },
  {
   "cell_type": "markdown",
   "metadata": {},
   "source": [
    "NetworkX is a python module. To start exploring NetworkX we simply need to start a python session (Like the IPython session you are in now!), and type"
   ]
  },
  {
   "cell_type": "code",
   "execution_count": null,
   "metadata": {
    "ExecuteTime": {
     "end_time": "2020-04-22T09:07:55.092359Z",
     "start_time": "2020-04-22T09:07:54.744414Z"
    }
   },
   "outputs": [],
   "source": [
    "import networkx"
   ]
  },
  {
   "cell_type": "markdown",
   "metadata": {},
   "source": [
    "All of NetworkX's data structures and functions can then be accessed using the syntax `networkx.[Object]`, where `[Object]` is the function or data structure you need. Of course you would replace `[Object]` with the function you wanted. For example to make a graph, we'd write:"
   ]
  },
  {
   "cell_type": "code",
   "execution_count": null,
   "metadata": {
    "ExecuteTime": {
     "end_time": "2020-04-22T09:07:55.965515Z",
     "start_time": "2020-04-22T09:07:55.962610Z"
    }
   },
   "outputs": [],
   "source": [
    "G = networkx.Graph()"
   ]
  },
  {
   "cell_type": "markdown",
   "metadata": {},
   "source": [
    "Usually to save ourselves some keystrokes, we'll import NetworkX using a shorter variable name"
   ]
  },
  {
   "cell_type": "code",
   "execution_count": null,
   "metadata": {
    "ExecuteTime": {
     "end_time": "2020-04-22T09:07:56.970582Z",
     "start_time": "2020-04-22T09:07:56.968044Z"
    }
   },
   "outputs": [],
   "source": [
    "import networkx as nx"
   ]
  },
  {
   "cell_type": "markdown",
   "metadata": {},
   "source": [
    "# Basic Graph Data Structures"
   ]
  },
  {
   "cell_type": "markdown",
   "metadata": {},
   "source": [
    "One of the main strengths of NetworkX is its flexible graph data structures. There are four data structures\n",
    " - `Graph`: Undirected Graphs\n",
    " - `DiGraph`: Directed Graphs\n",
    " - `MultiGraph`: Undirected multigraphs, ie graphs which allow for multiple edges between nodes\n",
    " - `MultiDiGraph`: Directed Multigraphs\n",
    " \n",
    "Each of these has the same basic structure, attributes and features, with a few minor differences."
   ]
  },
  {
   "cell_type": "markdown",
   "metadata": {},
   "source": [
    "# Creating Graphs"
   ]
  },
  {
   "cell_type": "markdown",
   "metadata": {},
   "source": [
    "Creating Graphs is as simple as calling the appropriate constructor."
   ]
  },
  {
   "cell_type": "code",
   "execution_count": null,
   "metadata": {
    "ExecuteTime": {
     "end_time": "2020-04-22T09:07:59.989166Z",
     "start_time": "2020-04-22T09:07:59.986436Z"
    }
   },
   "outputs": [],
   "source": [
    "G = nx.Graph()\n",
    "D = nx.DiGraph()\n",
    "M = nx.MultiGraph()\n",
    "MD = nx.MultiDiGraph()"
   ]
  },
  {
   "cell_type": "markdown",
   "metadata": {},
   "source": [
    "You can also add attributes to a graph during creation, either by providing a dictionary, or simply using keyword arguments"
   ]
  },
  {
   "cell_type": "code",
   "execution_count": null,
   "metadata": {
    "ExecuteTime": {
     "end_time": "2020-04-22T09:08:01.266709Z",
     "start_time": "2020-04-22T09:08:01.263757Z"
    }
   },
   "outputs": [],
   "source": [
    "import datetime as dt\n",
    "\n",
    "G1 = nx.Graph(date_created=dt.date.today(), name=\"Example graph\")"
   ]
  },
  {
   "cell_type": "code",
   "execution_count": null,
   "metadata": {},
   "outputs": [],
   "source": [
    "graph_dict = { \"version\":0.1, \"created_by\":\"John Smith\", \"tags\":{\"social\", \"community\", \"network\"} }\n",
    "\n",
    "G2 = nx.Graph(**graph_dict)"
   ]
  },
  {
   "cell_type": "code",
   "execution_count": null,
   "metadata": {
    "ExecuteTime": {
     "end_time": "2020-04-22T09:08:03.349395Z",
     "start_time": "2020-04-22T09:08:03.342082Z"
    }
   },
   "outputs": [],
   "source": [
    "G1.graph"
   ]
  },
  {
   "cell_type": "code",
   "execution_count": null,
   "metadata": {},
   "outputs": [],
   "source": [
    "G2.graph"
   ]
  },
  {
   "cell_type": "markdown",
   "metadata": {},
   "source": [
    "The graph attribute is just a dictionary and can be treated as one, so you can add and delete more information from it."
   ]
  },
  {
   "cell_type": "code",
   "execution_count": null,
   "metadata": {
    "ExecuteTime": {
     "end_time": "2020-04-22T09:08:14.427683Z",
     "start_time": "2020-04-22T09:08:14.425347Z"
    }
   },
   "outputs": [],
   "source": [
    "G2.graph[\"validated\"] = False # add new graph attribute\n",
    "\n",
    "G2.graph[\"version\"] = 0.2 # modify existing graph attribute\n",
    "\n",
    "del G2.graph[\"created_by\"] # delete graph attribute"
   ]
  },
  {
   "cell_type": "code",
   "execution_count": null,
   "metadata": {
    "ExecuteTime": {
     "end_time": "2020-04-22T09:08:14.984244Z",
     "start_time": "2020-04-22T09:08:14.981241Z"
    }
   },
   "outputs": [],
   "source": [
    "G2.graph"
   ]
  },
  {
   "cell_type": "markdown",
   "metadata": {},
   "source": [
    "## Nodes"
   ]
  },
  {
   "cell_type": "markdown",
   "metadata": {},
   "source": [
    "Next we'll cover how to add and remove nodes, as well as check for their existance in a graph and add attributes to both!"
   ]
  },
  {
   "cell_type": "markdown",
   "metadata": {
    "jp-MarkdownHeadingCollapsed": true
   },
   "source": [
    "### Adding Nodes"
   ]
  },
  {
   "cell_type": "markdown",
   "metadata": {},
   "source": [
    "There are two main functions for adding nodes. `add_node`, and `add_nodes_from`. The former takes single values, and the latter takes any iterable (list, set, iterator, generator). Nodes can be of any _immutable_ type. This means numbers (ints and floats complex), strings, bytes, tuples or frozen sets. They cannot be _mutable_, such as lists, dictionaries or sets. Nodes in the same graph do not have to be of the same type"
   ]
  },
  {
   "cell_type": "code",
   "execution_count": null,
   "metadata": {
    "ExecuteTime": {
     "end_time": "2020-04-22T09:08:24.576537Z",
     "start_time": "2020-04-22T09:08:24.571646Z"
    }
   },
   "outputs": [],
   "source": [
    "G = nx.Graph()\n",
    "\n",
    "# Adding single nodes of various types\n",
    "G.add_node(0)\n",
    "G.add_node(\"A\")\n",
    "G.add_node((\"PI\", 3.141592))\n",
    "G.add_node(frozenset([\"apples\", \"oranges\", \"grapes\", \"onions\"]))"
   ]
  },
  {
   "cell_type": "code",
   "execution_count": null,
   "metadata": {
    "ExecuteTime": {
     "end_time": "2020-04-22T09:08:24.576537Z",
     "start_time": "2020-04-22T09:08:24.571646Z"
    }
   },
   "outputs": [],
   "source": [
    "# Adding collections of nodes\n",
    "G.add_nodes_from([2, 4, 6, 8, 10])\n",
    "G.add_nodes_from([1/x for x in range(1, 5)])"
   ]
  },
  {
   "cell_type": "markdown",
   "metadata": {
    "jp-MarkdownHeadingCollapsed": true
   },
   "source": [
    "### Listing Nodes"
   ]
  },
  {
   "cell_type": "markdown",
   "metadata": {},
   "source": [
    "Accessing nodes is done using the `nodes` property which is a member of the `Graph` object."
   ]
  },
  {
   "cell_type": "code",
   "execution_count": null,
   "metadata": {
    "ExecuteTime": {
     "end_time": "2020-04-22T09:09:27.522072Z",
     "start_time": "2020-04-22T09:09:27.518124Z"
    }
   },
   "outputs": [],
   "source": [
    "G.nodes"
   ]
  },
  {
   "cell_type": "markdown",
   "metadata": {},
   "source": [
    "The `nx.Graph.nodes` function in NetworkX returns a `NodeView` object. This object has some interesting properties:\n",
    "\n",
    "\n",
    "* **View of Nodes:** It provides a *view* of the nodes in the graph. This means it's a dynamic representation; if you add or remove nodes from the graph, the `NodeView` object will reflect those changes.\n",
    "* **Iterable:** You can iterate over the `NodeView` to access each node in the graph (e.g., using a `for` loop or converting it to a list).\n",
    "* **Supports Membership Testing:** You can use the `in` operator to check if a specific node exists in the graph (e.g., `'A' in G.nodes`).\n",
    "* **Supports Length:** You can use the `len()` function to get the number of nodes in the graph.\n",
    "* **Node Attributes Access:** If nodes have attributes associated with them, you can access these attributes through the `NodeView`. For example, `G.nodes['A']` will return a dictionary of attributes for node `'A'`. You can also access all node attributes using `G.nodes.data()`.\n",
    "* **Orderable (in Python 3.7+):** In Python 3.7 and later, `dict_keys` (which `NodeView` is based on) maintain insertion order. So, iterating over `G.nodes` will yield nodes in the order they were added to the graph (though you shouldn't rely on a specific order if it's not explicitly important for your algorithm).\n",
    "\n",
    "In essence, `nx.Graph.nodes` gives you an efficient and dynamic way to interact with the set of nodes in your NetworkX graph, allowing you to iterate, check for existence, get the count, and access node-specific information."
   ]
  },
  {
   "cell_type": "markdown",
   "metadata": {},
   "source": [
    "Sometimes to save memory we might only want to access a list of nodes one at a time, so we can use an _iterator_. These are especially useful in long running loops to save memory."
   ]
  },
  {
   "cell_type": "code",
   "execution_count": null,
   "metadata": {
    "ExecuteTime": {
     "end_time": "2020-04-22T09:09:57.886603Z",
     "start_time": "2020-04-22T09:09:57.881667Z"
    }
   },
   "outputs": [],
   "source": [
    "for n in G.nodes():\n",
    "    print(f\"{n} is a string\") if type(n)==str else print(f\"{n} is {type(n)}\")"
   ]
  },
  {
   "cell_type": "markdown",
   "metadata": {
    "jp-MarkdownHeadingCollapsed": true
   },
   "source": [
    "### Checking whether nodes are in a Graph"
   ]
  },
  {
   "cell_type": "markdown",
   "metadata": {},
   "source": [
    "We can also check to see if a graph has a node several different ways. The easiest is just using the `in` keyword in python, but there is also the `has_node` function."
   ]
  },
  {
   "cell_type": "code",
   "execution_count": null,
   "metadata": {
    "ExecuteTime": {
     "end_time": "2020-04-22T09:10:16.182685Z",
     "start_time": "2020-04-22T09:10:16.179307Z"
    }
   },
   "outputs": [],
   "source": [
    "2 in G"
   ]
  },
  {
   "cell_type": "code",
   "execution_count": null,
   "metadata": {
    "ExecuteTime": {
     "end_time": "2020-04-22T09:10:17.075900Z",
     "start_time": "2020-04-22T09:10:17.072423Z"
    }
   },
   "outputs": [],
   "source": [
    "3 in G"
   ]
  },
  {
   "cell_type": "code",
   "execution_count": null,
   "metadata": {
    "ExecuteTime": {
     "end_time": "2020-04-22T09:10:18.773518Z",
     "start_time": "2020-04-22T09:10:18.768947Z"
    }
   },
   "outputs": [],
   "source": [
    "G.has_node(\"A\")"
   ]
  },
  {
   "cell_type": "code",
   "execution_count": null,
   "metadata": {
    "ExecuteTime": {
     "end_time": "2020-04-22T09:10:19.424151Z",
     "start_time": "2020-04-22T09:10:19.419885Z"
    }
   },
   "outputs": [],
   "source": [
    "G.has_node(\"B\")"
   ]
  },
  {
   "cell_type": "markdown",
   "metadata": {
    "jp-MarkdownHeadingCollapsed": true
   },
   "source": [
    "### Node attributes"
   ]
  },
  {
   "cell_type": "markdown",
   "metadata": {},
   "source": [
    "You can also add attributes to nodes. This can be handy for storing information about nodes within the graph object. This can be done when you create new nodes using keyword arguments to the `add_node` and `add_nodes_from` function"
   ]
  },
  {
   "cell_type": "code",
   "execution_count": null,
   "metadata": {
    "ExecuteTime": {
     "end_time": "2020-04-22T09:10:37.487547Z",
     "start_time": "2020-04-22T09:10:37.484902Z"
    }
   },
   "outputs": [],
   "source": [
    "G = nx.Graph()\n",
    "\n",
    "G.add_node(\"sprite\", company=\"Coca-Cola Co.\", food=\"soft drink\")"
   ]
  },
  {
   "cell_type": "markdown",
   "metadata": {},
   "source": [
    "When using `add_nodes_from` you provide a tuple with the first element being the node, and the second being a dictionary of attributes for that node. You can also add attributes which will be applied to all added nodes using keyword arguments"
   ]
  },
  {
   "cell_type": "code",
   "execution_count": null,
   "metadata": {
    "ExecuteTime": {
     "end_time": "2020-04-22T09:10:43.359798Z",
     "start_time": "2020-04-22T09:10:43.356705Z"
    }
   },
   "outputs": [],
   "source": [
    "G.add_nodes_from(\n",
    "    [\n",
    "        (\"chunky monkey\", {\"company\": \"Ben & Jerrys\", \"food\":\"ice cream\"}),\n",
    "        (\"oreos\", {\"company\": \"Mondelēz International\"}),\n",
    "        (\"heineken\", {\"firma\": \"Heineken N.V.\"})\n",
    "    ], allergens=None)"
   ]
  },
  {
   "cell_type": "markdown",
   "metadata": {},
   "source": [
    "\n",
    "To list node attributes you need to provide the `data=True` keyword to the `nodes` and `nodes_iter` functions"
   ]
  },
  {
   "cell_type": "code",
   "execution_count": null,
   "metadata": {
    "ExecuteTime": {
     "end_time": "2020-04-22T09:10:47.178525Z",
     "start_time": "2020-04-22T09:10:47.175068Z"
    }
   },
   "outputs": [],
   "source": [
    "G.nodes(data=True)"
   ]
  },
  {
   "cell_type": "markdown",
   "metadata": {},
   "source": [
    "`NodeView` (obtained via `G.nodes`) provides an iterable view of only the node labels within a graph, allowing for simple iteration and membership testing of nodes. `NodeDataView` (obtained via `G.nodes.data()`) offers an iterable view of the nodes paired with their attribute dictionaries, enabling direct access to node properties during iteration as tuples of (node, attribute dictionary). Essentially, `NodeView` focuses on the existence and identity of nodes, while `NodeDataView` extends this by providing immediate access to the associated data for each node."
   ]
  },
  {
   "cell_type": "markdown",
   "metadata": {},
   "source": [
    "Attributes are stored in a special dictionary within the graph called `nodes` you can access, edit and remove attributes there"
   ]
  },
  {
   "cell_type": "code",
   "execution_count": null,
   "metadata": {},
   "outputs": [],
   "source": [
    "# list all nodes\n",
    "G.nodes"
   ]
  },
  {
   "cell_type": "code",
   "execution_count": null,
   "metadata": {
    "ExecuteTime": {
     "end_time": "2020-04-22T09:10:51.215782Z",
     "start_time": "2020-04-22T09:10:51.212175Z"
    }
   },
   "outputs": [],
   "source": [
    "# lookup a single node's attributes\n",
    "G.nodes[\"sprite\"]"
   ]
  },
  {
   "cell_type": "code",
   "execution_count": null,
   "metadata": {
    "ExecuteTime": {
     "end_time": "2020-04-22T09:10:53.090959Z",
     "start_time": "2020-04-22T09:10:53.087697Z"
    }
   },
   "outputs": [],
   "source": [
    "G.nodes[\"sprite\"][\"available\"] = False # add new attribute to a node\n",
    "\n",
    "G.nodes[\"sprite\"][\"food\"] = \"soda\" # modify existing attribute of a node\n",
    "\n",
    "del G.nodes[\"sprite\"][\"company\"] # delete an attribute of a node"
   ]
  },
  {
   "cell_type": "code",
   "execution_count": null,
   "metadata": {
    "ExecuteTime": {
     "end_time": "2020-04-22T09:10:55.256011Z",
     "start_time": "2020-04-22T09:10:55.252842Z"
    }
   },
   "outputs": [],
   "source": [
    "G.nodes[\"sprite\"]"
   ]
  },
  {
   "cell_type": "markdown",
   "metadata": {},
   "source": [
    "Similiarly, you can remove nodes with the `remove_node` and `remove_nodes_from` functions"
   ]
  },
  {
   "cell_type": "code",
   "execution_count": null,
   "metadata": {
    "ExecuteTime": {
     "end_time": "2020-04-22T09:10:59.952682Z",
     "start_time": "2020-04-22T09:10:59.949625Z"
    }
   },
   "outputs": [],
   "source": [
    "G = nx.Graph()\n",
    "\n",
    "G.add_nodes_from(range(1, 10))\n",
    "\n",
    "G.remove_node(9)\n",
    "G.remove_nodes_from([1, 2, 3, 5, 7])"
   ]
  },
  {
   "cell_type": "code",
   "execution_count": null,
   "metadata": {
    "ExecuteTime": {
     "end_time": "2020-04-22T09:11:04.278953Z",
     "start_time": "2020-04-22T09:11:04.275041Z"
    }
   },
   "outputs": [],
   "source": [
    "G.nodes()"
   ]
  },
  {
   "cell_type": "markdown",
   "metadata": {},
   "source": [
    "### Exercises"
   ]
  },
  {
   "cell_type": "markdown",
   "metadata": {},
   "source": [
    "#### Repeated Nodes"
   ]
  },
  {
   "cell_type": "markdown",
   "metadata": {},
   "source": [
    "1. What happens when you add nodes to a graph that already exist?\n",
    "2. What happens when you add nodes to the graph that already exist but have new attributes?\n",
    "3. What happens when you add nodes to a graph with attributes different from existing nodes?\n",
    "4. Try removing a node that doesn't exist, what happens?"
   ]
  },
  {
   "cell_type": "code",
   "execution_count": null,
   "metadata": {},
   "outputs": [],
   "source": [
    "..."
   ]
  },
  {
   "cell_type": "markdown",
   "metadata": {},
   "source": [
    "#### The FizzBuzz Graph"
   ]
  },
  {
   "cell_type": "markdown",
   "metadata": {},
   "source": [
    "Make a new graph, `FizzBuzz`. Add nodes labeled 0 to 100 to the graph. Each node should have an attribute `fizz` and `buzz`. If the nodes label is divisble by 3 `fizz=True` if it is divisble by 5 `buzz=True`, otherwise both are false."
   ]
  },
  {
   "cell_type": "code",
   "execution_count": null,
   "metadata": {},
   "outputs": [],
   "source": [
    "..."
   ]
  },
  {
   "cell_type": "markdown",
   "metadata": {},
   "source": [
    "## Edges"
   ]
  },
  {
   "cell_type": "markdown",
   "metadata": {},
   "source": [
    "Adding edges is similar to adding nodes. They can be added, using either `add_edge` or `add_edges_from`. They can also have attributes in the same way nodes can. If you add an edge that includes a node that doesn't exist it will create it for you"
   ]
  },
  {
   "cell_type": "code",
   "execution_count": null,
   "metadata": {
    "ExecuteTime": {
     "end_time": "2020-04-22T09:11:34.219684Z",
     "start_time": "2020-04-22T09:11:34.217104Z"
    }
   },
   "outputs": [],
   "source": [
    "G1 = nx.Graph()\n",
    "\n",
    "G1.add_edge(\"bacon\", \"eggs\", breakfast=True)\n",
    "G1.add_edge(\"orange juice\", \"coffee\", breakfast=True)\n",
    "G1.add_edge(\"soup\", \"salad\", breakfast=False)\n",
    "\n",
    "G1.nodes, G1.edges"
   ]
  },
  {
   "cell_type": "markdown",
   "metadata": {},
   "source": [
    "A simple way to create edges is to use list comprehension"
   ]
  },
  {
   "cell_type": "code",
   "execution_count": null,
   "metadata": {
    "ExecuteTime": {
     "end_time": "2020-04-22T09:11:35.479260Z",
     "start_time": "2020-04-22T09:11:35.476691Z"
    }
   },
   "outputs": [],
   "source": [
    "G2 = nx.Graph()\n",
    "\n",
    "G2.add_edges_from(\n",
    "    [\n",
    "        (i, i+2) \n",
    "        for i in range(2, 20, 2)\n",
    "    ]\n",
    ")\n",
    "G2.edges"
   ]
  },
  {
   "cell_type": "markdown",
   "metadata": {},
   "source": [
    "Similarly to nodes, graph edges can be accessed either by `Graph.edges` or `Grpah.edges()`. Both functions produce an object of the type `EdgeView`. `EdgeView` provides a dynamic view of the edges in a graph, represented as tuples of the connected nodes (e.g., `{u, v}` for undirected graphs, and `(u, v)` for directed graphs. This view is iterable, allowing you to easily loop through all the edges in the graph, and it dynamically reflects any additions or removals of edges. For graphs with edge attributes, you can access these attributes by iterating through `G.edges(data=True)`, which yields an object of the type `EdgeDataView`, a list of tuples of `(u, v, attributes_dictionary)`."
   ]
  },
  {
   "cell_type": "code",
   "execution_count": null,
   "metadata": {
    "ExecuteTime": {
     "end_time": "2020-04-22T09:11:38.437695Z",
     "start_time": "2020-04-22T09:11:38.434345Z"
    }
   },
   "outputs": [],
   "source": [
    "G2.edges()"
   ]
  },
  {
   "cell_type": "code",
   "execution_count": null,
   "metadata": {
    "ExecuteTime": {
     "end_time": "2020-04-22T09:11:39.612222Z",
     "start_time": "2020-04-22T09:11:39.608300Z"
    }
   },
   "outputs": [],
   "source": [
    "G1.edges, G1.edges(data=True)"
   ]
  },
  {
   "cell_type": "markdown",
   "metadata": {},
   "source": [
    "If you want to limit the list of edges to a subset of nodes, you have to pass this subset as an argument to the `nx.Graph.edges()` funcion"
   ]
  },
  {
   "cell_type": "code",
   "execution_count": null,
   "metadata": {},
   "outputs": [],
   "source": [
    "G2.edges(range(10))"
   ]
  },
  {
   "cell_type": "markdown",
   "metadata": {},
   "source": [
    "Removing edges is accomplished by using the `remove_edge` or `remove_edges_from` function. Remove edge attributes can be done by indexing into the graph"
   ]
  },
  {
   "cell_type": "code",
   "execution_count": null,
   "metadata": {},
   "outputs": [],
   "source": [
    "G1[\"eggs\"]"
   ]
  },
  {
   "cell_type": "code",
   "execution_count": null,
   "metadata": {
    "ExecuteTime": {
     "end_time": "2020-04-22T09:11:42.272053Z",
     "start_time": "2020-04-22T09:11:42.268676Z"
    }
   },
   "outputs": [],
   "source": [
    "G1[\"eggs\"][\"bacon\"]"
   ]
  },
  {
   "cell_type": "code",
   "execution_count": null,
   "metadata": {},
   "outputs": [],
   "source": [
    "G1[\"bacon\"][\"eggs\"]"
   ]
  },
  {
   "cell_type": "code",
   "execution_count": null,
   "metadata": {
    "ExecuteTime": {
     "end_time": "2020-04-22T09:11:42.592212Z",
     "start_time": "2020-04-22T09:11:42.589676Z"
    }
   },
   "outputs": [],
   "source": [
    "del G1[\"eggs\"][\"bacon\"][\"breakfast\"] # delete edge attriute\n",
    "\n",
    "G1.edges(data=True)"
   ]
  },
  {
   "cell_type": "code",
   "execution_count": null,
   "metadata": {
    "ExecuteTime": {
     "end_time": "2020-04-22T09:11:43.145733Z",
     "start_time": "2020-04-22T09:11:43.143108Z"
    }
   },
   "outputs": [],
   "source": [
    "G1.remove_edge(\"eggs\", \"bacon\") # delete an edge"
   ]
  },
  {
   "cell_type": "code",
   "execution_count": null,
   "metadata": {
    "ExecuteTime": {
     "end_time": "2020-04-22T09:11:44.246975Z",
     "start_time": "2020-04-22T09:11:44.243358Z"
    }
   },
   "outputs": [],
   "source": [
    "G1.edges(data=True)"
   ]
  },
  {
   "cell_type": "markdown",
   "metadata": {},
   "source": [
    "You can check for the existance of edges with `has_edge`"
   ]
  },
  {
   "cell_type": "code",
   "execution_count": null,
   "metadata": {},
   "outputs": [],
   "source": [
    "(\"eggs\", \"bacon\") in G1.edges, (\"orange juice\", \"coffee\") in G1.edges, G1.has_edge(\"soup\", \"salad\")"
   ]
  },
  {
   "cell_type": "markdown",
   "metadata": {},
   "source": [
    "For directed graphs, ordering matters. `add_edge(u,v)` will add an edge from `u` to `v`"
   ]
  },
  {
   "cell_type": "code",
   "execution_count": null,
   "metadata": {
    "ExecuteTime": {
     "end_time": "2020-04-22T09:11:49.106659Z",
     "start_time": "2020-04-22T09:11:49.104147Z"
    }
   },
   "outputs": [],
   "source": [
    "D = nx.DiGraph()\n",
    "\n",
    "D.add_nodes_from(range(10))\n",
    "D.add_edges_from([(i,i+2) for i in range(8)])\n",
    "\n",
    "D.edges()"
   ]
  },
  {
   "cell_type": "code",
   "execution_count": null,
   "metadata": {
    "ExecuteTime": {
     "end_time": "2020-04-22T09:11:51.475241Z",
     "start_time": "2020-04-22T09:11:51.471965Z"
    }
   },
   "outputs": [],
   "source": [
    "D.has_edge(0, 2), D.has_edge(2, 0)"
   ]
  },
  {
   "cell_type": "markdown",
   "metadata": {},
   "source": [
    "### Exercises"
   ]
  },
  {
   "cell_type": "markdown",
   "metadata": {},
   "source": [
    "For the `FizzBuzz` graph, add edges betweeen two nodes `u` and `v` if they are both divisible by 2 or by 7. Each edge should include attributes `div2` and `div7` which are true if `u` and `v` are divisible by 2 and 7 respecitively. Exclude self loops."
   ]
  },
  {
   "cell_type": "code",
   "execution_count": null,
   "metadata": {},
   "outputs": [],
   "source": [
    "..."
   ]
  },
  {
   "cell_type": "markdown",
   "metadata": {
    "jp-MarkdownHeadingCollapsed": true
   },
   "source": [
    "## Multigraphs"
   ]
  },
  {
   "cell_type": "markdown",
   "metadata": {},
   "source": [
    "Multigraphs can have multiple edges between any two nodes. They are referenced by a key."
   ]
  },
  {
   "cell_type": "code",
   "execution_count": null,
   "metadata": {
    "ExecuteTime": {
     "end_time": "2020-04-22T09:12:01.824066Z",
     "start_time": "2020-04-22T09:12:01.820148Z"
    }
   },
   "outputs": [],
   "source": [
    "M = nx.MultiGraph()\n",
    "\n",
    "M.add_edge(0,1)\n",
    "M.add_edge(0,1)"
   ]
  },
  {
   "cell_type": "code",
   "execution_count": null,
   "metadata": {
    "ExecuteTime": {
     "end_time": "2020-04-22T09:12:02.151147Z",
     "start_time": "2020-04-22T09:12:02.146641Z"
    }
   },
   "outputs": [],
   "source": [
    "M.edges()"
   ]
  },
  {
   "cell_type": "markdown",
   "metadata": {},
   "source": [
    "The keys of the edges can be accessed by using the keyword `keys=True`. This will give a tuple of `(u,v,k)`, with the edge being `u` and `v` and the key being `k`."
   ]
  },
  {
   "cell_type": "code",
   "execution_count": null,
   "metadata": {
    "ExecuteTime": {
     "end_time": "2020-04-22T09:12:05.288395Z",
     "start_time": "2020-04-22T09:12:05.284562Z"
    }
   },
   "outputs": [],
   "source": [
    "M.edges(keys=True)"
   ]
  },
  {
   "cell_type": "markdown",
   "metadata": {},
   "source": [
    "`MultiDraphs` and `MultiDiGraphs` are similar to `Graphs` and `DiGraphs` in most respects"
   ]
  },
  {
   "cell_type": "markdown",
   "metadata": {},
   "source": [
    "## Adding Graph Motifs"
   ]
  },
  {
   "cell_type": "markdown",
   "metadata": {},
   "source": [
    "In addition to adding nodes and edges one at a time `networkx` has some convenient functions for adding complete subgraphs."
   ]
  },
  {
   "cell_type": "code",
   "execution_count": null,
   "metadata": {},
   "outputs": [],
   "source": [
    "Gc = nx.Graph()\n",
    "Gs = nx.Graph()\n",
    "Gp = nx.Graph()\n",
    "\n",
    "nx.add_cycle(Gc, range(10))\n",
    "nx.add_star(Gs, range(10))\n",
    "nx.add_path(Gp, range(10))\n",
    "\n",
    "print(f\"Cycle: {Gc.edges()}\")\n",
    "print(f\"Star: {Gs.edges()}\")\n",
    "print(f\"Path: {Gp.edges()}\")"
   ]
  },
  {
   "cell_type": "markdown",
   "metadata": {},
   "source": [
    "# Basic Graph Properties"
   ]
  },
  {
   "cell_type": "markdown",
   "metadata": {},
   "source": [
    "Basic graph properties are functions which are member of the `Graph` class itself. We'll explore different metrics in part III."
   ]
  },
  {
   "cell_type": "markdown",
   "metadata": {},
   "source": [
    "## Node and Edge Counts"
   ]
  },
  {
   "cell_type": "markdown",
   "metadata": {},
   "source": [
    "The _order_ of a graph is the number of nodes, it can be accessed by calling `G.order()` or using the builtin length function: `len(G)`."
   ]
  },
  {
   "cell_type": "code",
   "execution_count": null,
   "metadata": {
    "ExecuteTime": {
     "end_time": "2020-04-22T09:12:21.350675Z",
     "start_time": "2020-04-22T09:12:21.347214Z"
    }
   },
   "outputs": [],
   "source": [
    "G = nx.Graph()\n",
    "nx.add_star(G, range(10))\n",
    "\n",
    "G.order(), len(G)"
   ]
  },
  {
   "cell_type": "markdown",
   "metadata": {},
   "source": [
    "The number of edges is usually referred to as the _size_ of the graph, and can be accessed by `G.size()`. You could also find out by calling `len(G.edges())`, but this is much slower."
   ]
  },
  {
   "cell_type": "code",
   "execution_count": null,
   "metadata": {
    "ExecuteTime": {
     "end_time": "2020-04-22T09:12:24.358558Z",
     "start_time": "2020-04-22T09:12:24.354660Z"
    }
   },
   "outputs": [],
   "source": [
    "G.size(), len(G.edges)"
   ]
  },
  {
   "cell_type": "markdown",
   "metadata": {},
   "source": [
    "Number of nodes and edges can be also obtained by explicitly calling functions `number_of_nodes` and `number_of_edges`"
   ]
  },
  {
   "cell_type": "code",
   "execution_count": null,
   "metadata": {},
   "outputs": [],
   "source": [
    "G.number_of_nodes(), G.number_of_edges()"
   ]
  },
  {
   "cell_type": "markdown",
   "metadata": {},
   "source": [
    "For multigraphs it counts the number of edges includeing multiplicity"
   ]
  },
  {
   "cell_type": "code",
   "execution_count": null,
   "metadata": {
    "ExecuteTime": {
     "end_time": "2020-04-22T09:12:26.124001Z",
     "start_time": "2020-04-22T09:12:26.119044Z"
    }
   },
   "outputs": [],
   "source": [
    "M.size()"
   ]
  },
  {
   "cell_type": "markdown",
   "metadata": {},
   "source": [
    "## Node Neighbors"
   ]
  },
  {
   "cell_type": "markdown",
   "metadata": {},
   "source": [
    "Node neighbors can be accessed via the `neighbors` function (which returns an iterator) "
   ]
  },
  {
   "cell_type": "code",
   "execution_count": null,
   "metadata": {},
   "outputs": [],
   "source": [
    "G.edges(0)"
   ]
  },
  {
   "cell_type": "code",
   "execution_count": null,
   "metadata": {
    "ExecuteTime": {
     "end_time": "2020-04-22T09:13:02.656722Z",
     "start_time": "2020-04-22T09:13:02.653455Z"
    }
   },
   "outputs": [],
   "source": [
    "list(G.neighbors(0)), list(G.neighbors(1))"
   ]
  },
  {
   "cell_type": "markdown",
   "metadata": {},
   "source": [
    "In the case of directed graphs, neighbors are only those originating at the node."
   ]
  },
  {
   "cell_type": "code",
   "execution_count": null,
   "metadata": {},
   "outputs": [],
   "source": [
    "list(range(1, 10, 2)), list(range(2, 10, 2))"
   ]
  },
  {
   "cell_type": "code",
   "execution_count": null,
   "metadata": {
    "ExecuteTime": {
     "end_time": "2020-04-22T09:13:12.265450Z",
     "start_time": "2020-04-22T09:13:12.260209Z"
    }
   },
   "outputs": [],
   "source": [
    "D = nx.DiGraph()\n",
    "\n",
    "D.add_edges_from([(0, i) for i in range(1, 10, 2)])\n",
    "D.add_edges_from([(i, 0) for i in range(2, 10, 2)])\n",
    "\n",
    "list(D.neighbors(0)), list(D.neighbors(1)), list(D.neighbors(2))"
   ]
  },
  {
   "cell_type": "markdown",
   "metadata": {},
   "source": [
    "For multigraphs, neighbors are only reported once."
   ]
  },
  {
   "cell_type": "code",
   "execution_count": null,
   "metadata": {
    "ExecuteTime": {
     "end_time": "2020-04-22T09:13:19.778434Z",
     "start_time": "2020-04-22T09:13:19.775172Z"
    }
   },
   "outputs": [],
   "source": [
    "list(M.neighbors(0))"
   ]
  },
  {
   "cell_type": "markdown",
   "metadata": {},
   "source": [
    "## Degree"
   ]
  },
  {
   "cell_type": "markdown",
   "metadata": {},
   "source": [
    "`DegreeView` (obtained via `G.degree`) provides a dynamic view of the degree of each node in the graph. For each node, it presents a pair consisting of the node label and its corresponding degree (the number of edges connected to that node). This view is iterable, allowing you to efficiently iterate through the degree of all nodes, and it updates automatically as the graph structure changes. For directed graphs, you can access in-degree and out-degree using `G.in_degree` and `G.out_degree`, respectively, which also return `DegreeView` objects.\n",
    "\n",
    "You can use these as properties (`G.degree`) or functions (`G.degree()`)"
   ]
  },
  {
   "cell_type": "code",
   "execution_count": null,
   "metadata": {
    "ExecuteTime": {
     "end_time": "2020-04-22T09:13:25.744132Z",
     "start_time": "2020-04-22T09:13:25.741002Z"
    }
   },
   "outputs": [],
   "source": [
    "G.degree"
   ]
  },
  {
   "cell_type": "code",
   "execution_count": null,
   "metadata": {
    "ExecuteTime": {
     "end_time": "2020-04-22T09:13:31.374622Z",
     "start_time": "2020-04-22T09:13:31.370677Z"
    }
   },
   "outputs": [],
   "source": [
    "D.in_degree"
   ]
  },
  {
   "cell_type": "code",
   "execution_count": null,
   "metadata": {
    "ExecuteTime": {
     "end_time": "2020-04-22T09:13:32.043912Z",
     "start_time": "2020-04-22T09:13:32.040264Z"
    }
   },
   "outputs": [],
   "source": [
    "D.out_degree"
   ]
  },
  {
   "cell_type": "markdown",
   "metadata": {},
   "source": [
    "Both of these can be called on a single node or a subset of nodes if not all degrees are needed"
   ]
  },
  {
   "cell_type": "code",
   "execution_count": null,
   "metadata": {
    "ExecuteTime": {
     "end_time": "2020-04-22T09:13:42.266096Z",
     "start_time": "2020-04-22T09:13:42.262716Z"
    }
   },
   "outputs": [],
   "source": [
    "D.in_degree(5), D.out_degree([0, 1, 2])"
   ]
  },
  {
   "cell_type": "markdown",
   "metadata": {},
   "source": [
    "You can also calculate weighted degree. To do this each edge has to have specific attribute to be used as a weight."
   ]
  },
  {
   "cell_type": "code",
   "execution_count": null,
   "metadata": {
    "ExecuteTime": {
     "end_time": "2020-04-22T09:14:02.595917Z",
     "start_time": "2020-04-22T09:14:02.592223Z"
    }
   },
   "outputs": [],
   "source": [
    "WG = nx.Graph()\n",
    "\n",
    "nx.add_star(WG, range(10))\n",
    "\n",
    "for (u, v) in WG.edges:\n",
    "    WG[u][v][\"weight\"] = (u + v) / 2"
   ]
  },
  {
   "cell_type": "code",
   "execution_count": null,
   "metadata": {},
   "outputs": [],
   "source": [
    "WG.edges(data=True)"
   ]
  },
  {
   "cell_type": "code",
   "execution_count": null,
   "metadata": {
    "ExecuteTime": {
     "end_time": "2020-04-22T09:14:04.053171Z",
     "start_time": "2020-04-22T09:14:04.049966Z"
    }
   },
   "outputs": [],
   "source": [
    "WG.degree(weight=\"weight\")"
   ]
  },
  {
   "attachments": {},
   "cell_type": "markdown",
   "metadata": {},
   "source": [
    "# Exercises\n",
    "\n",
    "## Exercise: Social Network Analysis\n",
    "\n",
    "* **Description:**\n",
    "    * Create an undirected graph called `social_network` to represent friendships in a small community.\n",
    "    * Add nodes representing people: \"Alice\", \"Bob\", \"Charlie\", \"David\", \"Emily\".\n",
    "    * Add edges to represent friendships: Alice is friends with Bob and Charlie, Bob is friends with Charlie and David, Charlie is friends with David and Emily, and David is friends with Emily.\n",
    "    * Add an attribute \"age\" to each person with the following values: Alice (25), Bob (30), Charlie (28), David (22), Emily (27).\n",
    "\n",
    "* **Tasks:**\n",
    "    1.  Print the number of people (nodes) in the network.\n",
    "    2.  List all of Alice's friends (neighbors).\n",
    "    3.  Calculate and print the average age of the people in the network.\n",
    "\n",
    "## Exercise: Task Dependency Graph\n",
    "\n",
    "* **Description:**\n",
    "    * Create a directed graph called `task_dependency_graph` to represent tasks in a project and their dependencies.\n",
    "    * Add nodes representing tasks: \"Task A\", \"Task B\", \"Task C\", \"Task D\".\n",
    "    * Add directed edges to represent dependencies: Task A must be completed before Task B, Task B before Task C, and Task A before Task D.\n",
    "    * Add an attribute \"time_estimate\" (in days) to each task: Task A (5 days), Task B (3 days), Task C (4 days), Task D (6 days).\n",
    "\n",
    "* **Tasks:**\n",
    "    1.  Print the total number of tasks (nodes) and dependencies (edges).\n",
    "    2.  Determine and print how many tasks need to be completed before \"Task C\" can start.\n",
    "    3.  Calculate and print the total estimated time for all tasks in the project.\n",
    "\n",
    "## Exercise: Analyzing a Small Network\n",
    "\n",
    "* **Description:**\n",
    "    * Create an undirected graph called `small_network` and add the following edges: (1, 2), (2, 3), (3, 4), (4, 1), (1, 5), (2, 6).\n",
    "\n",
    "\n",
    "* **Tasks:**\n",
    "    1.  Draw the graph on paper\n",
    "    2.  Determine the number of nodes and edges in the graph programmatically\n",
    "    3.  Calculate the degree of node 1 and node 2 programmatically."
   ]
  },
  {
   "cell_type": "code",
   "execution_count": null,
   "metadata": {},
   "outputs": [],
   "source": []
  }
 ],
 "metadata": {
  "kernelspec": {
   "display_name": "Python 3 (ipykernel)",
   "language": "python",
   "name": "python3"
  },
  "language_info": {
   "codemirror_mode": {
    "name": "ipython",
    "version": 3
   },
   "file_extension": ".py",
   "mimetype": "text/x-python",
   "name": "python",
   "nbconvert_exporter": "python",
   "pygments_lexer": "ipython3",
   "version": "3.12.7"
  },
  "toc": {
   "base_numbering": 1,
   "nav_menu": {},
   "number_sections": true,
   "sideBar": true,
   "skip_h1_title": false,
   "title_cell": "Table of Contents",
   "title_sidebar": "Contents",
   "toc_cell": false,
   "toc_position": {},
   "toc_section_display": true,
   "toc_window_display": false
  },
  "varInspector": {
   "cols": {
    "lenName": 16,
    "lenType": 16,
    "lenVar": 40
   },
   "kernels_config": {
    "python": {
     "delete_cmd_postfix": "",
     "delete_cmd_prefix": "del ",
     "library": "var_list.py",
     "varRefreshCmd": "print(var_dic_list())"
    },
    "r": {
     "delete_cmd_postfix": ") ",
     "delete_cmd_prefix": "rm(",
     "library": "var_list.r",
     "varRefreshCmd": "cat(var_dic_list()) "
    }
   },
   "oldHeight": 502.246,
   "position": {
    "height": "40px",
    "left": "1416.25px",
    "right": "20px",
    "top": "120px",
    "width": "250px"
   },
   "types_to_exclude": [
    "module",
    "function",
    "builtin_function_or_method",
    "instance",
    "_Feature"
   ],
   "varInspector_section_display": "none",
   "window_display": true
  }
 },
 "nbformat": 4,
 "nbformat_minor": 4
}
