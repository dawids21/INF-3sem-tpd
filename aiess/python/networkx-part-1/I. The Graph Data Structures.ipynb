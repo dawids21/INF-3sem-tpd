{
 "cells": [
  {
   "cell_type": "markdown",
   "metadata": {},
   "source": [
    "# The NetworkX Module"
   ]
  },
  {
   "cell_type": "markdown",
   "metadata": {},
   "source": [
    "NetworkX is a python module. To start exploring NetworkX we simply need to start a python session (Like the IPython session you are in now!), and type"
   ]
  },
  {
   "cell_type": "code",
   "execution_count": 80,
   "metadata": {
    "ExecuteTime": {
     "end_time": "2020-04-22T09:07:55.092359Z",
     "start_time": "2020-04-22T09:07:54.744414Z"
    }
   },
   "outputs": [],
   "source": [
    "import networkx"
   ]
  },
  {
   "cell_type": "markdown",
   "metadata": {},
   "source": [
    "All of NetworkX's data structures and functions can then be accessed using the syntax `networkx.[Object]`, where `[Object]` is the function or data structure you need. Of course you would replace `[Object]` with the function you wanted. For example to make a graph, we'd write:"
   ]
  },
  {
   "cell_type": "code",
   "execution_count": 81,
   "metadata": {
    "ExecuteTime": {
     "end_time": "2020-04-22T09:07:55.965515Z",
     "start_time": "2020-04-22T09:07:55.962610Z"
    }
   },
   "outputs": [],
   "source": [
    "G = networkx.Graph()"
   ]
  },
  {
   "cell_type": "markdown",
   "metadata": {},
   "source": [
    "Usually to save ourselves some keystrokes, we'll import NetworkX using a shorter variable name"
   ]
  },
  {
   "cell_type": "code",
   "execution_count": 82,
   "metadata": {
    "ExecuteTime": {
     "end_time": "2020-04-22T09:07:56.970582Z",
     "start_time": "2020-04-22T09:07:56.968044Z"
    }
   },
   "outputs": [],
   "source": [
    "import networkx as nx"
   ]
  },
  {
   "cell_type": "code",
   "execution_count": 83,
   "metadata": {},
   "outputs": [
    {
     "data": {
      "text/plain": [
       "'3.4.2'"
      ]
     },
     "execution_count": 83,
     "metadata": {},
     "output_type": "execute_result"
    }
   ],
   "source": [
    "nx.__version__"
   ]
  },
  {
   "cell_type": "markdown",
   "metadata": {},
   "source": [
    "# Basic Graph Data Structures"
   ]
  },
  {
   "cell_type": "markdown",
   "metadata": {},
   "source": [
    "One of the main strengths of NetworkX is its flexible graph data structures. There are four data structures\n",
    " - `Graph`: Undirected Graphs\n",
    " - `DiGraph`: Directed Graphs\n",
    " - `MultiGraph`: Undirected multigraphs, ie graphs which allow for multiple edges between nodes\n",
    " - `MultiDiGraph`: Directed Multigraphs\n",
    " \n",
    "Each of these has the same basic structure, attributes and features, with a few minor differences."
   ]
  },
  {
   "cell_type": "markdown",
   "metadata": {},
   "source": [
    "# Creating Graphs"
   ]
  },
  {
   "cell_type": "markdown",
   "metadata": {},
   "source": [
    "Creating Graphs is as simple as calling the appropriate constructor."
   ]
  },
  {
   "cell_type": "code",
   "execution_count": 84,
   "metadata": {
    "ExecuteTime": {
     "end_time": "2020-04-22T09:07:59.989166Z",
     "start_time": "2020-04-22T09:07:59.986436Z"
    }
   },
   "outputs": [],
   "source": [
    "G = nx.Graph()\n",
    "D = nx.DiGraph()\n",
    "M = nx.MultiGraph()\n",
    "MD = nx.MultiDiGraph()"
   ]
  },
  {
   "cell_type": "markdown",
   "metadata": {},
   "source": [
    "You can also add attributes to a graph during creation, either by providing a dictionary, or simply using keyword arguments"
   ]
  },
  {
   "cell_type": "code",
   "execution_count": 85,
   "metadata": {
    "ExecuteTime": {
     "end_time": "2020-04-22T09:08:01.266709Z",
     "start_time": "2020-04-22T09:08:01.263757Z"
    }
   },
   "outputs": [],
   "source": [
    "import datetime as dt\n",
    "\n",
    "G1 = nx.Graph(date_created=dt.date.today(), name=\"Example graph\")"
   ]
  },
  {
   "cell_type": "code",
   "execution_count": 86,
   "metadata": {},
   "outputs": [],
   "source": [
    "graph_dict = { \"version\":0.1, \"created_by\":\"John Smith\", \"tags\":{\"social\", \"community\", \"network\"} }\n",
    "\n",
    "G2 = nx.Graph(**graph_dict)"
   ]
  },
  {
   "cell_type": "code",
   "execution_count": 87,
   "metadata": {
    "ExecuteTime": {
     "end_time": "2020-04-22T09:08:03.349395Z",
     "start_time": "2020-04-22T09:08:03.342082Z"
    }
   },
   "outputs": [
    {
     "data": {
      "text/plain": [
       "{'date_created': datetime.date(2025, 4, 23), 'name': 'Example graph'}"
      ]
     },
     "execution_count": 87,
     "metadata": {},
     "output_type": "execute_result"
    }
   ],
   "source": [
    "G1.graph"
   ]
  },
  {
   "cell_type": "code",
   "execution_count": 88,
   "metadata": {},
   "outputs": [
    {
     "data": {
      "text/plain": [
       "{'version': 0.1,\n",
       " 'created_by': 'John Smith',\n",
       " 'tags': {'community', 'network', 'social'}}"
      ]
     },
     "execution_count": 88,
     "metadata": {},
     "output_type": "execute_result"
    }
   ],
   "source": [
    "G2.graph"
   ]
  },
  {
   "cell_type": "markdown",
   "metadata": {},
   "source": [
    "The graph attribute is just a dictionary and can be treated as one, so you can add and delete more information from it."
   ]
  },
  {
   "cell_type": "code",
   "execution_count": 89,
   "metadata": {
    "ExecuteTime": {
     "end_time": "2020-04-22T09:08:14.427683Z",
     "start_time": "2020-04-22T09:08:14.425347Z"
    }
   },
   "outputs": [],
   "source": [
    "G2.graph[\"validated\"] = False # add new graph attribute\n",
    "\n",
    "G2.graph[\"version\"] = 0.2 # modify existing graph attribute\n",
    "\n",
    "del G2.graph[\"created_by\"] # delete graph attribute"
   ]
  },
  {
   "cell_type": "code",
   "execution_count": 90,
   "metadata": {
    "ExecuteTime": {
     "end_time": "2020-04-22T09:08:14.984244Z",
     "start_time": "2020-04-22T09:08:14.981241Z"
    }
   },
   "outputs": [
    {
     "data": {
      "text/plain": [
       "{'version': 0.2,\n",
       " 'tags': {'community', 'network', 'social'},\n",
       " 'validated': False}"
      ]
     },
     "execution_count": 90,
     "metadata": {},
     "output_type": "execute_result"
    }
   ],
   "source": [
    "G2.graph"
   ]
  },
  {
   "cell_type": "markdown",
   "metadata": {},
   "source": [
    "## Nodes"
   ]
  },
  {
   "cell_type": "markdown",
   "metadata": {},
   "source": [
    "Next we'll cover how to add and remove nodes, as well as check for their existance in a graph and add attributes to both!"
   ]
  },
  {
   "cell_type": "markdown",
   "metadata": {
    "jp-MarkdownHeadingCollapsed": true
   },
   "source": [
    "### Adding Nodes"
   ]
  },
  {
   "cell_type": "markdown",
   "metadata": {},
   "source": [
    "There are two main functions for adding nodes. `add_node`, and `add_nodes_from`. The former takes single values, and the latter takes any iterable (list, set, iterator, generator). Nodes can be of any _immutable_ type. This means numbers (ints and floats complex), strings, bytes, tuples or frozen sets. They cannot be _mutable_, such as lists, dictionaries or sets. Nodes in the same graph do not have to be of the same type"
   ]
  },
  {
   "cell_type": "code",
   "execution_count": 91,
   "metadata": {
    "ExecuteTime": {
     "end_time": "2020-04-22T09:08:24.576537Z",
     "start_time": "2020-04-22T09:08:24.571646Z"
    }
   },
   "outputs": [],
   "source": [
    "G = nx.Graph()\n",
    "\n",
    "# Adding single nodes of various types\n",
    "G.add_node(0)\n",
    "G.add_node(\"A\")\n",
    "G.add_node((\"PI\", 3.141592))\n",
    "G.add_node(frozenset([\"apples\", \"oranges\", \"grapes\", \"onions\"]))"
   ]
  },
  {
   "cell_type": "code",
   "execution_count": 92,
   "metadata": {
    "ExecuteTime": {
     "end_time": "2020-04-22T09:08:24.576537Z",
     "start_time": "2020-04-22T09:08:24.571646Z"
    }
   },
   "outputs": [],
   "source": [
    "# Adding collections of nodes\n",
    "G.add_nodes_from([2, 4, 6, 8, 10])\n",
    "G.add_nodes_from([1/x for x in range(1, 5)])"
   ]
  },
  {
   "cell_type": "markdown",
   "metadata": {
    "jp-MarkdownHeadingCollapsed": true
   },
   "source": [
    "### Listing Nodes"
   ]
  },
  {
   "cell_type": "markdown",
   "metadata": {},
   "source": [
    "Accessing nodes is done using the `nodes` property which is a member of the `Graph` object."
   ]
  },
  {
   "cell_type": "code",
   "execution_count": 93,
   "metadata": {
    "ExecuteTime": {
     "end_time": "2020-04-22T09:09:27.522072Z",
     "start_time": "2020-04-22T09:09:27.518124Z"
    }
   },
   "outputs": [
    {
     "data": {
      "text/plain": [
       "NodeView((0, 'A', ('PI', 3.141592), frozenset({'oranges', 'onions', 'grapes', 'apples'}), 2, 4, 6, 8, 10, 1.0, 0.5, 0.3333333333333333, 0.25))"
      ]
     },
     "execution_count": 93,
     "metadata": {},
     "output_type": "execute_result"
    }
   ],
   "source": [
    "G.nodes"
   ]
  },
  {
   "cell_type": "code",
   "execution_count": 94,
   "metadata": {},
   "outputs": [
    {
     "data": {
      "text/plain": [
       "NodeView((0, 'A', ('PI', 3.141592), frozenset({'oranges', 'onions', 'grapes', 'apples'}), 2, 4, 6, 8, 10, 1.0, 0.5, 0.3333333333333333, 0.25))"
      ]
     },
     "execution_count": 94,
     "metadata": {},
     "output_type": "execute_result"
    }
   ],
   "source": [
    "G.nodes()"
   ]
  },
  {
   "cell_type": "code",
   "execution_count": 95,
   "metadata": {},
   "outputs": [
    {
     "data": {
      "text/plain": [
       "NodeDataView({0: {}, 'A': {}, ('PI', 3.141592): {}, frozenset({'oranges', 'onions', 'grapes', 'apples'}): {}, 2: {}, 4: {}, 6: {}, 8: {}, 10: {}, 1.0: {}, 0.5: {}, 0.3333333333333333: {}, 0.25: {}})"
      ]
     },
     "execution_count": 95,
     "metadata": {},
     "output_type": "execute_result"
    }
   ],
   "source": [
    "G.nodes(data=True)"
   ]
  },
  {
   "cell_type": "markdown",
   "metadata": {},
   "source": [
    "The `nx.Graph.nodes` function in NetworkX returns a `NodeView` object. This object has some interesting properties:\n",
    "\n",
    "\n",
    "* **View of Nodes:** It provides a *view* of the nodes in the graph. This means it's a dynamic representation; if you add or remove nodes from the graph, the `NodeView` object will reflect those changes.\n",
    "* **Iterable:** You can iterate over the `NodeView` to access each node in the graph (e.g., using a `for` loop or converting it to a list).\n",
    "* **Supports Membership Testing:** You can use the `in` operator to check if a specific node exists in the graph (e.g., `'A' in G.nodes`).\n",
    "* **Supports Length:** You can use the `len()` function to get the number of nodes in the graph.\n",
    "* **Node Attributes Access:** If nodes have attributes associated with them, you can access these attributes through the `NodeView`. For example, `G.nodes['A']` will return a dictionary of attributes for node `'A'`. You can also access all node attributes using `G.nodes.data()`.\n",
    "* **Orderable (in Python 3.7+):** In Python 3.7 and later, `dict_keys` (which `NodeView` is based on) maintain insertion order. So, iterating over `G.nodes` will yield nodes in the order they were added to the graph (though you shouldn't rely on a specific order if it's not explicitly important for your algorithm).\n",
    "\n",
    "In essence, `nx.Graph.nodes` gives you an efficient and dynamic way to interact with the set of nodes in your NetworkX graph, allowing you to iterate, check for existence, get the count, and access node-specific information."
   ]
  },
  {
   "cell_type": "markdown",
   "metadata": {},
   "source": [
    "Sometimes to save memory we might only want to access a list of nodes one at a time, so we can use an _iterator_. These are especially useful in long running loops to save memory."
   ]
  },
  {
   "cell_type": "code",
   "execution_count": 96,
   "metadata": {
    "ExecuteTime": {
     "end_time": "2020-04-22T09:09:57.886603Z",
     "start_time": "2020-04-22T09:09:57.881667Z"
    }
   },
   "outputs": [
    {
     "name": "stdout",
     "output_type": "stream",
     "text": [
      "0 is <class 'int'>\n",
      "A is a string\n",
      "('PI', 3.141592) is <class 'tuple'>\n",
      "frozenset({'oranges', 'onions', 'grapes', 'apples'}) is <class 'frozenset'>\n",
      "2 is <class 'int'>\n",
      "4 is <class 'int'>\n",
      "6 is <class 'int'>\n",
      "8 is <class 'int'>\n",
      "10 is <class 'int'>\n",
      "1.0 is <class 'float'>\n",
      "0.5 is <class 'float'>\n",
      "0.3333333333333333 is <class 'float'>\n",
      "0.25 is <class 'float'>\n"
     ]
    }
   ],
   "source": [
    "for n in G.nodes():\n",
    "    print(f\"{n} is a string\") if type(n)==str else print(f\"{n} is {type(n)}\")"
   ]
  },
  {
   "cell_type": "markdown",
   "metadata": {
    "jp-MarkdownHeadingCollapsed": true
   },
   "source": [
    "### Checking whether nodes are in a Graph"
   ]
  },
  {
   "cell_type": "markdown",
   "metadata": {},
   "source": [
    "We can also check to see if a graph has a node several different ways. The easiest is just using the `in` keyword in python, but there is also the `has_node` function."
   ]
  },
  {
   "cell_type": "code",
   "execution_count": 97,
   "metadata": {
    "ExecuteTime": {
     "end_time": "2020-04-22T09:10:16.182685Z",
     "start_time": "2020-04-22T09:10:16.179307Z"
    }
   },
   "outputs": [
    {
     "data": {
      "text/plain": [
       "True"
      ]
     },
     "execution_count": 97,
     "metadata": {},
     "output_type": "execute_result"
    }
   ],
   "source": [
    "2 in G"
   ]
  },
  {
   "cell_type": "code",
   "execution_count": 98,
   "metadata": {
    "ExecuteTime": {
     "end_time": "2020-04-22T09:10:17.075900Z",
     "start_time": "2020-04-22T09:10:17.072423Z"
    }
   },
   "outputs": [
    {
     "data": {
      "text/plain": [
       "False"
      ]
     },
     "execution_count": 98,
     "metadata": {},
     "output_type": "execute_result"
    }
   ],
   "source": [
    "3 in G"
   ]
  },
  {
   "cell_type": "code",
   "execution_count": 99,
   "metadata": {
    "ExecuteTime": {
     "end_time": "2020-04-22T09:10:18.773518Z",
     "start_time": "2020-04-22T09:10:18.768947Z"
    }
   },
   "outputs": [
    {
     "data": {
      "text/plain": [
       "True"
      ]
     },
     "execution_count": 99,
     "metadata": {},
     "output_type": "execute_result"
    }
   ],
   "source": [
    "G.has_node(\"A\")"
   ]
  },
  {
   "cell_type": "code",
   "execution_count": 100,
   "metadata": {
    "ExecuteTime": {
     "end_time": "2020-04-22T09:10:19.424151Z",
     "start_time": "2020-04-22T09:10:19.419885Z"
    }
   },
   "outputs": [
    {
     "data": {
      "text/plain": [
       "False"
      ]
     },
     "execution_count": 100,
     "metadata": {},
     "output_type": "execute_result"
    }
   ],
   "source": [
    "G.has_node(\"B\")"
   ]
  },
  {
   "cell_type": "markdown",
   "metadata": {
    "jp-MarkdownHeadingCollapsed": true
   },
   "source": [
    "### Node attributes"
   ]
  },
  {
   "cell_type": "markdown",
   "metadata": {},
   "source": [
    "You can also add attributes to nodes. This can be handy for storing information about nodes within the graph object. This can be done when you create new nodes using keyword arguments to the `add_node` and `add_nodes_from` function"
   ]
  },
  {
   "cell_type": "code",
   "execution_count": 101,
   "metadata": {
    "ExecuteTime": {
     "end_time": "2020-04-22T09:10:37.487547Z",
     "start_time": "2020-04-22T09:10:37.484902Z"
    }
   },
   "outputs": [],
   "source": [
    "G = nx.Graph()\n",
    "\n",
    "G.add_node(\"sprite\", company=\"Coca-Cola Co.\", food=\"soft drink\")"
   ]
  },
  {
   "cell_type": "markdown",
   "metadata": {},
   "source": [
    "When using `add_nodes_from` you provide a tuple with the first element being the node, and the second being a dictionary of attributes for that node. You can also add attributes which will be applied to all added nodes using keyword arguments"
   ]
  },
  {
   "cell_type": "code",
   "execution_count": 102,
   "metadata": {
    "ExecuteTime": {
     "end_time": "2020-04-22T09:10:43.359798Z",
     "start_time": "2020-04-22T09:10:43.356705Z"
    }
   },
   "outputs": [],
   "source": [
    "G.add_nodes_from(\n",
    "    [\n",
    "        (\"chunky monkey\", {\"company\": \"Ben & Jerrys\", \"food\":\"ice cream\"}),\n",
    "        (\"oreos\", {\"company\": \"Mondelēz International\"}),\n",
    "        (\"heineken\", {\"firma\": \"Heineken N.V.\"})\n",
    "    ], allergens=None)"
   ]
  },
  {
   "cell_type": "markdown",
   "metadata": {},
   "source": [
    "\n",
    "To list node attributes you need to provide the `data=True` keyword to the `nodes` and `nodes_iter` functions"
   ]
  },
  {
   "cell_type": "code",
   "execution_count": 103,
   "metadata": {
    "ExecuteTime": {
     "end_time": "2020-04-22T09:10:47.178525Z",
     "start_time": "2020-04-22T09:10:47.175068Z"
    }
   },
   "outputs": [
    {
     "data": {
      "text/plain": [
       "NodeDataView({'sprite': {'company': 'Coca-Cola Co.', 'food': 'soft drink'}, 'chunky monkey': {'allergens': None, 'company': 'Ben & Jerrys', 'food': 'ice cream'}, 'oreos': {'allergens': None, 'company': 'Mondelēz International'}, 'heineken': {'allergens': None, 'firma': 'Heineken N.V.'}})"
      ]
     },
     "execution_count": 103,
     "metadata": {},
     "output_type": "execute_result"
    }
   ],
   "source": [
    "G.nodes(data=True)"
   ]
  },
  {
   "cell_type": "markdown",
   "metadata": {},
   "source": [
    "`NodeView` (obtained via `G.nodes`) provides an iterable view of only the node labels within a graph, allowing for simple iteration and membership testing of nodes. `NodeDataView` (obtained via `G.nodes.data()`) offers an iterable view of the nodes paired with their attribute dictionaries, enabling direct access to node properties during iteration as tuples of (node, attribute dictionary). Essentially, `NodeView` focuses on the existence and identity of nodes, while `NodeDataView` extends this by providing immediate access to the associated data for each node."
   ]
  },
  {
   "cell_type": "markdown",
   "metadata": {},
   "source": [
    "Attributes are stored in a special dictionary within the graph called `nodes` you can access, edit and remove attributes there"
   ]
  },
  {
   "cell_type": "code",
   "execution_count": 104,
   "metadata": {},
   "outputs": [
    {
     "data": {
      "text/plain": [
       "NodeView(('sprite', 'chunky monkey', 'oreos', 'heineken'))"
      ]
     },
     "execution_count": 104,
     "metadata": {},
     "output_type": "execute_result"
    }
   ],
   "source": [
    "# list all nodes\n",
    "G.nodes"
   ]
  },
  {
   "cell_type": "code",
   "execution_count": 105,
   "metadata": {
    "ExecuteTime": {
     "end_time": "2020-04-22T09:10:51.215782Z",
     "start_time": "2020-04-22T09:10:51.212175Z"
    }
   },
   "outputs": [
    {
     "data": {
      "text/plain": [
       "{'company': 'Coca-Cola Co.', 'food': 'soft drink'}"
      ]
     },
     "execution_count": 105,
     "metadata": {},
     "output_type": "execute_result"
    }
   ],
   "source": [
    "# lookup a single node's attributes\n",
    "G.nodes[\"sprite\"]"
   ]
  },
  {
   "cell_type": "code",
   "execution_count": 106,
   "metadata": {
    "ExecuteTime": {
     "end_time": "2020-04-22T09:10:53.090959Z",
     "start_time": "2020-04-22T09:10:53.087697Z"
    }
   },
   "outputs": [],
   "source": [
    "G.nodes[\"sprite\"][\"available\"] = False # add new attribute to a node\n",
    "\n",
    "G.nodes[\"sprite\"][\"food\"] = \"soda\" # modify existing attribute of a node\n",
    "\n",
    "del G.nodes[\"sprite\"][\"company\"] # delete an attribute of a node"
   ]
  },
  {
   "cell_type": "code",
   "execution_count": 107,
   "metadata": {
    "ExecuteTime": {
     "end_time": "2020-04-22T09:10:55.256011Z",
     "start_time": "2020-04-22T09:10:55.252842Z"
    }
   },
   "outputs": [
    {
     "data": {
      "text/plain": [
       "{'food': 'soda', 'available': False}"
      ]
     },
     "execution_count": 107,
     "metadata": {},
     "output_type": "execute_result"
    }
   ],
   "source": [
    "G.nodes[\"sprite\"]"
   ]
  },
  {
   "cell_type": "markdown",
   "metadata": {},
   "source": [
    "Similiarly, you can remove nodes with the `remove_node` and `remove_nodes_from` functions"
   ]
  },
  {
   "cell_type": "code",
   "execution_count": 108,
   "metadata": {
    "ExecuteTime": {
     "end_time": "2020-04-22T09:10:59.952682Z",
     "start_time": "2020-04-22T09:10:59.949625Z"
    }
   },
   "outputs": [],
   "source": [
    "G = nx.Graph()\n",
    "\n",
    "G.add_nodes_from(range(1, 10))\n",
    "\n",
    "G.remove_node(9)\n",
    "G.remove_nodes_from([1, 2, 3, 5, 7])"
   ]
  },
  {
   "cell_type": "code",
   "execution_count": 109,
   "metadata": {
    "ExecuteTime": {
     "end_time": "2020-04-22T09:11:04.278953Z",
     "start_time": "2020-04-22T09:11:04.275041Z"
    }
   },
   "outputs": [
    {
     "data": {
      "text/plain": [
       "NodeView((4, 6, 8))"
      ]
     },
     "execution_count": 109,
     "metadata": {},
     "output_type": "execute_result"
    }
   ],
   "source": [
    "G.nodes()"
   ]
  },
  {
   "cell_type": "markdown",
   "metadata": {},
   "source": [
    "### Exercises"
   ]
  },
  {
   "cell_type": "markdown",
   "metadata": {},
   "source": [
    "#### Repeated Nodes"
   ]
  },
  {
   "cell_type": "markdown",
   "metadata": {},
   "source": [
    "1. What happens when you add nodes to a graph that already exist?\n",
    "2. What happens when you add nodes to the graph that already exist but have new attributes?\n",
    "3. What happens when you add nodes to a graph with attributes different from existing nodes?\n",
    "4. Try removing a node that doesn't exist, what happens?"
   ]
  },
  {
   "cell_type": "code",
   "execution_count": 110,
   "metadata": {},
   "outputs": [
    {
     "data": {
      "text/plain": [
       "NodeView((1,))"
      ]
     },
     "execution_count": 110,
     "metadata": {},
     "output_type": "execute_result"
    }
   ],
   "source": [
    "G = nx.Graph()\n",
    "G.add_node(1)\n",
    "G.add_node(1)\n",
    "G.nodes()"
   ]
  },
  {
   "cell_type": "code",
   "execution_count": 111,
   "metadata": {},
   "outputs": [
    {
     "data": {
      "text/plain": [
       "NodeDataView({1: {'name': 'A', 'test': 'test'}})"
      ]
     },
     "execution_count": 111,
     "metadata": {},
     "output_type": "execute_result"
    }
   ],
   "source": [
    "G = nx.Graph()\n",
    "G.add_node(1, name='A')\n",
    "G.add_node(1, name='A', test='test')\n",
    "G.nodes(data=True)"
   ]
  },
  {
   "cell_type": "code",
   "execution_count": 112,
   "metadata": {},
   "outputs": [
    {
     "data": {
      "text/plain": [
       "NodeDataView({1: {'name': 'B'}})"
      ]
     },
     "execution_count": 112,
     "metadata": {},
     "output_type": "execute_result"
    }
   ],
   "source": [
    "G = nx.Graph()\n",
    "G.add_node(1, name='A')\n",
    "G.add_node(1, name='B')\n",
    "G.nodes(data=True)"
   ]
  },
  {
   "cell_type": "code",
   "execution_count": 113,
   "metadata": {},
   "outputs": [],
   "source": [
    "G = nx.Graph()\n",
    "G.add_node(1)\n",
    "# G.remove_node(2) NetworkXError: The node 2 is not in the graph."
   ]
  },
  {
   "cell_type": "markdown",
   "metadata": {},
   "source": [
    "#### The FizzBuzz Graph"
   ]
  },
  {
   "cell_type": "markdown",
   "metadata": {},
   "source": [
    "Make a new graph, `FizzBuzz`. Add nodes labeled 0 to 100 to the graph. Each node should have an attribute `fizz` and `buzz`. If the nodes label is divisble by 3 `fizz=True` if it is divisble by 5 `buzz=True`, otherwise both are false."
   ]
  },
  {
   "cell_type": "code",
   "execution_count": 114,
   "metadata": {},
   "outputs": [
    {
     "data": {
      "text/plain": [
       "NodeDataView({1: {'fizz': False, 'buzz': False}, 2: {'fizz': False, 'buzz': False}, 3: {'fizz': True, 'buzz': False}, 4: {'fizz': False, 'buzz': False}, 5: {'fizz': False, 'buzz': True}, 6: {'fizz': True, 'buzz': False}, 7: {'fizz': False, 'buzz': False}, 8: {'fizz': False, 'buzz': False}, 9: {'fizz': True, 'buzz': False}, 10: {'fizz': False, 'buzz': True}, 11: {'fizz': False, 'buzz': False}, 12: {'fizz': True, 'buzz': False}, 13: {'fizz': False, 'buzz': False}, 14: {'fizz': False, 'buzz': False}, 15: {'fizz': True, 'buzz': True}, 16: {'fizz': False, 'buzz': False}, 17: {'fizz': False, 'buzz': False}, 18: {'fizz': True, 'buzz': False}, 19: {'fizz': False, 'buzz': False}, 20: {'fizz': False, 'buzz': True}, 21: {'fizz': True, 'buzz': False}, 22: {'fizz': False, 'buzz': False}, 23: {'fizz': False, 'buzz': False}, 24: {'fizz': True, 'buzz': False}, 25: {'fizz': False, 'buzz': True}, 26: {'fizz': False, 'buzz': False}, 27: {'fizz': True, 'buzz': False}, 28: {'fizz': False, 'buzz': False}, 29: {'fizz': False, 'buzz': False}, 30: {'fizz': True, 'buzz': True}, 31: {'fizz': False, 'buzz': False}, 32: {'fizz': False, 'buzz': False}, 33: {'fizz': True, 'buzz': False}, 34: {'fizz': False, 'buzz': False}, 35: {'fizz': False, 'buzz': True}, 36: {'fizz': True, 'buzz': False}, 37: {'fizz': False, 'buzz': False}, 38: {'fizz': False, 'buzz': False}, 39: {'fizz': True, 'buzz': False}, 40: {'fizz': False, 'buzz': True}, 41: {'fizz': False, 'buzz': False}, 42: {'fizz': True, 'buzz': False}, 43: {'fizz': False, 'buzz': False}, 44: {'fizz': False, 'buzz': False}, 45: {'fizz': True, 'buzz': True}, 46: {'fizz': False, 'buzz': False}, 47: {'fizz': False, 'buzz': False}, 48: {'fizz': True, 'buzz': False}, 49: {'fizz': False, 'buzz': False}, 50: {'fizz': False, 'buzz': True}, 51: {'fizz': True, 'buzz': False}, 52: {'fizz': False, 'buzz': False}, 53: {'fizz': False, 'buzz': False}, 54: {'fizz': True, 'buzz': False}, 55: {'fizz': False, 'buzz': True}, 56: {'fizz': False, 'buzz': False}, 57: {'fizz': True, 'buzz': False}, 58: {'fizz': False, 'buzz': False}, 59: {'fizz': False, 'buzz': False}, 60: {'fizz': True, 'buzz': True}, 61: {'fizz': False, 'buzz': False}, 62: {'fizz': False, 'buzz': False}, 63: {'fizz': True, 'buzz': False}, 64: {'fizz': False, 'buzz': False}, 65: {'fizz': False, 'buzz': True}, 66: {'fizz': True, 'buzz': False}, 67: {'fizz': False, 'buzz': False}, 68: {'fizz': False, 'buzz': False}, 69: {'fizz': True, 'buzz': False}, 70: {'fizz': False, 'buzz': True}, 71: {'fizz': False, 'buzz': False}, 72: {'fizz': True, 'buzz': False}, 73: {'fizz': False, 'buzz': False}, 74: {'fizz': False, 'buzz': False}, 75: {'fizz': True, 'buzz': True}, 76: {'fizz': False, 'buzz': False}, 77: {'fizz': False, 'buzz': False}, 78: {'fizz': True, 'buzz': False}, 79: {'fizz': False, 'buzz': False}, 80: {'fizz': False, 'buzz': True}, 81: {'fizz': True, 'buzz': False}, 82: {'fizz': False, 'buzz': False}, 83: {'fizz': False, 'buzz': False}, 84: {'fizz': True, 'buzz': False}, 85: {'fizz': False, 'buzz': True}, 86: {'fizz': False, 'buzz': False}, 87: {'fizz': True, 'buzz': False}, 88: {'fizz': False, 'buzz': False}, 89: {'fizz': False, 'buzz': False}, 90: {'fizz': True, 'buzz': True}, 91: {'fizz': False, 'buzz': False}, 92: {'fizz': False, 'buzz': False}, 93: {'fizz': True, 'buzz': False}, 94: {'fizz': False, 'buzz': False}, 95: {'fizz': False, 'buzz': True}, 96: {'fizz': True, 'buzz': False}, 97: {'fizz': False, 'buzz': False}, 98: {'fizz': False, 'buzz': False}, 99: {'fizz': True, 'buzz': False}})"
      ]
     },
     "execution_count": 114,
     "metadata": {},
     "output_type": "execute_result"
    }
   ],
   "source": [
    "FizzBuzzGraph = nx.Graph()\n",
    "FizzBuzzGraph.add_nodes_from([(x, {\"fizz\": x % 3 == 0, \"buzz\": x % 5 == 0}) for x in range(1, 100)])\n",
    "FizzBuzzGraph.nodes(data=True)"
   ]
  },
  {
   "cell_type": "markdown",
   "metadata": {},
   "source": [
    "## Edges"
   ]
  },
  {
   "cell_type": "markdown",
   "metadata": {},
   "source": [
    "Adding edges is similar to adding nodes. They can be added, using either `add_edge` or `add_edges_from`. They can also have attributes in the same way nodes can. If you add an edge that includes a node that doesn't exist it will create it for you"
   ]
  },
  {
   "cell_type": "code",
   "execution_count": 115,
   "metadata": {
    "ExecuteTime": {
     "end_time": "2020-04-22T09:11:34.219684Z",
     "start_time": "2020-04-22T09:11:34.217104Z"
    }
   },
   "outputs": [
    {
     "data": {
      "text/plain": [
       "(NodeView(('bacon', 'eggs', 'orange juice', 'coffee', 'soup', 'salad')),\n",
       " EdgeView([('bacon', 'eggs'), ('orange juice', 'coffee'), ('soup', 'salad')]))"
      ]
     },
     "execution_count": 115,
     "metadata": {},
     "output_type": "execute_result"
    }
   ],
   "source": [
    "G1 = nx.Graph()\n",
    "\n",
    "G1.add_edge(\"bacon\", \"eggs\", breakfast=True)\n",
    "G1.add_edge(\"orange juice\", \"coffee\", breakfast=True)\n",
    "G1.add_edge(\"soup\", \"salad\", breakfast=False)\n",
    "\n",
    "G1.nodes, G1.edges"
   ]
  },
  {
   "cell_type": "code",
   "execution_count": 116,
   "metadata": {},
   "outputs": [
    {
     "data": {
      "text/plain": [
       "EdgeView([('bacon', 'eggs'), ('orange juice', 'coffee'), ('soup', 'salad')])"
      ]
     },
     "execution_count": 116,
     "metadata": {},
     "output_type": "execute_result"
    }
   ],
   "source": [
    "G1.edges()"
   ]
  },
  {
   "cell_type": "markdown",
   "metadata": {},
   "source": [
    "A simple way to create edges is to use list comprehension"
   ]
  },
  {
   "cell_type": "code",
   "execution_count": 117,
   "metadata": {
    "ExecuteTime": {
     "end_time": "2020-04-22T09:11:35.479260Z",
     "start_time": "2020-04-22T09:11:35.476691Z"
    }
   },
   "outputs": [
    {
     "data": {
      "text/plain": [
       "EdgeView([(2, 4), (4, 6), (6, 8), (8, 10), (10, 12), (12, 14), (14, 16), (16, 18), (18, 20)])"
      ]
     },
     "execution_count": 117,
     "metadata": {},
     "output_type": "execute_result"
    }
   ],
   "source": [
    "G2 = nx.Graph()\n",
    "\n",
    "G2.add_edges_from(\n",
    "    [\n",
    "        (i, i+2) \n",
    "        for i in range(2, 20, 2)\n",
    "    ]\n",
    ")\n",
    "G2.edges"
   ]
  },
  {
   "cell_type": "markdown",
   "metadata": {},
   "source": [
    "Similarly to nodes, graph edges can be accessed either by `Graph.edges` or `Grpah.edges()`. Both functions produce an object of the type `EdgeView`. `EdgeView` provides a dynamic view of the edges in a graph, represented as tuples of the connected nodes (e.g., `{u, v}` for undirected graphs, and `(u, v)` for directed graphs. This view is iterable, allowing you to easily loop through all the edges in the graph, and it dynamically reflects any additions or removals of edges. For graphs with edge attributes, you can access these attributes by iterating through `G.edges(data=True)`, which yields an object of the type `EdgeDataView`, a list of tuples of `(u, v, attributes_dictionary)`."
   ]
  },
  {
   "cell_type": "code",
   "execution_count": 118,
   "metadata": {
    "ExecuteTime": {
     "end_time": "2020-04-22T09:11:38.437695Z",
     "start_time": "2020-04-22T09:11:38.434345Z"
    }
   },
   "outputs": [
    {
     "data": {
      "text/plain": [
       "EdgeView([(2, 4), (4, 6), (6, 8), (8, 10), (10, 12), (12, 14), (14, 16), (16, 18), (18, 20)])"
      ]
     },
     "execution_count": 118,
     "metadata": {},
     "output_type": "execute_result"
    }
   ],
   "source": [
    "G2.edges()"
   ]
  },
  {
   "cell_type": "code",
   "execution_count": 119,
   "metadata": {
    "ExecuteTime": {
     "end_time": "2020-04-22T09:11:39.612222Z",
     "start_time": "2020-04-22T09:11:39.608300Z"
    }
   },
   "outputs": [
    {
     "data": {
      "text/plain": [
       "(EdgeView([('bacon', 'eggs'), ('orange juice', 'coffee'), ('soup', 'salad')]),\n",
       " EdgeDataView([('bacon', 'eggs', {'breakfast': True}), ('orange juice', 'coffee', {'breakfast': True}), ('soup', 'salad', {'breakfast': False})]))"
      ]
     },
     "execution_count": 119,
     "metadata": {},
     "output_type": "execute_result"
    }
   ],
   "source": [
    "G1.edges, G1.edges(data=True)"
   ]
  },
  {
   "cell_type": "markdown",
   "metadata": {},
   "source": [
    "If you want to limit the list of edges to a subset of nodes, you have to pass this subset as an argument to the `nx.Graph.edges()` funcion"
   ]
  },
  {
   "cell_type": "code",
   "execution_count": 120,
   "metadata": {},
   "outputs": [
    {
     "data": {
      "text/plain": [
       "EdgeDataView([(2, 4), (4, 6), (6, 8), (8, 10)])"
      ]
     },
     "execution_count": 120,
     "metadata": {},
     "output_type": "execute_result"
    }
   ],
   "source": [
    "G2.edges(range(10))"
   ]
  },
  {
   "cell_type": "markdown",
   "metadata": {},
   "source": [
    "Removing edges is accomplished by using the `remove_edge` or `remove_edges_from` function. Remove edge attributes can be done by indexing into the graph"
   ]
  },
  {
   "cell_type": "code",
   "execution_count": 121,
   "metadata": {},
   "outputs": [
    {
     "data": {
      "text/plain": [
       "AtlasView({'bacon': {'breakfast': True}})"
      ]
     },
     "execution_count": 121,
     "metadata": {},
     "output_type": "execute_result"
    }
   ],
   "source": [
    "G1[\"eggs\"]"
   ]
  },
  {
   "cell_type": "code",
   "execution_count": 122,
   "metadata": {
    "ExecuteTime": {
     "end_time": "2020-04-22T09:11:42.272053Z",
     "start_time": "2020-04-22T09:11:42.268676Z"
    }
   },
   "outputs": [
    {
     "data": {
      "text/plain": [
       "{'breakfast': True}"
      ]
     },
     "execution_count": 122,
     "metadata": {},
     "output_type": "execute_result"
    }
   ],
   "source": [
    "G1[\"eggs\"][\"bacon\"]"
   ]
  },
  {
   "cell_type": "code",
   "execution_count": 123,
   "metadata": {},
   "outputs": [
    {
     "data": {
      "text/plain": [
       "{'breakfast': True}"
      ]
     },
     "execution_count": 123,
     "metadata": {},
     "output_type": "execute_result"
    }
   ],
   "source": [
    "G1[\"bacon\"][\"eggs\"]"
   ]
  },
  {
   "cell_type": "code",
   "execution_count": 124,
   "metadata": {
    "ExecuteTime": {
     "end_time": "2020-04-22T09:11:42.592212Z",
     "start_time": "2020-04-22T09:11:42.589676Z"
    }
   },
   "outputs": [
    {
     "data": {
      "text/plain": [
       "EdgeDataView([('bacon', 'eggs', {}), ('orange juice', 'coffee', {'breakfast': True}), ('soup', 'salad', {'breakfast': False})])"
      ]
     },
     "execution_count": 124,
     "metadata": {},
     "output_type": "execute_result"
    }
   ],
   "source": [
    "del G1[\"eggs\"][\"bacon\"][\"breakfast\"] # delete edge attriute\n",
    "\n",
    "G1.edges(data=True)"
   ]
  },
  {
   "cell_type": "code",
   "execution_count": 125,
   "metadata": {
    "ExecuteTime": {
     "end_time": "2020-04-22T09:11:43.145733Z",
     "start_time": "2020-04-22T09:11:43.143108Z"
    }
   },
   "outputs": [],
   "source": [
    "G1.remove_edge(\"eggs\", \"bacon\") # delete an edge"
   ]
  },
  {
   "cell_type": "code",
   "execution_count": 126,
   "metadata": {
    "ExecuteTime": {
     "end_time": "2020-04-22T09:11:44.246975Z",
     "start_time": "2020-04-22T09:11:44.243358Z"
    }
   },
   "outputs": [
    {
     "data": {
      "text/plain": [
       "EdgeDataView([('orange juice', 'coffee', {'breakfast': True}), ('soup', 'salad', {'breakfast': False})])"
      ]
     },
     "execution_count": 126,
     "metadata": {},
     "output_type": "execute_result"
    }
   ],
   "source": [
    "G1.edges(data=True)"
   ]
  },
  {
   "cell_type": "markdown",
   "metadata": {},
   "source": [
    "You can check for the existance of edges with `has_edge`"
   ]
  },
  {
   "cell_type": "code",
   "execution_count": 127,
   "metadata": {},
   "outputs": [
    {
     "data": {
      "text/plain": [
       "(False, True, True)"
      ]
     },
     "execution_count": 127,
     "metadata": {},
     "output_type": "execute_result"
    }
   ],
   "source": [
    "(\"eggs\", \"bacon\") in G1.edges, (\"orange juice\", \"coffee\") in G1.edges, G1.has_edge(\"soup\", \"salad\")"
   ]
  },
  {
   "cell_type": "markdown",
   "metadata": {},
   "source": [
    "For directed graphs, ordering matters. `add_edge(u,v)` will add an edge from `u` to `v`"
   ]
  },
  {
   "cell_type": "code",
   "execution_count": 128,
   "metadata": {
    "ExecuteTime": {
     "end_time": "2020-04-22T09:11:49.106659Z",
     "start_time": "2020-04-22T09:11:49.104147Z"
    }
   },
   "outputs": [
    {
     "data": {
      "text/plain": [
       "OutEdgeView([(0, 2), (1, 3), (2, 4), (3, 5), (4, 6), (5, 7), (6, 8), (7, 9)])"
      ]
     },
     "execution_count": 128,
     "metadata": {},
     "output_type": "execute_result"
    }
   ],
   "source": [
    "D = nx.DiGraph()\n",
    "\n",
    "D.add_nodes_from(range(10))\n",
    "D.add_edges_from([(i,i+2) for i in range(8)])\n",
    "\n",
    "D.edges()"
   ]
  },
  {
   "cell_type": "code",
   "execution_count": 129,
   "metadata": {
    "ExecuteTime": {
     "end_time": "2020-04-22T09:11:51.475241Z",
     "start_time": "2020-04-22T09:11:51.471965Z"
    }
   },
   "outputs": [
    {
     "data": {
      "text/plain": [
       "(True, False)"
      ]
     },
     "execution_count": 129,
     "metadata": {},
     "output_type": "execute_result"
    }
   ],
   "source": [
    "D.has_edge(0, 2), D.has_edge(2, 0)"
   ]
  },
  {
   "cell_type": "markdown",
   "metadata": {},
   "source": [
    "### Exercises"
   ]
  },
  {
   "cell_type": "markdown",
   "metadata": {},
   "source": [
    "For the `FizzBuzz` graph, add edges betweeen two nodes `u` and `v` if they are both divisible by 2 or by 7. Each edge should include attributes `div2` and `div7` which are true if `u` and `v` are divisible by 2 and 7 respecitively. Exclude self loops."
   ]
  },
  {
   "cell_type": "code",
   "execution_count": 130,
   "metadata": {},
   "outputs": [
    {
     "data": {
      "text/plain": [
       "EdgeDataView([(1, 2, {'div2': False, 'div7': False}), (1, 3, {'div2': False, 'div7': False}), (1, 4, {'div2': False, 'div7': False}), (1, 5, {'div2': False, 'div7': False}), (1, 6, {'div2': False, 'div7': False}), (1, 7, {'div2': False, 'div7': False}), (1, 8, {'div2': False, 'div7': False}), (1, 9, {'div2': False, 'div7': False}), (1, 10, {'div2': False, 'div7': False}), (1, 11, {'div2': False, 'div7': False}), (1, 12, {'div2': False, 'div7': False}), (1, 13, {'div2': False, 'div7': False}), (1, 14, {'div2': False, 'div7': False}), (1, 15, {'div2': False, 'div7': False}), (1, 16, {'div2': False, 'div7': False}), (1, 17, {'div2': False, 'div7': False}), (1, 18, {'div2': False, 'div7': False}), (1, 19, {'div2': False, 'div7': False}), (1, 20, {'div2': False, 'div7': False}), (1, 21, {'div2': False, 'div7': False}), (1, 22, {'div2': False, 'div7': False}), (1, 23, {'div2': False, 'div7': False}), (1, 24, {'div2': False, 'div7': False}), (1, 25, {'div2': False, 'div7': False}), (1, 26, {'div2': False, 'div7': False}), (1, 27, {'div2': False, 'div7': False}), (1, 28, {'div2': False, 'div7': False}), (1, 29, {'div2': False, 'div7': False}), (1, 30, {'div2': False, 'div7': False}), (1, 31, {'div2': False, 'div7': False}), (1, 32, {'div2': False, 'div7': False}), (1, 33, {'div2': False, 'div7': False}), (1, 34, {'div2': False, 'div7': False}), (1, 35, {'div2': False, 'div7': False}), (1, 36, {'div2': False, 'div7': False}), (1, 37, {'div2': False, 'div7': False}), (1, 38, {'div2': False, 'div7': False}), (1, 39, {'div2': False, 'div7': False}), (1, 40, {'div2': False, 'div7': False}), (1, 41, {'div2': False, 'div7': False}), (1, 42, {'div2': False, 'div7': False}), (1, 43, {'div2': False, 'div7': False}), (1, 44, {'div2': False, 'div7': False}), (1, 45, {'div2': False, 'div7': False}), (1, 46, {'div2': False, 'div7': False}), (1, 47, {'div2': False, 'div7': False}), (1, 48, {'div2': False, 'div7': False}), (1, 49, {'div2': False, 'div7': False}), (1, 50, {'div2': False, 'div7': False}), (1, 51, {'div2': False, 'div7': False}), (1, 52, {'div2': False, 'div7': False}), (1, 53, {'div2': False, 'div7': False}), (1, 54, {'div2': False, 'div7': False}), (1, 55, {'div2': False, 'div7': False}), (1, 56, {'div2': False, 'div7': False}), (1, 57, {'div2': False, 'div7': False}), (1, 58, {'div2': False, 'div7': False}), (1, 59, {'div2': False, 'div7': False}), (1, 60, {'div2': False, 'div7': False}), (1, 61, {'div2': False, 'div7': False}), (1, 62, {'div2': False, 'div7': False}), (1, 63, {'div2': False, 'div7': False}), (1, 64, {'div2': False, 'div7': False}), (1, 65, {'div2': False, 'div7': False}), (1, 66, {'div2': False, 'div7': False}), (1, 67, {'div2': False, 'div7': False}), (1, 68, {'div2': False, 'div7': False}), (1, 69, {'div2': False, 'div7': False}), (1, 70, {'div2': False, 'div7': False}), (1, 71, {'div2': False, 'div7': False}), (1, 72, {'div2': False, 'div7': False}), (1, 73, {'div2': False, 'div7': False}), (1, 74, {'div2': False, 'div7': False}), (1, 75, {'div2': False, 'div7': False}), (1, 76, {'div2': False, 'div7': False}), (1, 77, {'div2': False, 'div7': False}), (1, 78, {'div2': False, 'div7': False}), (1, 79, {'div2': False, 'div7': False}), (1, 80, {'div2': False, 'div7': False}), (1, 81, {'div2': False, 'div7': False}), (1, 82, {'div2': False, 'div7': False}), (1, 83, {'div2': False, 'div7': False}), (1, 84, {'div2': False, 'div7': False}), (1, 85, {'div2': False, 'div7': False}), (1, 86, {'div2': False, 'div7': False}), (1, 87, {'div2': False, 'div7': False}), (1, 88, {'div2': False, 'div7': False}), (1, 89, {'div2': False, 'div7': False}), (1, 90, {'div2': False, 'div7': False}), (1, 91, {'div2': False, 'div7': False}), (1, 92, {'div2': False, 'div7': False}), (1, 93, {'div2': False, 'div7': False}), (1, 94, {'div2': False, 'div7': False}), (1, 95, {'div2': False, 'div7': False}), (1, 96, {'div2': False, 'div7': False}), (1, 97, {'div2': False, 'div7': False}), (1, 98, {'div2': False, 'div7': False}), (1, 99, {'div2': False, 'div7': False}), (2, 3, {'div2': False, 'div7': False}), (2, 4, {'div2': True, 'div7': False}), (2, 5, {'div2': False, 'div7': False}), (2, 6, {'div2': True, 'div7': False}), (2, 7, {'div2': False, 'div7': False}), (2, 8, {'div2': True, 'div7': False}), (2, 9, {'div2': False, 'div7': False}), (2, 10, {'div2': True, 'div7': False}), (2, 11, {'div2': False, 'div7': False}), (2, 12, {'div2': True, 'div7': False}), (2, 13, {'div2': False, 'div7': False}), (2, 14, {'div2': True, 'div7': False}), (2, 15, {'div2': False, 'div7': False}), (2, 16, {'div2': True, 'div7': False}), (2, 17, {'div2': False, 'div7': False}), (2, 18, {'div2': True, 'div7': False}), (2, 19, {'div2': False, 'div7': False}), (2, 20, {'div2': True, 'div7': False}), (2, 21, {'div2': False, 'div7': False}), (2, 22, {'div2': True, 'div7': False}), (2, 23, {'div2': False, 'div7': False}), (2, 24, {'div2': True, 'div7': False}), (2, 25, {'div2': False, 'div7': False}), (2, 26, {'div2': True, 'div7': False}), (2, 27, {'div2': False, 'div7': False}), (2, 28, {'div2': True, 'div7': False}), (2, 29, {'div2': False, 'div7': False}), (2, 30, {'div2': True, 'div7': False}), (2, 31, {'div2': False, 'div7': False}), (2, 32, {'div2': True, 'div7': False}), (2, 33, {'div2': False, 'div7': False}), (2, 34, {'div2': True, 'div7': False}), (2, 35, {'div2': False, 'div7': False}), (2, 36, {'div2': True, 'div7': False}), (2, 37, {'div2': False, 'div7': False}), (2, 38, {'div2': True, 'div7': False}), (2, 39, {'div2': False, 'div7': False}), (2, 40, {'div2': True, 'div7': False}), (2, 41, {'div2': False, 'div7': False}), (2, 42, {'div2': True, 'div7': False}), (2, 43, {'div2': False, 'div7': False}), (2, 44, {'div2': True, 'div7': False}), (2, 45, {'div2': False, 'div7': False}), (2, 46, {'div2': True, 'div7': False}), (2, 47, {'div2': False, 'div7': False}), (2, 48, {'div2': True, 'div7': False}), (2, 49, {'div2': False, 'div7': False}), (2, 50, {'div2': True, 'div7': False}), (2, 51, {'div2': False, 'div7': False}), (2, 52, {'div2': True, 'div7': False}), (2, 53, {'div2': False, 'div7': False}), (2, 54, {'div2': True, 'div7': False}), (2, 55, {'div2': False, 'div7': False}), (2, 56, {'div2': True, 'div7': False}), (2, 57, {'div2': False, 'div7': False}), (2, 58, {'div2': True, 'div7': False}), (2, 59, {'div2': False, 'div7': False}), (2, 60, {'div2': True, 'div7': False}), (2, 61, {'div2': False, 'div7': False}), (2, 62, {'div2': True, 'div7': False}), (2, 63, {'div2': False, 'div7': False}), (2, 64, {'div2': True, 'div7': False}), (2, 65, {'div2': False, 'div7': False}), (2, 66, {'div2': True, 'div7': False}), (2, 67, {'div2': False, 'div7': False}), (2, 68, {'div2': True, 'div7': False}), (2, 69, {'div2': False, 'div7': False}), (2, 70, {'div2': True, 'div7': False}), (2, 71, {'div2': False, 'div7': False}), (2, 72, {'div2': True, 'div7': False}), (2, 73, {'div2': False, 'div7': False}), (2, 74, {'div2': True, 'div7': False}), (2, 75, {'div2': False, 'div7': False}), (2, 76, {'div2': True, 'div7': False}), (2, 77, {'div2': False, 'div7': False}), (2, 78, {'div2': True, 'div7': False}), (2, 79, {'div2': False, 'div7': False}), (2, 80, {'div2': True, 'div7': False}), (2, 81, {'div2': False, 'div7': False}), (2, 82, {'div2': True, 'div7': False}), (2, 83, {'div2': False, 'div7': False}), (2, 84, {'div2': True, 'div7': False}), (2, 85, {'div2': False, 'div7': False}), (2, 86, {'div2': True, 'div7': False}), (2, 87, {'div2': False, 'div7': False}), (2, 88, {'div2': True, 'div7': False}), (2, 89, {'div2': False, 'div7': False}), (2, 90, {'div2': True, 'div7': False}), (2, 91, {'div2': False, 'div7': False}), (2, 92, {'div2': True, 'div7': False}), (2, 93, {'div2': False, 'div7': False}), (2, 94, {'div2': True, 'div7': False}), (2, 95, {'div2': False, 'div7': False}), (2, 96, {'div2': True, 'div7': False}), (2, 97, {'div2': False, 'div7': False}), (2, 98, {'div2': True, 'div7': False}), (2, 99, {'div2': False, 'div7': False}), (3, 4, {'div2': False, 'div7': False}), (3, 5, {'div2': False, 'div7': False}), (3, 6, {'div2': False, 'div7': False}), (3, 7, {'div2': False, 'div7': False}), (3, 8, {'div2': False, 'div7': False}), (3, 9, {'div2': False, 'div7': False}), (3, 10, {'div2': False, 'div7': False}), (3, 11, {'div2': False, 'div7': False}), (3, 12, {'div2': False, 'div7': False}), (3, 13, {'div2': False, 'div7': False}), (3, 14, {'div2': False, 'div7': False}), (3, 15, {'div2': False, 'div7': False}), (3, 16, {'div2': False, 'div7': False}), (3, 17, {'div2': False, 'div7': False}), (3, 18, {'div2': False, 'div7': False}), (3, 19, {'div2': False, 'div7': False}), (3, 20, {'div2': False, 'div7': False}), (3, 21, {'div2': False, 'div7': False}), (3, 22, {'div2': False, 'div7': False}), (3, 23, {'div2': False, 'div7': False}), (3, 24, {'div2': False, 'div7': False}), (3, 25, {'div2': False, 'div7': False}), (3, 26, {'div2': False, 'div7': False}), (3, 27, {'div2': False, 'div7': False}), (3, 28, {'div2': False, 'div7': False}), (3, 29, {'div2': False, 'div7': False}), (3, 30, {'div2': False, 'div7': False}), (3, 31, {'div2': False, 'div7': False}), (3, 32, {'div2': False, 'div7': False}), (3, 33, {'div2': False, 'div7': False}), (3, 34, {'div2': False, 'div7': False}), (3, 35, {'div2': False, 'div7': False}), (3, 36, {'div2': False, 'div7': False}), (3, 37, {'div2': False, 'div7': False}), (3, 38, {'div2': False, 'div7': False}), (3, 39, {'div2': False, 'div7': False}), (3, 40, {'div2': False, 'div7': False}), (3, 41, {'div2': False, 'div7': False}), (3, 42, {'div2': False, 'div7': False}), (3, 43, {'div2': False, 'div7': False}), (3, 44, {'div2': False, 'div7': False}), (3, 45, {'div2': False, 'div7': False}), (3, 46, {'div2': False, 'div7': False}), (3, 47, {'div2': False, 'div7': False}), (3, 48, {'div2': False, 'div7': False}), (3, 49, {'div2': False, 'div7': False}), (3, 50, {'div2': False, 'div7': False}), (3, 51, {'div2': False, 'div7': False}), (3, 52, {'div2': False, 'div7': False}), (3, 53, {'div2': False, 'div7': False}), (3, 54, {'div2': False, 'div7': False}), (3, 55, {'div2': False, 'div7': False}), (3, 56, {'div2': False, 'div7': False}), (3, 57, {'div2': False, 'div7': False}), (3, 58, {'div2': False, 'div7': False}), (3, 59, {'div2': False, 'div7': False}), (3, 60, {'div2': False, 'div7': False}), (3, 61, {'div2': False, 'div7': False}), (3, 62, {'div2': False, 'div7': False}), (3, 63, {'div2': False, 'div7': False}), (3, 64, {'div2': False, 'div7': False}), (3, 65, {'div2': False, 'div7': False}), (3, 66, {'div2': False, 'div7': False}), (3, 67, {'div2': False, 'div7': False}), (3, 68, {'div2': False, 'div7': False}), (3, 69, {'div2': False, 'div7': False}), (3, 70, {'div2': False, 'div7': False}), (3, 71, {'div2': False, 'div7': False}), (3, 72, {'div2': False, 'div7': False}), (3, 73, {'div2': False, 'div7': False}), (3, 74, {'div2': False, 'div7': False}), (3, 75, {'div2': False, 'div7': False}), (3, 76, {'div2': False, 'div7': False}), (3, 77, {'div2': False, 'div7': False}), (3, 78, {'div2': False, 'div7': False}), (3, 79, {'div2': False, 'div7': False}), (3, 80, {'div2': False, 'div7': False}), (3, 81, {'div2': False, 'div7': False}), (3, 82, {'div2': False, 'div7': False}), (3, 83, {'div2': False, 'div7': False}), (3, 84, {'div2': False, 'div7': False}), (3, 85, {'div2': False, 'div7': False}), (3, 86, {'div2': False, 'div7': False}), (3, 87, {'div2': False, 'div7': False}), (3, 88, {'div2': False, 'div7': False}), (3, 89, {'div2': False, 'div7': False}), (3, 90, {'div2': False, 'div7': False}), (3, 91, {'div2': False, 'div7': False}), (3, 92, {'div2': False, 'div7': False}), (3, 93, {'div2': False, 'div7': False}), (3, 94, {'div2': False, 'div7': False}), (3, 95, {'div2': False, 'div7': False}), (3, 96, {'div2': False, 'div7': False}), (3, 97, {'div2': False, 'div7': False}), (3, 98, {'div2': False, 'div7': False}), (3, 99, {'div2': False, 'div7': False}), (4, 5, {'div2': False, 'div7': False}), (4, 6, {'div2': True, 'div7': False}), (4, 7, {'div2': False, 'div7': False}), (4, 8, {'div2': True, 'div7': False}), (4, 9, {'div2': False, 'div7': False}), (4, 10, {'div2': True, 'div7': False}), (4, 11, {'div2': False, 'div7': False}), (4, 12, {'div2': True, 'div7': False}), (4, 13, {'div2': False, 'div7': False}), (4, 14, {'div2': True, 'div7': False}), (4, 15, {'div2': False, 'div7': False}), (4, 16, {'div2': True, 'div7': False}), (4, 17, {'div2': False, 'div7': False}), (4, 18, {'div2': True, 'div7': False}), (4, 19, {'div2': False, 'div7': False}), (4, 20, {'div2': True, 'div7': False}), (4, 21, {'div2': False, 'div7': False}), (4, 22, {'div2': True, 'div7': False}), (4, 23, {'div2': False, 'div7': False}), (4, 24, {'div2': True, 'div7': False}), (4, 25, {'div2': False, 'div7': False}), (4, 26, {'div2': True, 'div7': False}), (4, 27, {'div2': False, 'div7': False}), (4, 28, {'div2': True, 'div7': False}), (4, 29, {'div2': False, 'div7': False}), (4, 30, {'div2': True, 'div7': False}), (4, 31, {'div2': False, 'div7': False}), (4, 32, {'div2': True, 'div7': False}), (4, 33, {'div2': False, 'div7': False}), (4, 34, {'div2': True, 'div7': False}), (4, 35, {'div2': False, 'div7': False}), (4, 36, {'div2': True, 'div7': False}), (4, 37, {'div2': False, 'div7': False}), (4, 38, {'div2': True, 'div7': False}), (4, 39, {'div2': False, 'div7': False}), (4, 40, {'div2': True, 'div7': False}), (4, 41, {'div2': False, 'div7': False}), (4, 42, {'div2': True, 'div7': False}), (4, 43, {'div2': False, 'div7': False}), (4, 44, {'div2': True, 'div7': False}), (4, 45, {'div2': False, 'div7': False}), (4, 46, {'div2': True, 'div7': False}), (4, 47, {'div2': False, 'div7': False}), (4, 48, {'div2': True, 'div7': False}), (4, 49, {'div2': False, 'div7': False}), (4, 50, {'div2': True, 'div7': False}), (4, 51, {'div2': False, 'div7': False}), (4, 52, {'div2': True, 'div7': False}), (4, 53, {'div2': False, 'div7': False}), (4, 54, {'div2': True, 'div7': False}), (4, 55, {'div2': False, 'div7': False}), (4, 56, {'div2': True, 'div7': False}), (4, 57, {'div2': False, 'div7': False}), (4, 58, {'div2': True, 'div7': False}), (4, 59, {'div2': False, 'div7': False}), (4, 60, {'div2': True, 'div7': False}), (4, 61, {'div2': False, 'div7': False}), (4, 62, {'div2': True, 'div7': False}), (4, 63, {'div2': False, 'div7': False}), (4, 64, {'div2': True, 'div7': False}), (4, 65, {'div2': False, 'div7': False}), (4, 66, {'div2': True, 'div7': False}), (4, 67, {'div2': False, 'div7': False}), (4, 68, {'div2': True, 'div7': False}), (4, 69, {'div2': False, 'div7': False}), (4, 70, {'div2': True, 'div7': False}), (4, 71, {'div2': False, 'div7': False}), (4, 72, {'div2': True, 'div7': False}), (4, 73, {'div2': False, 'div7': False}), (4, 74, {'div2': True, 'div7': False}), (4, 75, {'div2': False, 'div7': False}), (4, 76, {'div2': True, 'div7': False}), (4, 77, {'div2': False, 'div7': False}), (4, 78, {'div2': True, 'div7': False}), (4, 79, {'div2': False, 'div7': False}), (4, 80, {'div2': True, 'div7': False}), (4, 81, {'div2': False, 'div7': False}), (4, 82, {'div2': True, 'div7': False}), (4, 83, {'div2': False, 'div7': False}), (4, 84, {'div2': True, 'div7': False}), (4, 85, {'div2': False, 'div7': False}), (4, 86, {'div2': True, 'div7': False}), (4, 87, {'div2': False, 'div7': False}), (4, 88, {'div2': True, 'div7': False}), (4, 89, {'div2': False, 'div7': False}), (4, 90, {'div2': True, 'div7': False}), (4, 91, {'div2': False, 'div7': False}), (4, 92, {'div2': True, 'div7': False}), (4, 93, {'div2': False, 'div7': False}), (4, 94, {'div2': True, 'div7': False}), (4, 95, {'div2': False, 'div7': False}), (4, 96, {'div2': True, 'div7': False}), (4, 97, {'div2': False, 'div7': False}), (4, 98, {'div2': True, 'div7': False}), (4, 99, {'div2': False, 'div7': False}), (5, 6, {'div2': False, 'div7': False}), (5, 7, {'div2': False, 'div7': False}), (5, 8, {'div2': False, 'div7': False}), (5, 9, {'div2': False, 'div7': False}), (5, 10, {'div2': False, 'div7': False}), (5, 11, {'div2': False, 'div7': False}), (5, 12, {'div2': False, 'div7': False}), (5, 13, {'div2': False, 'div7': False}), (5, 14, {'div2': False, 'div7': False}), (5, 15, {'div2': False, 'div7': False}), (5, 16, {'div2': False, 'div7': False}), (5, 17, {'div2': False, 'div7': False}), (5, 18, {'div2': False, 'div7': False}), (5, 19, {'div2': False, 'div7': False}), (5, 20, {'div2': False, 'div7': False}), (5, 21, {'div2': False, 'div7': False}), (5, 22, {'div2': False, 'div7': False}), (5, 23, {'div2': False, 'div7': False}), (5, 24, {'div2': False, 'div7': False}), (5, 25, {'div2': False, 'div7': False}), (5, 26, {'div2': False, 'div7': False}), (5, 27, {'div2': False, 'div7': False}), (5, 28, {'div2': False, 'div7': False}), (5, 29, {'div2': False, 'div7': False}), (5, 30, {'div2': False, 'div7': False}), (5, 31, {'div2': False, 'div7': False}), (5, 32, {'div2': False, 'div7': False}), (5, 33, {'div2': False, 'div7': False}), (5, 34, {'div2': False, 'div7': False}), (5, 35, {'div2': False, 'div7': False}), (5, 36, {'div2': False, 'div7': False}), (5, 37, {'div2': False, 'div7': False}), (5, 38, {'div2': False, 'div7': False}), (5, 39, {'div2': False, 'div7': False}), (5, 40, {'div2': False, 'div7': False}), (5, 41, {'div2': False, 'div7': False}), (5, 42, {'div2': False, 'div7': False}), (5, 43, {'div2': False, 'div7': False}), (5, 44, {'div2': False, 'div7': False}), (5, 45, {'div2': False, 'div7': False}), (5, 46, {'div2': False, 'div7': False}), (5, 47, {'div2': False, 'div7': False}), (5, 48, {'div2': False, 'div7': False}), (5, 49, {'div2': False, 'div7': False}), (5, 50, {'div2': False, 'div7': False}), (5, 51, {'div2': False, 'div7': False}), (5, 52, {'div2': False, 'div7': False}), (5, 53, {'div2': False, 'div7': False}), (5, 54, {'div2': False, 'div7': False}), (5, 55, {'div2': False, 'div7': False}), (5, 56, {'div2': False, 'div7': False}), (5, 57, {'div2': False, 'div7': False}), (5, 58, {'div2': False, 'div7': False}), (5, 59, {'div2': False, 'div7': False}), (5, 60, {'div2': False, 'div7': False}), (5, 61, {'div2': False, 'div7': False}), (5, 62, {'div2': False, 'div7': False}), (5, 63, {'div2': False, 'div7': False}), (5, 64, {'div2': False, 'div7': False}), (5, 65, {'div2': False, 'div7': False}), (5, 66, {'div2': False, 'div7': False}), (5, 67, {'div2': False, 'div7': False}), (5, 68, {'div2': False, 'div7': False}), (5, 69, {'div2': False, 'div7': False}), (5, 70, {'div2': False, 'div7': False}), (5, 71, {'div2': False, 'div7': False}), (5, 72, {'div2': False, 'div7': False}), (5, 73, {'div2': False, 'div7': False}), (5, 74, {'div2': False, 'div7': False}), (5, 75, {'div2': False, 'div7': False}), (5, 76, {'div2': False, 'div7': False}), (5, 77, {'div2': False, 'div7': False}), (5, 78, {'div2': False, 'div7': False}), (5, 79, {'div2': False, 'div7': False}), (5, 80, {'div2': False, 'div7': False}), (5, 81, {'div2': False, 'div7': False}), (5, 82, {'div2': False, 'div7': False}), (5, 83, {'div2': False, 'div7': False}), (5, 84, {'div2': False, 'div7': False}), (5, 85, {'div2': False, 'div7': False}), (5, 86, {'div2': False, 'div7': False}), (5, 87, {'div2': False, 'div7': False}), (5, 88, {'div2': False, 'div7': False}), (5, 89, {'div2': False, 'div7': False}), (5, 90, {'div2': False, 'div7': False}), (5, 91, {'div2': False, 'div7': False}), (5, 92, {'div2': False, 'div7': False}), (5, 93, {'div2': False, 'div7': False}), (5, 94, {'div2': False, 'div7': False}), (5, 95, {'div2': False, 'div7': False}), (5, 96, {'div2': False, 'div7': False}), (5, 97, {'div2': False, 'div7': False}), (5, 98, {'div2': False, 'div7': False}), (5, 99, {'div2': False, 'div7': False}), (6, 7, {'div2': False, 'div7': False}), (6, 8, {'div2': True, 'div7': False}), (6, 9, {'div2': False, 'div7': False}), (6, 10, {'div2': True, 'div7': False}), (6, 11, {'div2': False, 'div7': False}), (6, 12, {'div2': True, 'div7': False}), (6, 13, {'div2': False, 'div7': False}), (6, 14, {'div2': True, 'div7': False}), (6, 15, {'div2': False, 'div7': False}), (6, 16, {'div2': True, 'div7': False}), (6, 17, {'div2': False, 'div7': False}), (6, 18, {'div2': True, 'div7': False}), (6, 19, {'div2': False, 'div7': False}), (6, 20, {'div2': True, 'div7': False}), (6, 21, {'div2': False, 'div7': False}), (6, 22, {'div2': True, 'div7': False}), (6, 23, {'div2': False, 'div7': False}), (6, 24, {'div2': True, 'div7': False}), (6, 25, {'div2': False, 'div7': False}), (6, 26, {'div2': True, 'div7': False}), (6, 27, {'div2': False, 'div7': False}), (6, 28, {'div2': True, 'div7': False}), (6, 29, {'div2': False, 'div7': False}), (6, 30, {'div2': True, 'div7': False}), (6, 31, {'div2': False, 'div7': False}), (6, 32, {'div2': True, 'div7': False}), (6, 33, {'div2': False, 'div7': False}), (6, 34, {'div2': True, 'div7': False}), (6, 35, {'div2': False, 'div7': False}), (6, 36, {'div2': True, 'div7': False}), (6, 37, {'div2': False, 'div7': False}), (6, 38, {'div2': True, 'div7': False}), (6, 39, {'div2': False, 'div7': False}), (6, 40, {'div2': True, 'div7': False}), (6, 41, {'div2': False, 'div7': False}), (6, 42, {'div2': True, 'div7': False}), (6, 43, {'div2': False, 'div7': False}), (6, 44, {'div2': True, 'div7': False}), (6, 45, {'div2': False, 'div7': False}), (6, 46, {'div2': True, 'div7': False}), (6, 47, {'div2': False, 'div7': False}), (6, 48, {'div2': True, 'div7': False}), (6, 49, {'div2': False, 'div7': False}), (6, 50, {'div2': True, 'div7': False}), (6, 51, {'div2': False, 'div7': False}), (6, 52, {'div2': True, 'div7': False}), (6, 53, {'div2': False, 'div7': False}), (6, 54, {'div2': True, 'div7': False}), (6, 55, {'div2': False, 'div7': False}), (6, 56, {'div2': True, 'div7': False}), (6, 57, {'div2': False, 'div7': False}), (6, 58, {'div2': True, 'div7': False}), (6, 59, {'div2': False, 'div7': False}), (6, 60, {'div2': True, 'div7': False}), (6, 61, {'div2': False, 'div7': False}), (6, 62, {'div2': True, 'div7': False}), (6, 63, {'div2': False, 'div7': False}), (6, 64, {'div2': True, 'div7': False}), (6, 65, {'div2': False, 'div7': False}), (6, 66, {'div2': True, 'div7': False}), (6, 67, {'div2': False, 'div7': False}), (6, 68, {'div2': True, 'div7': False}), (6, 69, {'div2': False, 'div7': False}), (6, 70, {'div2': True, 'div7': False}), (6, 71, {'div2': False, 'div7': False}), (6, 72, {'div2': True, 'div7': False}), (6, 73, {'div2': False, 'div7': False}), (6, 74, {'div2': True, 'div7': False}), (6, 75, {'div2': False, 'div7': False}), (6, 76, {'div2': True, 'div7': False}), (6, 77, {'div2': False, 'div7': False}), (6, 78, {'div2': True, 'div7': False}), (6, 79, {'div2': False, 'div7': False}), (6, 80, {'div2': True, 'div7': False}), (6, 81, {'div2': False, 'div7': False}), (6, 82, {'div2': True, 'div7': False}), (6, 83, {'div2': False, 'div7': False}), (6, 84, {'div2': True, 'div7': False}), (6, 85, {'div2': False, 'div7': False}), (6, 86, {'div2': True, 'div7': False}), (6, 87, {'div2': False, 'div7': False}), (6, 88, {'div2': True, 'div7': False}), (6, 89, {'div2': False, 'div7': False}), (6, 90, {'div2': True, 'div7': False}), (6, 91, {'div2': False, 'div7': False}), (6, 92, {'div2': True, 'div7': False}), (6, 93, {'div2': False, 'div7': False}), (6, 94, {'div2': True, 'div7': False}), (6, 95, {'div2': False, 'div7': False}), (6, 96, {'div2': True, 'div7': False}), (6, 97, {'div2': False, 'div7': False}), (6, 98, {'div2': True, 'div7': False}), (6, 99, {'div2': False, 'div7': False}), (7, 8, {'div2': False, 'div7': False}), (7, 9, {'div2': False, 'div7': False}), (7, 10, {'div2': False, 'div7': False}), (7, 11, {'div2': False, 'div7': False}), (7, 12, {'div2': False, 'div7': False}), (7, 13, {'div2': False, 'div7': False}), (7, 14, {'div2': False, 'div7': True}), (7, 15, {'div2': False, 'div7': False}), (7, 16, {'div2': False, 'div7': False}), (7, 17, {'div2': False, 'div7': False}), (7, 18, {'div2': False, 'div7': False}), (7, 19, {'div2': False, 'div7': False}), (7, 20, {'div2': False, 'div7': False}), (7, 21, {'div2': False, 'div7': True}), (7, 22, {'div2': False, 'div7': False}), (7, 23, {'div2': False, 'div7': False}), (7, 24, {'div2': False, 'div7': False}), (7, 25, {'div2': False, 'div7': False}), (7, 26, {'div2': False, 'div7': False}), (7, 27, {'div2': False, 'div7': False}), (7, 28, {'div2': False, 'div7': True}), (7, 29, {'div2': False, 'div7': False}), (7, 30, {'div2': False, 'div7': False}), (7, 31, {'div2': False, 'div7': False}), (7, 32, {'div2': False, 'div7': False}), (7, 33, {'div2': False, 'div7': False}), (7, 34, {'div2': False, 'div7': False}), (7, 35, {'div2': False, 'div7': True}), (7, 36, {'div2': False, 'div7': False}), (7, 37, {'div2': False, 'div7': False}), (7, 38, {'div2': False, 'div7': False}), (7, 39, {'div2': False, 'div7': False}), (7, 40, {'div2': False, 'div7': False}), (7, 41, {'div2': False, 'div7': False}), (7, 42, {'div2': False, 'div7': True}), (7, 43, {'div2': False, 'div7': False}), (7, 44, {'div2': False, 'div7': False}), (7, 45, {'div2': False, 'div7': False}), (7, 46, {'div2': False, 'div7': False}), (7, 47, {'div2': False, 'div7': False}), (7, 48, {'div2': False, 'div7': False}), (7, 49, {'div2': False, 'div7': True}), (7, 50, {'div2': False, 'div7': False}), (7, 51, {'div2': False, 'div7': False}), (7, 52, {'div2': False, 'div7': False}), (7, 53, {'div2': False, 'div7': False}), (7, 54, {'div2': False, 'div7': False}), (7, 55, {'div2': False, 'div7': False}), (7, 56, {'div2': False, 'div7': True}), (7, 57, {'div2': False, 'div7': False}), (7, 58, {'div2': False, 'div7': False}), (7, 59, {'div2': False, 'div7': False}), (7, 60, {'div2': False, 'div7': False}), (7, 61, {'div2': False, 'div7': False}), (7, 62, {'div2': False, 'div7': False}), (7, 63, {'div2': False, 'div7': True}), (7, 64, {'div2': False, 'div7': False}), (7, 65, {'div2': False, 'div7': False}), (7, 66, {'div2': False, 'div7': False}), (7, 67, {'div2': False, 'div7': False}), (7, 68, {'div2': False, 'div7': False}), (7, 69, {'div2': False, 'div7': False}), (7, 70, {'div2': False, 'div7': True}), (7, 71, {'div2': False, 'div7': False}), (7, 72, {'div2': False, 'div7': False}), (7, 73, {'div2': False, 'div7': False}), (7, 74, {'div2': False, 'div7': False}), (7, 75, {'div2': False, 'div7': False}), (7, 76, {'div2': False, 'div7': False}), (7, 77, {'div2': False, 'div7': True}), (7, 78, {'div2': False, 'div7': False}), (7, 79, {'div2': False, 'div7': False}), (7, 80, {'div2': False, 'div7': False}), (7, 81, {'div2': False, 'div7': False}), (7, 82, {'div2': False, 'div7': False}), (7, 83, {'div2': False, 'div7': False}), (7, 84, {'div2': False, 'div7': True}), (7, 85, {'div2': False, 'div7': False}), (7, 86, {'div2': False, 'div7': False}), (7, 87, {'div2': False, 'div7': False}), (7, 88, {'div2': False, 'div7': False}), (7, 89, {'div2': False, 'div7': False}), (7, 90, {'div2': False, 'div7': False}), (7, 91, {'div2': False, 'div7': True}), (7, 92, {'div2': False, 'div7': False}), (7, 93, {'div2': False, 'div7': False}), (7, 94, {'div2': False, 'div7': False}), (7, 95, {'div2': False, 'div7': False}), (7, 96, {'div2': False, 'div7': False}), (7, 97, {'div2': False, 'div7': False}), (7, 98, {'div2': False, 'div7': True}), (7, 99, {'div2': False, 'div7': False}), (8, 9, {'div2': False, 'div7': False}), (8, 10, {'div2': True, 'div7': False}), (8, 11, {'div2': False, 'div7': False}), (8, 12, {'div2': True, 'div7': False}), (8, 13, {'div2': False, 'div7': False}), (8, 14, {'div2': True, 'div7': False}), (8, 15, {'div2': False, 'div7': False}), (8, 16, {'div2': True, 'div7': False}), (8, 17, {'div2': False, 'div7': False}), (8, 18, {'div2': True, 'div7': False}), (8, 19, {'div2': False, 'div7': False}), (8, 20, {'div2': True, 'div7': False}), (8, 21, {'div2': False, 'div7': False}), (8, 22, {'div2': True, 'div7': False}), (8, 23, {'div2': False, 'div7': False}), (8, 24, {'div2': True, 'div7': False}), (8, 25, {'div2': False, 'div7': False}), (8, 26, {'div2': True, 'div7': False}), (8, 27, {'div2': False, 'div7': False}), (8, 28, {'div2': True, 'div7': False}), (8, 29, {'div2': False, 'div7': False}), (8, 30, {'div2': True, 'div7': False}), (8, 31, {'div2': False, 'div7': False}), (8, 32, {'div2': True, 'div7': False}), (8, 33, {'div2': False, 'div7': False}), (8, 34, {'div2': True, 'div7': False}), (8, 35, {'div2': False, 'div7': False}), (8, 36, {'div2': True, 'div7': False}), (8, 37, {'div2': False, 'div7': False}), (8, 38, {'div2': True, 'div7': False}), (8, 39, {'div2': False, 'div7': False}), (8, 40, {'div2': True, 'div7': False}), (8, 41, {'div2': False, 'div7': False}), (8, 42, {'div2': True, 'div7': False}), (8, 43, {'div2': False, 'div7': False}), (8, 44, {'div2': True, 'div7': False}), (8, 45, {'div2': False, 'div7': False}), (8, 46, {'div2': True, 'div7': False}), (8, 47, {'div2': False, 'div7': False}), (8, 48, {'div2': True, 'div7': False}), (8, 49, {'div2': False, 'div7': False}), (8, 50, {'div2': True, 'div7': False}), (8, 51, {'div2': False, 'div7': False}), (8, 52, {'div2': True, 'div7': False}), (8, 53, {'div2': False, 'div7': False}), (8, 54, {'div2': True, 'div7': False}), (8, 55, {'div2': False, 'div7': False}), (8, 56, {'div2': True, 'div7': False}), (8, 57, {'div2': False, 'div7': False}), (8, 58, {'div2': True, 'div7': False}), (8, 59, {'div2': False, 'div7': False}), (8, 60, {'div2': True, 'div7': False}), (8, 61, {'div2': False, 'div7': False}), (8, 62, {'div2': True, 'div7': False}), (8, 63, {'div2': False, 'div7': False}), (8, 64, {'div2': True, 'div7': False}), (8, 65, {'div2': False, 'div7': False}), (8, 66, {'div2': True, 'div7': False}), (8, 67, {'div2': False, 'div7': False}), (8, 68, {'div2': True, 'div7': False}), (8, 69, {'div2': False, 'div7': False}), (8, 70, {'div2': True, 'div7': False}), (8, 71, {'div2': False, 'div7': False}), (8, 72, {'div2': True, 'div7': False}), (8, 73, {'div2': False, 'div7': False}), (8, 74, {'div2': True, 'div7': False}), (8, 75, {'div2': False, 'div7': False}), (8, 76, {'div2': True, 'div7': False}), (8, 77, {'div2': False, 'div7': False}), (8, 78, {'div2': True, 'div7': False}), (8, 79, {'div2': False, 'div7': False}), (8, 80, {'div2': True, 'div7': False}), (8, 81, {'div2': False, 'div7': False}), (8, 82, {'div2': True, 'div7': False}), (8, 83, {'div2': False, 'div7': False}), (8, 84, {'div2': True, 'div7': False}), (8, 85, {'div2': False, 'div7': False}), (8, 86, {'div2': True, 'div7': False}), (8, 87, {'div2': False, 'div7': False}), (8, 88, {'div2': True, 'div7': False}), (8, 89, {'div2': False, 'div7': False}), (8, 90, {'div2': True, 'div7': False}), (8, 91, {'div2': False, 'div7': False}), (8, 92, {'div2': True, 'div7': False}), (8, 93, {'div2': False, 'div7': False}), (8, 94, {'div2': True, 'div7': False}), (8, 95, {'div2': False, 'div7': False}), (8, 96, {'div2': True, 'div7': False}), (8, 97, {'div2': False, 'div7': False}), (8, 98, {'div2': True, 'div7': False}), (8, 99, {'div2': False, 'div7': False}), (9, 10, {'div2': False, 'div7': False}), (9, 11, {'div2': False, 'div7': False}), (9, 12, {'div2': False, 'div7': False}), (9, 13, {'div2': False, 'div7': False}), (9, 14, {'div2': False, 'div7': False}), (9, 15, {'div2': False, 'div7': False}), (9, 16, {'div2': False, 'div7': False}), (9, 17, {'div2': False, 'div7': False}), (9, 18, {'div2': False, 'div7': False}), (9, 19, {'div2': False, 'div7': False}), (9, 20, {'div2': False, 'div7': False}), (9, 21, {'div2': False, 'div7': False}), (9, 22, {'div2': False, 'div7': False}), (9, 23, {'div2': False, 'div7': False}), (9, 24, {'div2': False, 'div7': False}), (9, 25, {'div2': False, 'div7': False}), (9, 26, {'div2': False, 'div7': False}), (9, 27, {'div2': False, 'div7': False}), (9, 28, {'div2': False, 'div7': False}), (9, 29, {'div2': False, 'div7': False}), (9, 30, {'div2': False, 'div7': False}), (9, 31, {'div2': False, 'div7': False}), (9, 32, {'div2': False, 'div7': False}), (9, 33, {'div2': False, 'div7': False}), (9, 34, {'div2': False, 'div7': False}), (9, 35, {'div2': False, 'div7': False}), (9, 36, {'div2': False, 'div7': False}), (9, 37, {'div2': False, 'div7': False}), (9, 38, {'div2': False, 'div7': False}), (9, 39, {'div2': False, 'div7': False}), (9, 40, {'div2': False, 'div7': False}), (9, 41, {'div2': False, 'div7': False}), (9, 42, {'div2': False, 'div7': False}), (9, 43, {'div2': False, 'div7': False}), (9, 44, {'div2': False, 'div7': False}), (9, 45, {'div2': False, 'div7': False}), (9, 46, {'div2': False, 'div7': False}), (9, 47, {'div2': False, 'div7': False}), (9, 48, {'div2': False, 'div7': False}), (9, 49, {'div2': False, 'div7': False}), (9, 50, {'div2': False, 'div7': False}), (9, 51, {'div2': False, 'div7': False}), (9, 52, {'div2': False, 'div7': False}), (9, 53, {'div2': False, 'div7': False}), (9, 54, {'div2': False, 'div7': False}), (9, 55, {'div2': False, 'div7': False}), (9, 56, {'div2': False, 'div7': False}), (9, 57, {'div2': False, 'div7': False}), (9, 58, {'div2': False, 'div7': False}), (9, 59, {'div2': False, 'div7': False}), (9, 60, {'div2': False, 'div7': False}), (9, 61, {'div2': False, 'div7': False}), (9, 62, {'div2': False, 'div7': False}), (9, 63, {'div2': False, 'div7': False}), (9, 64, {'div2': False, 'div7': False}), (9, 65, {'div2': False, 'div7': False}), (9, 66, {'div2': False, 'div7': False}), (9, 67, {'div2': False, 'div7': False}), (9, 68, {'div2': False, 'div7': False}), (9, 69, {'div2': False, 'div7': False}), (9, 70, {'div2': False, 'div7': False}), (9, 71, {'div2': False, 'div7': False}), (9, 72, {'div2': False, 'div7': False}), (9, 73, {'div2': False, 'div7': False}), (9, 74, {'div2': False, 'div7': False}), (9, 75, {'div2': False, 'div7': False}), (9, 76, {'div2': False, 'div7': False}), (9, 77, {'div2': False, 'div7': False}), (9, 78, {'div2': False, 'div7': False}), (9, 79, {'div2': False, 'div7': False}), (9, 80, {'div2': False, 'div7': False}), (9, 81, {'div2': False, 'div7': False}), (9, 82, {'div2': False, 'div7': False}), (9, 83, {'div2': False, 'div7': False}), (9, 84, {'div2': False, 'div7': False}), (9, 85, {'div2': False, 'div7': False}), (9, 86, {'div2': False, 'div7': False}), (9, 87, {'div2': False, 'div7': False}), (9, 88, {'div2': False, 'div7': False}), (9, 89, {'div2': False, 'div7': False}), (9, 90, {'div2': False, 'div7': False}), (9, 91, {'div2': False, 'div7': False}), (9, 92, {'div2': False, 'div7': False}), (9, 93, {'div2': False, 'div7': False}), (9, 94, {'div2': False, 'div7': False}), (9, 95, {'div2': False, 'div7': False}), (9, 96, {'div2': False, 'div7': False}), (9, 97, {'div2': False, 'div7': False}), (9, 98, {'div2': False, 'div7': False}), (9, 99, {'div2': False, 'div7': False}), (10, 11, {'div2': False, 'div7': False}), (10, 12, {'div2': True, 'div7': False}), (10, 13, {'div2': False, 'div7': False}), (10, 14, {'div2': True, 'div7': False}), (10, 15, {'div2': False, 'div7': False}), (10, 16, {'div2': True, 'div7': False}), (10, 17, {'div2': False, 'div7': False}), (10, 18, {'div2': True, 'div7': False}), (10, 19, {'div2': False, 'div7': False}), (10, 20, {'div2': True, 'div7': False}), (10, 21, {'div2': False, 'div7': False}), (10, 22, {'div2': True, 'div7': False}), (10, 23, {'div2': False, 'div7': False}), (10, 24, {'div2': True, 'div7': False}), (10, 25, {'div2': False, 'div7': False}), (10, 26, {'div2': True, 'div7': False}), (10, 27, {'div2': False, 'div7': False}), (10, 28, {'div2': True, 'div7': False}), (10, 29, {'div2': False, 'div7': False}), (10, 30, {'div2': True, 'div7': False}), (10, 31, {'div2': False, 'div7': False}), (10, 32, {'div2': True, 'div7': False}), (10, 33, {'div2': False, 'div7': False}), (10, 34, {'div2': True, 'div7': False}), (10, 35, {'div2': False, 'div7': False}), (10, 36, {'div2': True, 'div7': False}), (10, 37, {'div2': False, 'div7': False}), (10, 38, {'div2': True, 'div7': False}), (10, 39, {'div2': False, 'div7': False}), (10, 40, {'div2': True, 'div7': False}), (10, 41, {'div2': False, 'div7': False}), (10, 42, {'div2': True, 'div7': False}), (10, 43, {'div2': False, 'div7': False}), (10, 44, {'div2': True, 'div7': False}), (10, 45, {'div2': False, 'div7': False}), (10, 46, {'div2': True, 'div7': False}), (10, 47, {'div2': False, 'div7': False}), (10, 48, {'div2': True, 'div7': False}), (10, 49, {'div2': False, 'div7': False}), (10, 50, {'div2': True, 'div7': False}), (10, 51, {'div2': False, 'div7': False}), (10, 52, {'div2': True, 'div7': False}), (10, 53, {'div2': False, 'div7': False}), (10, 54, {'div2': True, 'div7': False}), (10, 55, {'div2': False, 'div7': False}), (10, 56, {'div2': True, 'div7': False}), (10, 57, {'div2': False, 'div7': False}), (10, 58, {'div2': True, 'div7': False}), (10, 59, {'div2': False, 'div7': False}), (10, 60, {'div2': True, 'div7': False}), (10, 61, {'div2': False, 'div7': False}), (10, 62, {'div2': True, 'div7': False}), (10, 63, {'div2': False, 'div7': False}), (10, 64, {'div2': True, 'div7': False}), (10, 65, {'div2': False, 'div7': False}), (10, 66, {'div2': True, 'div7': False}), (10, 67, {'div2': False, 'div7': False}), (10, 68, {'div2': True, 'div7': False}), (10, 69, {'div2': False, 'div7': False}), (10, 70, {'div2': True, 'div7': False}), (10, 71, {'div2': False, 'div7': False}), (10, 72, {'div2': True, 'div7': False}), (10, 73, {'div2': False, 'div7': False}), (10, 74, {'div2': True, 'div7': False}), (10, 75, {'div2': False, 'div7': False}), (10, 76, {'div2': True, 'div7': False}), (10, 77, {'div2': False, 'div7': False}), (10, 78, {'div2': True, 'div7': False}), (10, 79, {'div2': False, 'div7': False}), (10, 80, {'div2': True, 'div7': False}), (10, 81, {'div2': False, 'div7': False}), (10, 82, {'div2': True, 'div7': False}), (10, 83, {'div2': False, 'div7': False}), (10, 84, {'div2': True, 'div7': False}), (10, 85, {'div2': False, 'div7': False}), (10, 86, {'div2': True, 'div7': False}), (10, 87, {'div2': False, 'div7': False}), (10, 88, {'div2': True, 'div7': False}), (10, 89, {'div2': False, 'div7': False}), (10, 90, {'div2': True, 'div7': False}), (10, 91, {'div2': False, 'div7': False}), (10, 92, {'div2': True, 'div7': False}), (10, 93, {'div2': False, 'div7': False}), (10, 94, {'div2': True, 'div7': False}), (10, 95, {'div2': False, 'div7': False}), (10, 96, {'div2': True, 'div7': False}), (10, 97, {'div2': False, 'div7': False}), (10, 98, {'div2': True, 'div7': False}), (10, 99, {'div2': False, 'div7': False}), (11, 12, {'div2': False, 'div7': False}), (11, 13, {'div2': False, 'div7': False}), (11, 14, {'div2': False, 'div7': False}), (11, 15, {'div2': False, 'div7': False}), (11, 16, {'div2': False, 'div7': False}), (11, 17, {'div2': False, 'div7': False}), (11, 18, {'div2': False, 'div7': False}), (11, 19, {'div2': False, 'div7': False}), (11, 20, {'div2': False, 'div7': False}), (11, 21, {'div2': False, 'div7': False}), (11, 22, {'div2': False, 'div7': False}), (11, 23, {'div2': False, 'div7': False}), (11, 24, {'div2': False, 'div7': False}), (11, 25, {'div2': False, 'div7': False}), (11, 26, {'div2': False, 'div7': False}), (11, 27, {'div2': False, 'div7': False}), (11, 28, {'div2': False, 'div7': False}), (11, 29, {'div2': False, 'div7': False}), (11, 30, {'div2': False, 'div7': False}), (11, 31, {'div2': False, 'div7': False}), (11, 32, {'div2': False, 'div7': False}), (11, 33, {'div2': False, 'div7': False}), (11, 34, {'div2': False, 'div7': False}), (11, 35, {'div2': False, 'div7': False}), (11, 36, {'div2': False, 'div7': False}), (11, 37, {'div2': False, 'div7': False}), (11, 38, {'div2': False, 'div7': False}), (11, 39, {'div2': False, 'div7': False}), (11, 40, {'div2': False, 'div7': False}), (11, 41, {'div2': False, 'div7': False}), (11, 42, {'div2': False, 'div7': False}), (11, 43, {'div2': False, 'div7': False}), (11, 44, {'div2': False, 'div7': False}), (11, 45, {'div2': False, 'div7': False}), (11, 46, {'div2': False, 'div7': False}), (11, 47, {'div2': False, 'div7': False}), (11, 48, {'div2': False, 'div7': False}), (11, 49, {'div2': False, 'div7': False}), (11, 50, {'div2': False, 'div7': False}), (11, 51, {'div2': False, 'div7': False}), (11, 52, {'div2': False, 'div7': False}), (11, 53, {'div2': False, 'div7': False}), (11, 54, {'div2': False, 'div7': False}), (11, 55, {'div2': False, 'div7': False}), (11, 56, {'div2': False, 'div7': False}), (11, 57, {'div2': False, 'div7': False}), (11, 58, {'div2': False, 'div7': False}), (11, 59, {'div2': False, 'div7': False}), (11, 60, {'div2': False, 'div7': False}), (11, 61, {'div2': False, 'div7': False}), (11, 62, {'div2': False, 'div7': False}), (11, 63, {'div2': False, 'div7': False}), (11, 64, {'div2': False, 'div7': False}), (11, 65, {'div2': False, 'div7': False}), (11, 66, {'div2': False, 'div7': False}), (11, 67, {'div2': False, 'div7': False}), (11, 68, {'div2': False, 'div7': False}), (11, 69, {'div2': False, 'div7': False}), (11, 70, {'div2': False, 'div7': False}), (11, 71, {'div2': False, 'div7': False}), (11, 72, {'div2': False, 'div7': False}), (11, 73, {'div2': False, 'div7': False}), (11, 74, {'div2': False, 'div7': False}), (11, 75, {'div2': False, 'div7': False}), (11, 76, {'div2': False, 'div7': False}), (11, 77, {'div2': False, 'div7': False}), (11, 78, {'div2': False, 'div7': False}), (11, 79, {'div2': False, 'div7': False}), (11, 80, {'div2': False, 'div7': False}), (11, 81, {'div2': False, 'div7': False}), (11, 82, {'div2': False, 'div7': False}), (11, 83, {'div2': False, 'div7': False}), (11, 84, {'div2': False, 'div7': False}), (11, 85, {'div2': False, 'div7': False}), (11, 86, {'div2': False, 'div7': False}), (11, 87, {'div2': False, 'div7': False}), (11, 88, {'div2': False, 'div7': False}), (11, 89, {'div2': False, 'div7': False}), (11, 90, {'div2': False, 'div7': False}), (11, 91, {'div2': False, 'div7': False}), (11, 92, {'div2': False, 'div7': False}), (11, 93, {'div2': False, 'div7': False}), (11, 94, {'div2': False, 'div7': False}), (11, 95, {'div2': False, 'div7': False}), (11, 96, {'div2': False, 'div7': False}), (11, 97, {'div2': False, 'div7': False}), (11, 98, {'div2': False, 'div7': False}), (11, 99, {'div2': False, 'div7': False}), (12, 13, {'div2': False, 'div7': False}), (12, 14, {'div2': True, 'div7': False}), (12, 15, {'div2': False, 'div7': False}), (12, 16, {'div2': True, 'div7': False}), (12, 17, {'div2': False, 'div7': False}), (12, 18, {'div2': True, 'div7': False}), (12, 19, {'div2': False, 'div7': False}), (12, 20, {'div2': True, 'div7': False}), (12, 21, {'div2': False, 'div7': False}), (12, 22, {'div2': True, 'div7': False}), (12, 23, {'div2': False, 'div7': False}), (12, 24, {'div2': True, 'div7': False}), (12, 25, {'div2': False, 'div7': False}), (12, 26, {'div2': True, 'div7': False}), (12, 27, {'div2': False, 'div7': False}), (12, 28, {'div2': True, 'div7': False}), (12, 29, {'div2': False, 'div7': False}), (12, 30, {'div2': True, 'div7': False}), (12, 31, {'div2': False, 'div7': False}), (12, 32, {'div2': True, 'div7': False}), (12, 33, {'div2': False, 'div7': False}), (12, 34, {'div2': True, 'div7': False}), (12, 35, {'div2': False, 'div7': False}), (12, 36, {'div2': True, 'div7': False}), (12, 37, {'div2': False, 'div7': False}), (12, 38, {'div2': True, 'div7': False}), (12, 39, {'div2': False, 'div7': False}), (12, 40, {'div2': True, 'div7': False}), (12, 41, {'div2': False, 'div7': False}), (12, 42, {'div2': True, 'div7': False}), (12, 43, {'div2': False, 'div7': False}), (12, 44, {'div2': True, 'div7': False}), (12, 45, {'div2': False, 'div7': False}), (12, 46, {'div2': True, 'div7': False}), (12, 47, {'div2': False, 'div7': False}), (12, 48, {'div2': True, 'div7': False}), (12, 49, {'div2': False, 'div7': False}), (12, 50, {'div2': True, 'div7': False}), (12, 51, {'div2': False, 'div7': False}), (12, 52, {'div2': True, 'div7': False}), (12, 53, {'div2': False, 'div7': False}), (12, 54, {'div2': True, 'div7': False}), (12, 55, {'div2': False, 'div7': False}), (12, 56, {'div2': True, 'div7': False}), (12, 57, {'div2': False, 'div7': False}), (12, 58, {'div2': True, 'div7': False}), (12, 59, {'div2': False, 'div7': False}), (12, 60, {'div2': True, 'div7': False}), (12, 61, {'div2': False, 'div7': False}), (12, 62, {'div2': True, 'div7': False}), (12, 63, {'div2': False, 'div7': False}), (12, 64, {'div2': True, 'div7': False}), (12, 65, {'div2': False, 'div7': False}), (12, 66, {'div2': True, 'div7': False}), (12, 67, {'div2': False, 'div7': False}), (12, 68, {'div2': True, 'div7': False}), (12, 69, {'div2': False, 'div7': False}), (12, 70, {'div2': True, 'div7': False}), (12, 71, {'div2': False, 'div7': False}), (12, 72, {'div2': True, 'div7': False}), (12, 73, {'div2': False, 'div7': False}), (12, 74, {'div2': True, 'div7': False}), (12, 75, {'div2': False, 'div7': False}), (12, 76, {'div2': True, 'div7': False}), (12, 77, {'div2': False, 'div7': False}), (12, 78, {'div2': True, 'div7': False}), (12, 79, {'div2': False, 'div7': False}), (12, 80, {'div2': True, 'div7': False}), (12, 81, {'div2': False, 'div7': False}), (12, 82, {'div2': True, 'div7': False}), (12, 83, {'div2': False, 'div7': False}), (12, 84, {'div2': True, 'div7': False}), (12, 85, {'div2': False, 'div7': False}), (12, 86, {'div2': True, 'div7': False}), (12, 87, {'div2': False, 'div7': False}), (12, 88, {'div2': True, 'div7': False}), (12, 89, {'div2': False, 'div7': False}), (12, 90, {'div2': True, 'div7': False}), (12, 91, {'div2': False, 'div7': False}), (12, 92, {'div2': True, 'div7': False}), (12, 93, {'div2': False, 'div7': False}), (12, 94, {'div2': True, 'div7': False}), (12, 95, {'div2': False, 'div7': False}), (12, 96, {'div2': True, 'div7': False}), (12, 97, {'div2': False, 'div7': False}), (12, 98, {'div2': True, 'div7': False}), (12, 99, {'div2': False, 'div7': False}), (13, 14, {'div2': False, 'div7': False}), (13, 15, {'div2': False, 'div7': False}), (13, 16, {'div2': False, 'div7': False}), (13, 17, {'div2': False, 'div7': False}), (13, 18, {'div2': False, 'div7': False}), (13, 19, {'div2': False, 'div7': False}), (13, 20, {'div2': False, 'div7': False}), (13, 21, {'div2': False, 'div7': False}), (13, 22, {'div2': False, 'div7': False}), (13, 23, {'div2': False, 'div7': False}), (13, 24, {'div2': False, 'div7': False}), (13, 25, {'div2': False, 'div7': False}), (13, 26, {'div2': False, 'div7': False}), (13, 27, {'div2': False, 'div7': False}), (13, 28, {'div2': False, 'div7': False}), (13, 29, {'div2': False, 'div7': False}), (13, 30, {'div2': False, 'div7': False}), (13, 31, {'div2': False, 'div7': False}), (13, 32, {'div2': False, 'div7': False}), (13, 33, {'div2': False, 'div7': False}), (13, 34, {'div2': False, 'div7': False}), (13, 35, {'div2': False, 'div7': False}), (13, 36, {'div2': False, 'div7': False}), (13, 37, {'div2': False, 'div7': False}), (13, 38, {'div2': False, 'div7': False}), (13, 39, {'div2': False, 'div7': False}), (13, 40, {'div2': False, 'div7': False}), (13, 41, {'div2': False, 'div7': False}), (13, 42, {'div2': False, 'div7': False}), (13, 43, {'div2': False, 'div7': False}), (13, 44, {'div2': False, 'div7': False}), (13, 45, {'div2': False, 'div7': False}), (13, 46, {'div2': False, 'div7': False}), (13, 47, {'div2': False, 'div7': False}), (13, 48, {'div2': False, 'div7': False}), (13, 49, {'div2': False, 'div7': False}), (13, 50, {'div2': False, 'div7': False}), (13, 51, {'div2': False, 'div7': False}), (13, 52, {'div2': False, 'div7': False}), (13, 53, {'div2': False, 'div7': False}), (13, 54, {'div2': False, 'div7': False}), (13, 55, {'div2': False, 'div7': False}), (13, 56, {'div2': False, 'div7': False}), (13, 57, {'div2': False, 'div7': False}), (13, 58, {'div2': False, 'div7': False}), (13, 59, {'div2': False, 'div7': False}), (13, 60, {'div2': False, 'div7': False}), (13, 61, {'div2': False, 'div7': False}), (13, 62, {'div2': False, 'div7': False}), (13, 63, {'div2': False, 'div7': False}), (13, 64, {'div2': False, 'div7': False}), (13, 65, {'div2': False, 'div7': False}), (13, 66, {'div2': False, 'div7': False}), (13, 67, {'div2': False, 'div7': False}), (13, 68, {'div2': False, 'div7': False}), (13, 69, {'div2': False, 'div7': False}), (13, 70, {'div2': False, 'div7': False}), (13, 71, {'div2': False, 'div7': False}), (13, 72, {'div2': False, 'div7': False}), (13, 73, {'div2': False, 'div7': False}), (13, 74, {'div2': False, 'div7': False}), (13, 75, {'div2': False, 'div7': False}), (13, 76, {'div2': False, 'div7': False}), (13, 77, {'div2': False, 'div7': False}), (13, 78, {'div2': False, 'div7': False}), (13, 79, {'div2': False, 'div7': False}), (13, 80, {'div2': False, 'div7': False}), (13, 81, {'div2': False, 'div7': False}), (13, 82, {'div2': False, 'div7': False}), (13, 83, {'div2': False, 'div7': False}), (13, 84, {'div2': False, 'div7': False}), (13, 85, {'div2': False, 'div7': False}), (13, 86, {'div2': False, 'div7': False}), (13, 87, {'div2': False, 'div7': False}), (13, 88, {'div2': False, 'div7': False}), (13, 89, {'div2': False, 'div7': False}), (13, 90, {'div2': False, 'div7': False}), (13, 91, {'div2': False, 'div7': False}), (13, 92, {'div2': False, 'div7': False}), (13, 93, {'div2': False, 'div7': False}), (13, 94, {'div2': False, 'div7': False}), (13, 95, {'div2': False, 'div7': False}), (13, 96, {'div2': False, 'div7': False}), (13, 97, {'div2': False, 'div7': False}), (13, 98, {'div2': False, 'div7': False}), (13, 99, {'div2': False, 'div7': False}), (14, 15, {'div2': False, 'div7': False}), (14, 16, {'div2': True, 'div7': False}), (14, 17, {'div2': False, 'div7': False}), (14, 18, {'div2': True, 'div7': False}), (14, 19, {'div2': False, 'div7': False}), (14, 20, {'div2': True, 'div7': False}), (14, 21, {'div2': False, 'div7': True}), (14, 22, {'div2': True, 'div7': False}), (14, 23, {'div2': False, 'div7': False}), (14, 24, {'div2': True, 'div7': False}), (14, 25, {'div2': False, 'div7': False}), (14, 26, {'div2': True, 'div7': False}), (14, 27, {'div2': False, 'div7': False}), (14, 28, {'div2': True, 'div7': True}), (14, 29, {'div2': False, 'div7': False}), (14, 30, {'div2': True, 'div7': False}), (14, 31, {'div2': False, 'div7': False}), (14, 32, {'div2': True, 'div7': False}), (14, 33, {'div2': False, 'div7': False}), (14, 34, {'div2': True, 'div7': False}), (14, 35, {'div2': False, 'div7': True}), (14, 36, {'div2': True, 'div7': False}), (14, 37, {'div2': False, 'div7': False}), (14, 38, {'div2': True, 'div7': False}), (14, 39, {'div2': False, 'div7': False}), (14, 40, {'div2': True, 'div7': False}), (14, 41, {'div2': False, 'div7': False}), (14, 42, {'div2': True, 'div7': True}), (14, 43, {'div2': False, 'div7': False}), (14, 44, {'div2': True, 'div7': False}), (14, 45, {'div2': False, 'div7': False}), (14, 46, {'div2': True, 'div7': False}), (14, 47, {'div2': False, 'div7': False}), (14, 48, {'div2': True, 'div7': False}), (14, 49, {'div2': False, 'div7': True}), (14, 50, {'div2': True, 'div7': False}), (14, 51, {'div2': False, 'div7': False}), (14, 52, {'div2': True, 'div7': False}), (14, 53, {'div2': False, 'div7': False}), (14, 54, {'div2': True, 'div7': False}), (14, 55, {'div2': False, 'div7': False}), (14, 56, {'div2': True, 'div7': True}), (14, 57, {'div2': False, 'div7': False}), (14, 58, {'div2': True, 'div7': False}), (14, 59, {'div2': False, 'div7': False}), (14, 60, {'div2': True, 'div7': False}), (14, 61, {'div2': False, 'div7': False}), (14, 62, {'div2': True, 'div7': False}), (14, 63, {'div2': False, 'div7': True}), (14, 64, {'div2': True, 'div7': False}), (14, 65, {'div2': False, 'div7': False}), (14, 66, {'div2': True, 'div7': False}), (14, 67, {'div2': False, 'div7': False}), (14, 68, {'div2': True, 'div7': False}), (14, 69, {'div2': False, 'div7': False}), (14, 70, {'div2': True, 'div7': True}), (14, 71, {'div2': False, 'div7': False}), (14, 72, {'div2': True, 'div7': False}), (14, 73, {'div2': False, 'div7': False}), (14, 74, {'div2': True, 'div7': False}), (14, 75, {'div2': False, 'div7': False}), (14, 76, {'div2': True, 'div7': False}), (14, 77, {'div2': False, 'div7': True}), (14, 78, {'div2': True, 'div7': False}), (14, 79, {'div2': False, 'div7': False}), (14, 80, {'div2': True, 'div7': False}), (14, 81, {'div2': False, 'div7': False}), (14, 82, {'div2': True, 'div7': False}), (14, 83, {'div2': False, 'div7': False}), (14, 84, {'div2': True, 'div7': True}), (14, 85, {'div2': False, 'div7': False}), (14, 86, {'div2': True, 'div7': False}), (14, 87, {'div2': False, 'div7': False}), (14, 88, {'div2': True, 'div7': False}), (14, 89, {'div2': False, 'div7': False}), (14, 90, {'div2': True, 'div7': False}), (14, 91, {'div2': False, 'div7': True}), (14, 92, {'div2': True, 'div7': False}), (14, 93, {'div2': False, 'div7': False}), (14, 94, {'div2': True, 'div7': False}), (14, 95, {'div2': False, 'div7': False}), (14, 96, {'div2': True, 'div7': False}), (14, 97, {'div2': False, 'div7': False}), (14, 98, {'div2': True, 'div7': True}), (14, 99, {'div2': False, 'div7': False}), (15, 16, {'div2': False, 'div7': False}), (15, 17, {'div2': False, 'div7': False}), (15, 18, {'div2': False, 'div7': False}), (15, 19, {'div2': False, 'div7': False}), (15, 20, {'div2': False, 'div7': False}), (15, 21, {'div2': False, 'div7': False}), (15, 22, {'div2': False, 'div7': False}), (15, 23, {'div2': False, 'div7': False}), (15, 24, {'div2': False, 'div7': False}), (15, 25, {'div2': False, 'div7': False}), (15, 26, {'div2': False, 'div7': False}), (15, 27, {'div2': False, 'div7': False}), (15, 28, {'div2': False, 'div7': False}), (15, 29, {'div2': False, 'div7': False}), (15, 30, {'div2': False, 'div7': False}), (15, 31, {'div2': False, 'div7': False}), (15, 32, {'div2': False, 'div7': False}), (15, 33, {'div2': False, 'div7': False}), (15, 34, {'div2': False, 'div7': False}), (15, 35, {'div2': False, 'div7': False}), (15, 36, {'div2': False, 'div7': False}), (15, 37, {'div2': False, 'div7': False}), (15, 38, {'div2': False, 'div7': False}), (15, 39, {'div2': False, 'div7': False}), (15, 40, {'div2': False, 'div7': False}), (15, 41, {'div2': False, 'div7': False}), (15, 42, {'div2': False, 'div7': False}), (15, 43, {'div2': False, 'div7': False}), (15, 44, {'div2': False, 'div7': False}), (15, 45, {'div2': False, 'div7': False}), (15, 46, {'div2': False, 'div7': False}), (15, 47, {'div2': False, 'div7': False}), (15, 48, {'div2': False, 'div7': False}), (15, 49, {'div2': False, 'div7': False}), (15, 50, {'div2': False, 'div7': False}), (15, 51, {'div2': False, 'div7': False}), (15, 52, {'div2': False, 'div7': False}), (15, 53, {'div2': False, 'div7': False}), (15, 54, {'div2': False, 'div7': False}), (15, 55, {'div2': False, 'div7': False}), (15, 56, {'div2': False, 'div7': False}), (15, 57, {'div2': False, 'div7': False}), (15, 58, {'div2': False, 'div7': False}), (15, 59, {'div2': False, 'div7': False}), (15, 60, {'div2': False, 'div7': False}), (15, 61, {'div2': False, 'div7': False}), (15, 62, {'div2': False, 'div7': False}), (15, 63, {'div2': False, 'div7': False}), (15, 64, {'div2': False, 'div7': False}), (15, 65, {'div2': False, 'div7': False}), (15, 66, {'div2': False, 'div7': False}), (15, 67, {'div2': False, 'div7': False}), (15, 68, {'div2': False, 'div7': False}), (15, 69, {'div2': False, 'div7': False}), (15, 70, {'div2': False, 'div7': False}), (15, 71, {'div2': False, 'div7': False}), (15, 72, {'div2': False, 'div7': False}), (15, 73, {'div2': False, 'div7': False}), (15, 74, {'div2': False, 'div7': False}), (15, 75, {'div2': False, 'div7': False}), (15, 76, {'div2': False, 'div7': False}), (15, 77, {'div2': False, 'div7': False}), (15, 78, {'div2': False, 'div7': False}), (15, 79, {'div2': False, 'div7': False}), (15, 80, {'div2': False, 'div7': False}), (15, 81, {'div2': False, 'div7': False}), (15, 82, {'div2': False, 'div7': False}), (15, 83, {'div2': False, 'div7': False}), (15, 84, {'div2': False, 'div7': False}), (15, 85, {'div2': False, 'div7': False}), (15, 86, {'div2': False, 'div7': False}), (15, 87, {'div2': False, 'div7': False}), (15, 88, {'div2': False, 'div7': False}), (15, 89, {'div2': False, 'div7': False}), (15, 90, {'div2': False, 'div7': False}), (15, 91, {'div2': False, 'div7': False}), (15, 92, {'div2': False, 'div7': False}), (15, 93, {'div2': False, 'div7': False}), (15, 94, {'div2': False, 'div7': False}), (15, 95, {'div2': False, 'div7': False}), (15, 96, {'div2': False, 'div7': False}), (15, 97, {'div2': False, 'div7': False}), (15, 98, {'div2': False, 'div7': False}), (15, 99, {'div2': False, 'div7': False}), (16, 17, {'div2': False, 'div7': False}), (16, 18, {'div2': True, 'div7': False}), (16, 19, {'div2': False, 'div7': False}), (16, 20, {'div2': True, 'div7': False}), (16, 21, {'div2': False, 'div7': False}), (16, 22, {'div2': True, 'div7': False}), (16, 23, {'div2': False, 'div7': False}), (16, 24, {'div2': True, 'div7': False}), (16, 25, {'div2': False, 'div7': False}), (16, 26, {'div2': True, 'div7': False}), (16, 27, {'div2': False, 'div7': False}), (16, 28, {'div2': True, 'div7': False}), (16, 29, {'div2': False, 'div7': False}), (16, 30, {'div2': True, 'div7': False}), (16, 31, {'div2': False, 'div7': False}), (16, 32, {'div2': True, 'div7': False}), (16, 33, {'div2': False, 'div7': False}), (16, 34, {'div2': True, 'div7': False}), (16, 35, {'div2': False, 'div7': False}), (16, 36, {'div2': True, 'div7': False}), (16, 37, {'div2': False, 'div7': False}), (16, 38, {'div2': True, 'div7': False}), (16, 39, {'div2': False, 'div7': False}), (16, 40, {'div2': True, 'div7': False}), (16, 41, {'div2': False, 'div7': False}), (16, 42, {'div2': True, 'div7': False}), (16, 43, {'div2': False, 'div7': False}), (16, 44, {'div2': True, 'div7': False}), (16, 45, {'div2': False, 'div7': False}), (16, 46, {'div2': True, 'div7': False}), (16, 47, {'div2': False, 'div7': False}), (16, 48, {'div2': True, 'div7': False}), (16, 49, {'div2': False, 'div7': False}), (16, 50, {'div2': True, 'div7': False}), (16, 51, {'div2': False, 'div7': False}), (16, 52, {'div2': True, 'div7': False}), (16, 53, {'div2': False, 'div7': False}), (16, 54, {'div2': True, 'div7': False}), (16, 55, {'div2': False, 'div7': False}), (16, 56, {'div2': True, 'div7': False}), (16, 57, {'div2': False, 'div7': False}), (16, 58, {'div2': True, 'div7': False}), (16, 59, {'div2': False, 'div7': False}), (16, 60, {'div2': True, 'div7': False}), (16, 61, {'div2': False, 'div7': False}), (16, 62, {'div2': True, 'div7': False}), (16, 63, {'div2': False, 'div7': False}), (16, 64, {'div2': True, 'div7': False}), (16, 65, {'div2': False, 'div7': False}), (16, 66, {'div2': True, 'div7': False}), (16, 67, {'div2': False, 'div7': False}), (16, 68, {'div2': True, 'div7': False}), (16, 69, {'div2': False, 'div7': False}), (16, 70, {'div2': True, 'div7': False}), (16, 71, {'div2': False, 'div7': False}), (16, 72, {'div2': True, 'div7': False}), (16, 73, {'div2': False, 'div7': False}), (16, 74, {'div2': True, 'div7': False}), (16, 75, {'div2': False, 'div7': False}), (16, 76, {'div2': True, 'div7': False}), (16, 77, {'div2': False, 'div7': False}), (16, 78, {'div2': True, 'div7': False}), (16, 79, {'div2': False, 'div7': False}), (16, 80, {'div2': True, 'div7': False}), (16, 81, {'div2': False, 'div7': False}), (16, 82, {'div2': True, 'div7': False}), (16, 83, {'div2': False, 'div7': False}), (16, 84, {'div2': True, 'div7': False}), (16, 85, {'div2': False, 'div7': False}), (16, 86, {'div2': True, 'div7': False}), (16, 87, {'div2': False, 'div7': False}), (16, 88, {'div2': True, 'div7': False}), (16, 89, {'div2': False, 'div7': False}), (16, 90, {'div2': True, 'div7': False}), (16, 91, {'div2': False, 'div7': False}), (16, 92, {'div2': True, 'div7': False}), (16, 93, {'div2': False, 'div7': False}), (16, 94, {'div2': True, 'div7': False}), (16, 95, {'div2': False, 'div7': False}), (16, 96, {'div2': True, 'div7': False}), (16, 97, {'div2': False, 'div7': False}), (16, 98, {'div2': True, 'div7': False}), (16, 99, {'div2': False, 'div7': False}), (17, 18, {'div2': False, 'div7': False}), (17, 19, {'div2': False, 'div7': False}), (17, 20, {'div2': False, 'div7': False}), (17, 21, {'div2': False, 'div7': False}), (17, 22, {'div2': False, 'div7': False}), (17, 23, {'div2': False, 'div7': False}), (17, 24, {'div2': False, 'div7': False}), (17, 25, {'div2': False, 'div7': False}), (17, 26, {'div2': False, 'div7': False}), (17, 27, {'div2': False, 'div7': False}), (17, 28, {'div2': False, 'div7': False}), (17, 29, {'div2': False, 'div7': False}), (17, 30, {'div2': False, 'div7': False}), (17, 31, {'div2': False, 'div7': False}), (17, 32, {'div2': False, 'div7': False}), (17, 33, {'div2': False, 'div7': False}), (17, 34, {'div2': False, 'div7': False}), (17, 35, {'div2': False, 'div7': False}), (17, 36, {'div2': False, 'div7': False}), (17, 37, {'div2': False, 'div7': False}), (17, 38, {'div2': False, 'div7': False}), (17, 39, {'div2': False, 'div7': False}), (17, 40, {'div2': False, 'div7': False}), (17, 41, {'div2': False, 'div7': False}), (17, 42, {'div2': False, 'div7': False}), (17, 43, {'div2': False, 'div7': False}), (17, 44, {'div2': False, 'div7': False}), (17, 45, {'div2': False, 'div7': False}), (17, 46, {'div2': False, 'div7': False}), (17, 47, {'div2': False, 'div7': False}), (17, 48, {'div2': False, 'div7': False}), (17, 49, {'div2': False, 'div7': False}), (17, 50, {'div2': False, 'div7': False}), (17, 51, {'div2': False, 'div7': False}), (17, 52, {'div2': False, 'div7': False}), (17, 53, {'div2': False, 'div7': False}), (17, 54, {'div2': False, 'div7': False}), (17, 55, {'div2': False, 'div7': False}), (17, 56, {'div2': False, 'div7': False}), (17, 57, {'div2': False, 'div7': False}), (17, 58, {'div2': False, 'div7': False}), (17, 59, {'div2': False, 'div7': False}), (17, 60, {'div2': False, 'div7': False}), (17, 61, {'div2': False, 'div7': False}), (17, 62, {'div2': False, 'div7': False}), (17, 63, {'div2': False, 'div7': False}), (17, 64, {'div2': False, 'div7': False}), (17, 65, {'div2': False, 'div7': False}), (17, 66, {'div2': False, 'div7': False}), (17, 67, {'div2': False, 'div7': False}), (17, 68, {'div2': False, 'div7': False}), (17, 69, {'div2': False, 'div7': False}), (17, 70, {'div2': False, 'div7': False}), (17, 71, {'div2': False, 'div7': False}), (17, 72, {'div2': False, 'div7': False}), (17, 73, {'div2': False, 'div7': False}), (17, 74, {'div2': False, 'div7': False}), (17, 75, {'div2': False, 'div7': False}), (17, 76, {'div2': False, 'div7': False}), (17, 77, {'div2': False, 'div7': False}), (17, 78, {'div2': False, 'div7': False}), (17, 79, {'div2': False, 'div7': False}), (17, 80, {'div2': False, 'div7': False}), (17, 81, {'div2': False, 'div7': False}), (17, 82, {'div2': False, 'div7': False}), (17, 83, {'div2': False, 'div7': False}), (17, 84, {'div2': False, 'div7': False}), (17, 85, {'div2': False, 'div7': False}), (17, 86, {'div2': False, 'div7': False}), (17, 87, {'div2': False, 'div7': False}), (17, 88, {'div2': False, 'div7': False}), (17, 89, {'div2': False, 'div7': False}), (17, 90, {'div2': False, 'div7': False}), (17, 91, {'div2': False, 'div7': False}), (17, 92, {'div2': False, 'div7': False}), (17, 93, {'div2': False, 'div7': False}), (17, 94, {'div2': False, 'div7': False}), (17, 95, {'div2': False, 'div7': False}), (17, 96, {'div2': False, 'div7': False}), (17, 97, {'div2': False, 'div7': False}), (17, 98, {'div2': False, 'div7': False}), (17, 99, {'div2': False, 'div7': False}), (18, 19, {'div2': False, 'div7': False}), (18, 20, {'div2': True, 'div7': False}), (18, 21, {'div2': False, 'div7': False}), (18, 22, {'div2': True, 'div7': False}), (18, 23, {'div2': False, 'div7': False}), (18, 24, {'div2': True, 'div7': False}), (18, 25, {'div2': False, 'div7': False}), (18, 26, {'div2': True, 'div7': False}), (18, 27, {'div2': False, 'div7': False}), (18, 28, {'div2': True, 'div7': False}), (18, 29, {'div2': False, 'div7': False}), (18, 30, {'div2': True, 'div7': False}), (18, 31, {'div2': False, 'div7': False}), (18, 32, {'div2': True, 'div7': False}), (18, 33, {'div2': False, 'div7': False}), (18, 34, {'div2': True, 'div7': False}), (18, 35, {'div2': False, 'div7': False}), (18, 36, {'div2': True, 'div7': False}), (18, 37, {'div2': False, 'div7': False}), (18, 38, {'div2': True, 'div7': False}), (18, 39, {'div2': False, 'div7': False}), (18, 40, {'div2': True, 'div7': False}), (18, 41, {'div2': False, 'div7': False}), (18, 42, {'div2': True, 'div7': False}), (18, 43, {'div2': False, 'div7': False}), (18, 44, {'div2': True, 'div7': False}), (18, 45, {'div2': False, 'div7': False}), (18, 46, {'div2': True, 'div7': False}), (18, 47, {'div2': False, 'div7': False}), (18, 48, {'div2': True, 'div7': False}), (18, 49, {'div2': False, 'div7': False}), (18, 50, {'div2': True, 'div7': False}), (18, 51, {'div2': False, 'div7': False}), (18, 52, {'div2': True, 'div7': False}), (18, 53, {'div2': False, 'div7': False}), (18, 54, {'div2': True, 'div7': False}), (18, 55, {'div2': False, 'div7': False}), (18, 56, {'div2': True, 'div7': False}), (18, 57, {'div2': False, 'div7': False}), (18, 58, {'div2': True, 'div7': False}), (18, 59, {'div2': False, 'div7': False}), (18, 60, {'div2': True, 'div7': False}), (18, 61, {'div2': False, 'div7': False}), (18, 62, {'div2': True, 'div7': False}), (18, 63, {'div2': False, 'div7': False}), (18, 64, {'div2': True, 'div7': False}), (18, 65, {'div2': False, 'div7': False}), (18, 66, {'div2': True, 'div7': False}), (18, 67, {'div2': False, 'div7': False}), (18, 68, {'div2': True, 'div7': False}), (18, 69, {'div2': False, 'div7': False}), (18, 70, {'div2': True, 'div7': False}), (18, 71, {'div2': False, 'div7': False}), (18, 72, {'div2': True, 'div7': False}), (18, 73, {'div2': False, 'div7': False}), (18, 74, {'div2': True, 'div7': False}), (18, 75, {'div2': False, 'div7': False}), (18, 76, {'div2': True, 'div7': False}), (18, 77, {'div2': False, 'div7': False}), (18, 78, {'div2': True, 'div7': False}), (18, 79, {'div2': False, 'div7': False}), (18, 80, {'div2': True, 'div7': False}), (18, 81, {'div2': False, 'div7': False}), (18, 82, {'div2': True, 'div7': False}), (18, 83, {'div2': False, 'div7': False}), (18, 84, {'div2': True, 'div7': False}), (18, 85, {'div2': False, 'div7': False}), (18, 86, {'div2': True, 'div7': False}), (18, 87, {'div2': False, 'div7': False}), (18, 88, {'div2': True, 'div7': False}), (18, 89, {'div2': False, 'div7': False}), (18, 90, {'div2': True, 'div7': False}), (18, 91, {'div2': False, 'div7': False}), (18, 92, {'div2': True, 'div7': False}), (18, 93, {'div2': False, 'div7': False}), (18, 94, {'div2': True, 'div7': False}), (18, 95, {'div2': False, 'div7': False}), (18, 96, {'div2': True, 'div7': False}), (18, 97, {'div2': False, 'div7': False}), (18, 98, {'div2': True, 'div7': False}), (18, 99, {'div2': False, 'div7': False}), (19, 20, {'div2': False, 'div7': False}), (19, 21, {'div2': False, 'div7': False}), (19, 22, {'div2': False, 'div7': False}), (19, 23, {'div2': False, 'div7': False}), (19, 24, {'div2': False, 'div7': False}), (19, 25, {'div2': False, 'div7': False}), (19, 26, {'div2': False, 'div7': False}), (19, 27, {'div2': False, 'div7': False}), (19, 28, {'div2': False, 'div7': False}), (19, 29, {'div2': False, 'div7': False}), (19, 30, {'div2': False, 'div7': False}), (19, 31, {'div2': False, 'div7': False}), (19, 32, {'div2': False, 'div7': False}), (19, 33, {'div2': False, 'div7': False}), (19, 34, {'div2': False, 'div7': False}), (19, 35, {'div2': False, 'div7': False}), (19, 36, {'div2': False, 'div7': False}), (19, 37, {'div2': False, 'div7': False}), (19, 38, {'div2': False, 'div7': False}), (19, 39, {'div2': False, 'div7': False}), (19, 40, {'div2': False, 'div7': False}), (19, 41, {'div2': False, 'div7': False}), (19, 42, {'div2': False, 'div7': False}), (19, 43, {'div2': False, 'div7': False}), (19, 44, {'div2': False, 'div7': False}), (19, 45, {'div2': False, 'div7': False}), (19, 46, {'div2': False, 'div7': False}), (19, 47, {'div2': False, 'div7': False}), (19, 48, {'div2': False, 'div7': False}), (19, 49, {'div2': False, 'div7': False}), (19, 50, {'div2': False, 'div7': False}), (19, 51, {'div2': False, 'div7': False}), (19, 52, {'div2': False, 'div7': False}), (19, 53, {'div2': False, 'div7': False}), (19, 54, {'div2': False, 'div7': False}), (19, 55, {'div2': False, 'div7': False}), (19, 56, {'div2': False, 'div7': False}), (19, 57, {'div2': False, 'div7': False}), (19, 58, {'div2': False, 'div7': False}), (19, 59, {'div2': False, 'div7': False}), (19, 60, {'div2': False, 'div7': False}), (19, 61, {'div2': False, 'div7': False}), (19, 62, {'div2': False, 'div7': False}), (19, 63, {'div2': False, 'div7': False}), (19, 64, {'div2': False, 'div7': False}), (19, 65, {'div2': False, 'div7': False}), (19, 66, {'div2': False, 'div7': False}), (19, 67, {'div2': False, 'div7': False}), (19, 68, {'div2': False, 'div7': False}), (19, 69, {'div2': False, 'div7': False}), (19, 70, {'div2': False, 'div7': False}), (19, 71, {'div2': False, 'div7': False}), (19, 72, {'div2': False, 'div7': False}), (19, 73, {'div2': False, 'div7': False}), (19, 74, {'div2': False, 'div7': False}), (19, 75, {'div2': False, 'div7': False}), (19, 76, {'div2': False, 'div7': False}), (19, 77, {'div2': False, 'div7': False}), (19, 78, {'div2': False, 'div7': False}), (19, 79, {'div2': False, 'div7': False}), (19, 80, {'div2': False, 'div7': False}), (19, 81, {'div2': False, 'div7': False}), (19, 82, {'div2': False, 'div7': False}), (19, 83, {'div2': False, 'div7': False}), (19, 84, {'div2': False, 'div7': False}), (19, 85, {'div2': False, 'div7': False}), (19, 86, {'div2': False, 'div7': False}), (19, 87, {'div2': False, 'div7': False}), (19, 88, {'div2': False, 'div7': False}), (19, 89, {'div2': False, 'div7': False}), (19, 90, {'div2': False, 'div7': False}), (19, 91, {'div2': False, 'div7': False}), (19, 92, {'div2': False, 'div7': False}), (19, 93, {'div2': False, 'div7': False}), (19, 94, {'div2': False, 'div7': False}), (19, 95, {'div2': False, 'div7': False}), (19, 96, {'div2': False, 'div7': False}), (19, 97, {'div2': False, 'div7': False}), (19, 98, {'div2': False, 'div7': False}), (19, 99, {'div2': False, 'div7': False}), (20, 21, {'div2': False, 'div7': False}), (20, 22, {'div2': True, 'div7': False}), (20, 23, {'div2': False, 'div7': False}), (20, 24, {'div2': True, 'div7': False}), (20, 25, {'div2': False, 'div7': False}), (20, 26, {'div2': True, 'div7': False}), (20, 27, {'div2': False, 'div7': False}), (20, 28, {'div2': True, 'div7': False}), (20, 29, {'div2': False, 'div7': False}), (20, 30, {'div2': True, 'div7': False}), (20, 31, {'div2': False, 'div7': False}), (20, 32, {'div2': True, 'div7': False}), (20, 33, {'div2': False, 'div7': False}), (20, 34, {'div2': True, 'div7': False}), (20, 35, {'div2': False, 'div7': False}), (20, 36, {'div2': True, 'div7': False}), (20, 37, {'div2': False, 'div7': False}), (20, 38, {'div2': True, 'div7': False}), (20, 39, {'div2': False, 'div7': False}), (20, 40, {'div2': True, 'div7': False}), (20, 41, {'div2': False, 'div7': False}), (20, 42, {'div2': True, 'div7': False}), (20, 43, {'div2': False, 'div7': False}), (20, 44, {'div2': True, 'div7': False}), (20, 45, {'div2': False, 'div7': False}), (20, 46, {'div2': True, 'div7': False}), (20, 47, {'div2': False, 'div7': False}), (20, 48, {'div2': True, 'div7': False}), (20, 49, {'div2': False, 'div7': False}), (20, 50, {'div2': True, 'div7': False}), (20, 51, {'div2': False, 'div7': False}), (20, 52, {'div2': True, 'div7': False}), (20, 53, {'div2': False, 'div7': False}), (20, 54, {'div2': True, 'div7': False}), (20, 55, {'div2': False, 'div7': False}), (20, 56, {'div2': True, 'div7': False}), (20, 57, {'div2': False, 'div7': False}), (20, 58, {'div2': True, 'div7': False}), (20, 59, {'div2': False, 'div7': False}), (20, 60, {'div2': True, 'div7': False}), (20, 61, {'div2': False, 'div7': False}), (20, 62, {'div2': True, 'div7': False}), (20, 63, {'div2': False, 'div7': False}), (20, 64, {'div2': True, 'div7': False}), (20, 65, {'div2': False, 'div7': False}), (20, 66, {'div2': True, 'div7': False}), (20, 67, {'div2': False, 'div7': False}), (20, 68, {'div2': True, 'div7': False}), (20, 69, {'div2': False, 'div7': False}), (20, 70, {'div2': True, 'div7': False}), (20, 71, {'div2': False, 'div7': False}), (20, 72, {'div2': True, 'div7': False}), (20, 73, {'div2': False, 'div7': False}), (20, 74, {'div2': True, 'div7': False}), (20, 75, {'div2': False, 'div7': False}), (20, 76, {'div2': True, 'div7': False}), (20, 77, {'div2': False, 'div7': False}), (20, 78, {'div2': True, 'div7': False}), (20, 79, {'div2': False, 'div7': False}), (20, 80, {'div2': True, 'div7': False}), (20, 81, {'div2': False, 'div7': False}), (20, 82, {'div2': True, 'div7': False}), (20, 83, {'div2': False, 'div7': False}), (20, 84, {'div2': True, 'div7': False}), (20, 85, {'div2': False, 'div7': False}), (20, 86, {'div2': True, 'div7': False}), (20, 87, {'div2': False, 'div7': False}), (20, 88, {'div2': True, 'div7': False}), (20, 89, {'div2': False, 'div7': False}), (20, 90, {'div2': True, 'div7': False}), (20, 91, {'div2': False, 'div7': False}), (20, 92, {'div2': True, 'div7': False}), (20, 93, {'div2': False, 'div7': False}), (20, 94, {'div2': True, 'div7': False}), (20, 95, {'div2': False, 'div7': False}), (20, 96, {'div2': True, 'div7': False}), (20, 97, {'div2': False, 'div7': False}), (20, 98, {'div2': True, 'div7': False}), (20, 99, {'div2': False, 'div7': False}), (21, 22, {'div2': False, 'div7': False}), (21, 23, {'div2': False, 'div7': False}), (21, 24, {'div2': False, 'div7': False}), (21, 25, {'div2': False, 'div7': False}), (21, 26, {'div2': False, 'div7': False}), (21, 27, {'div2': False, 'div7': False}), (21, 28, {'div2': False, 'div7': True}), (21, 29, {'div2': False, 'div7': False}), (21, 30, {'div2': False, 'div7': False}), (21, 31, {'div2': False, 'div7': False}), (21, 32, {'div2': False, 'div7': False}), (21, 33, {'div2': False, 'div7': False}), (21, 34, {'div2': False, 'div7': False}), (21, 35, {'div2': False, 'div7': True}), (21, 36, {'div2': False, 'div7': False}), (21, 37, {'div2': False, 'div7': False}), (21, 38, {'div2': False, 'div7': False}), (21, 39, {'div2': False, 'div7': False}), (21, 40, {'div2': False, 'div7': False}), (21, 41, {'div2': False, 'div7': False}), (21, 42, {'div2': False, 'div7': True}), (21, 43, {'div2': False, 'div7': False}), (21, 44, {'div2': False, 'div7': False}), (21, 45, {'div2': False, 'div7': False}), (21, 46, {'div2': False, 'div7': False}), (21, 47, {'div2': False, 'div7': False}), (21, 48, {'div2': False, 'div7': False}), (21, 49, {'div2': False, 'div7': True}), (21, 50, {'div2': False, 'div7': False}), (21, 51, {'div2': False, 'div7': False}), (21, 52, {'div2': False, 'div7': False}), (21, 53, {'div2': False, 'div7': False}), (21, 54, {'div2': False, 'div7': False}), (21, 55, {'div2': False, 'div7': False}), (21, 56, {'div2': False, 'div7': True}), (21, 57, {'div2': False, 'div7': False}), (21, 58, {'div2': False, 'div7': False}), (21, 59, {'div2': False, 'div7': False}), (21, 60, {'div2': False, 'div7': False}), (21, 61, {'div2': False, 'div7': False}), (21, 62, {'div2': False, 'div7': False}), (21, 63, {'div2': False, 'div7': True}), (21, 64, {'div2': False, 'div7': False}), (21, 65, {'div2': False, 'div7': False}), (21, 66, {'div2': False, 'div7': False}), (21, 67, {'div2': False, 'div7': False}), (21, 68, {'div2': False, 'div7': False}), (21, 69, {'div2': False, 'div7': False}), (21, 70, {'div2': False, 'div7': True}), (21, 71, {'div2': False, 'div7': False}), (21, 72, {'div2': False, 'div7': False}), (21, 73, {'div2': False, 'div7': False}), (21, 74, {'div2': False, 'div7': False}), (21, 75, {'div2': False, 'div7': False}), (21, 76, {'div2': False, 'div7': False}), (21, 77, {'div2': False, 'div7': True}), (21, 78, {'div2': False, 'div7': False}), (21, 79, {'div2': False, 'div7': False}), (21, 80, {'div2': False, 'div7': False}), (21, 81, {'div2': False, 'div7': False}), (21, 82, {'div2': False, 'div7': False}), (21, 83, {'div2': False, 'div7': False}), (21, 84, {'div2': False, 'div7': True}), (21, 85, {'div2': False, 'div7': False}), (21, 86, {'div2': False, 'div7': False}), (21, 87, {'div2': False, 'div7': False}), (21, 88, {'div2': False, 'div7': False}), (21, 89, {'div2': False, 'div7': False}), (21, 90, {'div2': False, 'div7': False}), (21, 91, {'div2': False, 'div7': True}), (21, 92, {'div2': False, 'div7': False}), (21, 93, {'div2': False, 'div7': False}), (21, 94, {'div2': False, 'div7': False}), (21, 95, {'div2': False, 'div7': False}), (21, 96, {'div2': False, 'div7': False}), (21, 97, {'div2': False, 'div7': False}), (21, 98, {'div2': False, 'div7': True}), (21, 99, {'div2': False, 'div7': False}), (22, 23, {'div2': False, 'div7': False}), (22, 24, {'div2': True, 'div7': False}), (22, 25, {'div2': False, 'div7': False}), (22, 26, {'div2': True, 'div7': False}), (22, 27, {'div2': False, 'div7': False}), (22, 28, {'div2': True, 'div7': False}), (22, 29, {'div2': False, 'div7': False}), (22, 30, {'div2': True, 'div7': False}), (22, 31, {'div2': False, 'div7': False}), (22, 32, {'div2': True, 'div7': False}), (22, 33, {'div2': False, 'div7': False}), (22, 34, {'div2': True, 'div7': False}), (22, 35, {'div2': False, 'div7': False}), (22, 36, {'div2': True, 'div7': False}), (22, 37, {'div2': False, 'div7': False}), (22, 38, {'div2': True, 'div7': False}), (22, 39, {'div2': False, 'div7': False}), (22, 40, {'div2': True, 'div7': False}), (22, 41, {'div2': False, 'div7': False}), (22, 42, {'div2': True, 'div7': False}), (22, 43, {'div2': False, 'div7': False}), (22, 44, {'div2': True, 'div7': False}), (22, 45, {'div2': False, 'div7': False}), (22, 46, {'div2': True, 'div7': False}), (22, 47, {'div2': False, 'div7': False}), (22, 48, {'div2': True, 'div7': False}), (22, 49, {'div2': False, 'div7': False}), (22, 50, {'div2': True, 'div7': False}), (22, 51, {'div2': False, 'div7': False}), (22, 52, {'div2': True, 'div7': False}), (22, 53, {'div2': False, 'div7': False}), (22, 54, {'div2': True, 'div7': False}), (22, 55, {'div2': False, 'div7': False}), (22, 56, {'div2': True, 'div7': False}), (22, 57, {'div2': False, 'div7': False}), (22, 58, {'div2': True, 'div7': False}), (22, 59, {'div2': False, 'div7': False}), (22, 60, {'div2': True, 'div7': False}), (22, 61, {'div2': False, 'div7': False}), (22, 62, {'div2': True, 'div7': False}), (22, 63, {'div2': False, 'div7': False}), (22, 64, {'div2': True, 'div7': False}), (22, 65, {'div2': False, 'div7': False}), (22, 66, {'div2': True, 'div7': False}), (22, 67, {'div2': False, 'div7': False}), (22, 68, {'div2': True, 'div7': False}), (22, 69, {'div2': False, 'div7': False}), (22, 70, {'div2': True, 'div7': False}), (22, 71, {'div2': False, 'div7': False}), (22, 72, {'div2': True, 'div7': False}), (22, 73, {'div2': False, 'div7': False}), (22, 74, {'div2': True, 'div7': False}), (22, 75, {'div2': False, 'div7': False}), (22, 76, {'div2': True, 'div7': False}), (22, 77, {'div2': False, 'div7': False}), (22, 78, {'div2': True, 'div7': False}), (22, 79, {'div2': False, 'div7': False}), (22, 80, {'div2': True, 'div7': False}), (22, 81, {'div2': False, 'div7': False}), (22, 82, {'div2': True, 'div7': False}), (22, 83, {'div2': False, 'div7': False}), (22, 84, {'div2': True, 'div7': False}), (22, 85, {'div2': False, 'div7': False}), (22, 86, {'div2': True, 'div7': False}), (22, 87, {'div2': False, 'div7': False}), (22, 88, {'div2': True, 'div7': False}), (22, 89, {'div2': False, 'div7': False}), (22, 90, {'div2': True, 'div7': False}), (22, 91, {'div2': False, 'div7': False}), (22, 92, {'div2': True, 'div7': False}), (22, 93, {'div2': False, 'div7': False}), (22, 94, {'div2': True, 'div7': False}), (22, 95, {'div2': False, 'div7': False}), (22, 96, {'div2': True, 'div7': False}), (22, 97, {'div2': False, 'div7': False}), (22, 98, {'div2': True, 'div7': False}), (22, 99, {'div2': False, 'div7': False}), (23, 24, {'div2': False, 'div7': False}), (23, 25, {'div2': False, 'div7': False}), (23, 26, {'div2': False, 'div7': False}), (23, 27, {'div2': False, 'div7': False}), (23, 28, {'div2': False, 'div7': False}), (23, 29, {'div2': False, 'div7': False}), (23, 30, {'div2': False, 'div7': False}), (23, 31, {'div2': False, 'div7': False}), (23, 32, {'div2': False, 'div7': False}), (23, 33, {'div2': False, 'div7': False}), (23, 34, {'div2': False, 'div7': False}), (23, 35, {'div2': False, 'div7': False}), (23, 36, {'div2': False, 'div7': False}), (23, 37, {'div2': False, 'div7': False}), (23, 38, {'div2': False, 'div7': False}), (23, 39, {'div2': False, 'div7': False}), (23, 40, {'div2': False, 'div7': False}), (23, 41, {'div2': False, 'div7': False}), (23, 42, {'div2': False, 'div7': False}), (23, 43, {'div2': False, 'div7': False}), (23, 44, {'div2': False, 'div7': False}), (23, 45, {'div2': False, 'div7': False}), (23, 46, {'div2': False, 'div7': False}), (23, 47, {'div2': False, 'div7': False}), (23, 48, {'div2': False, 'div7': False}), (23, 49, {'div2': False, 'div7': False}), (23, 50, {'div2': False, 'div7': False}), (23, 51, {'div2': False, 'div7': False}), (23, 52, {'div2': False, 'div7': False}), (23, 53, {'div2': False, 'div7': False}), (23, 54, {'div2': False, 'div7': False}), (23, 55, {'div2': False, 'div7': False}), (23, 56, {'div2': False, 'div7': False}), (23, 57, {'div2': False, 'div7': False}), (23, 58, {'div2': False, 'div7': False}), (23, 59, {'div2': False, 'div7': False}), (23, 60, {'div2': False, 'div7': False}), (23, 61, {'div2': False, 'div7': False}), (23, 62, {'div2': False, 'div7': False}), (23, 63, {'div2': False, 'div7': False}), (23, 64, {'div2': False, 'div7': False}), (23, 65, {'div2': False, 'div7': False}), (23, 66, {'div2': False, 'div7': False}), (23, 67, {'div2': False, 'div7': False}), (23, 68, {'div2': False, 'div7': False}), (23, 69, {'div2': False, 'div7': False}), (23, 70, {'div2': False, 'div7': False}), (23, 71, {'div2': False, 'div7': False}), (23, 72, {'div2': False, 'div7': False}), (23, 73, {'div2': False, 'div7': False}), (23, 74, {'div2': False, 'div7': False}), (23, 75, {'div2': False, 'div7': False}), (23, 76, {'div2': False, 'div7': False}), (23, 77, {'div2': False, 'div7': False}), (23, 78, {'div2': False, 'div7': False}), (23, 79, {'div2': False, 'div7': False}), (23, 80, {'div2': False, 'div7': False}), (23, 81, {'div2': False, 'div7': False}), (23, 82, {'div2': False, 'div7': False}), (23, 83, {'div2': False, 'div7': False}), (23, 84, {'div2': False, 'div7': False}), (23, 85, {'div2': False, 'div7': False}), (23, 86, {'div2': False, 'div7': False}), (23, 87, {'div2': False, 'div7': False}), (23, 88, {'div2': False, 'div7': False}), (23, 89, {'div2': False, 'div7': False}), (23, 90, {'div2': False, 'div7': False}), (23, 91, {'div2': False, 'div7': False}), (23, 92, {'div2': False, 'div7': False}), (23, 93, {'div2': False, 'div7': False}), (23, 94, {'div2': False, 'div7': False}), (23, 95, {'div2': False, 'div7': False}), (23, 96, {'div2': False, 'div7': False}), (23, 97, {'div2': False, 'div7': False}), (23, 98, {'div2': False, 'div7': False}), (23, 99, {'div2': False, 'div7': False}), (24, 25, {'div2': False, 'div7': False}), (24, 26, {'div2': True, 'div7': False}), (24, 27, {'div2': False, 'div7': False}), (24, 28, {'div2': True, 'div7': False}), (24, 29, {'div2': False, 'div7': False}), (24, 30, {'div2': True, 'div7': False}), (24, 31, {'div2': False, 'div7': False}), (24, 32, {'div2': True, 'div7': False}), (24, 33, {'div2': False, 'div7': False}), (24, 34, {'div2': True, 'div7': False}), (24, 35, {'div2': False, 'div7': False}), (24, 36, {'div2': True, 'div7': False}), (24, 37, {'div2': False, 'div7': False}), (24, 38, {'div2': True, 'div7': False}), (24, 39, {'div2': False, 'div7': False}), (24, 40, {'div2': True, 'div7': False}), (24, 41, {'div2': False, 'div7': False}), (24, 42, {'div2': True, 'div7': False}), (24, 43, {'div2': False, 'div7': False}), (24, 44, {'div2': True, 'div7': False}), (24, 45, {'div2': False, 'div7': False}), (24, 46, {'div2': True, 'div7': False}), (24, 47, {'div2': False, 'div7': False}), (24, 48, {'div2': True, 'div7': False}), (24, 49, {'div2': False, 'div7': False}), (24, 50, {'div2': True, 'div7': False}), (24, 51, {'div2': False, 'div7': False}), (24, 52, {'div2': True, 'div7': False}), (24, 53, {'div2': False, 'div7': False}), (24, 54, {'div2': True, 'div7': False}), (24, 55, {'div2': False, 'div7': False}), (24, 56, {'div2': True, 'div7': False}), (24, 57, {'div2': False, 'div7': False}), (24, 58, {'div2': True, 'div7': False}), (24, 59, {'div2': False, 'div7': False}), (24, 60, {'div2': True, 'div7': False}), (24, 61, {'div2': False, 'div7': False}), (24, 62, {'div2': True, 'div7': False}), (24, 63, {'div2': False, 'div7': False}), (24, 64, {'div2': True, 'div7': False}), (24, 65, {'div2': False, 'div7': False}), (24, 66, {'div2': True, 'div7': False}), (24, 67, {'div2': False, 'div7': False}), (24, 68, {'div2': True, 'div7': False}), (24, 69, {'div2': False, 'div7': False}), (24, 70, {'div2': True, 'div7': False}), (24, 71, {'div2': False, 'div7': False}), (24, 72, {'div2': True, 'div7': False}), (24, 73, {'div2': False, 'div7': False}), (24, 74, {'div2': True, 'div7': False}), (24, 75, {'div2': False, 'div7': False}), (24, 76, {'div2': True, 'div7': False}), (24, 77, {'div2': False, 'div7': False}), (24, 78, {'div2': True, 'div7': False}), (24, 79, {'div2': False, 'div7': False}), (24, 80, {'div2': True, 'div7': False}), (24, 81, {'div2': False, 'div7': False}), (24, 82, {'div2': True, 'div7': False}), (24, 83, {'div2': False, 'div7': False}), (24, 84, {'div2': True, 'div7': False}), (24, 85, {'div2': False, 'div7': False}), (24, 86, {'div2': True, 'div7': False}), (24, 87, {'div2': False, 'div7': False}), (24, 88, {'div2': True, 'div7': False}), (24, 89, {'div2': False, 'div7': False}), (24, 90, {'div2': True, 'div7': False}), (24, 91, {'div2': False, 'div7': False}), (24, 92, {'div2': True, 'div7': False}), (24, 93, {'div2': False, 'div7': False}), (24, 94, {'div2': True, 'div7': False}), (24, 95, {'div2': False, 'div7': False}), (24, 96, {'div2': True, 'div7': False}), (24, 97, {'div2': False, 'div7': False}), (24, 98, {'div2': True, 'div7': False}), (24, 99, {'div2': False, 'div7': False}), (25, 26, {'div2': False, 'div7': False}), (25, 27, {'div2': False, 'div7': False}), (25, 28, {'div2': False, 'div7': False}), (25, 29, {'div2': False, 'div7': False}), (25, 30, {'div2': False, 'div7': False}), (25, 31, {'div2': False, 'div7': False}), (25, 32, {'div2': False, 'div7': False}), (25, 33, {'div2': False, 'div7': False}), (25, 34, {'div2': False, 'div7': False}), (25, 35, {'div2': False, 'div7': False}), (25, 36, {'div2': False, 'div7': False}), (25, 37, {'div2': False, 'div7': False}), (25, 38, {'div2': False, 'div7': False}), (25, 39, {'div2': False, 'div7': False}), (25, 40, {'div2': False, 'div7': False}), (25, 41, {'div2': False, 'div7': False}), (25, 42, {'div2': False, 'div7': False}), (25, 43, {'div2': False, 'div7': False}), (25, 44, {'div2': False, 'div7': False}), (25, 45, {'div2': False, 'div7': False}), (25, 46, {'div2': False, 'div7': False}), (25, 47, {'div2': False, 'div7': False}), (25, 48, {'div2': False, 'div7': False}), (25, 49, {'div2': False, 'div7': False}), (25, 50, {'div2': False, 'div7': False}), (25, 51, {'div2': False, 'div7': False}), (25, 52, {'div2': False, 'div7': False}), (25, 53, {'div2': False, 'div7': False}), (25, 54, {'div2': False, 'div7': False}), (25, 55, {'div2': False, 'div7': False}), (25, 56, {'div2': False, 'div7': False}), (25, 57, {'div2': False, 'div7': False}), (25, 58, {'div2': False, 'div7': False}), (25, 59, {'div2': False, 'div7': False}), (25, 60, {'div2': False, 'div7': False}), (25, 61, {'div2': False, 'div7': False}), (25, 62, {'div2': False, 'div7': False}), (25, 63, {'div2': False, 'div7': False}), (25, 64, {'div2': False, 'div7': False}), (25, 65, {'div2': False, 'div7': False}), (25, 66, {'div2': False, 'div7': False}), (25, 67, {'div2': False, 'div7': False}), (25, 68, {'div2': False, 'div7': False}), (25, 69, {'div2': False, 'div7': False}), (25, 70, {'div2': False, 'div7': False}), (25, 71, {'div2': False, 'div7': False}), (25, 72, {'div2': False, 'div7': False}), (25, 73, {'div2': False, 'div7': False}), (25, 74, {'div2': False, 'div7': False}), (25, 75, {'div2': False, 'div7': False}), (25, 76, {'div2': False, 'div7': False}), (25, 77, {'div2': False, 'div7': False}), (25, 78, {'div2': False, 'div7': False}), (25, 79, {'div2': False, 'div7': False}), (25, 80, {'div2': False, 'div7': False}), (25, 81, {'div2': False, 'div7': False}), (25, 82, {'div2': False, 'div7': False}), (25, 83, {'div2': False, 'div7': False}), (25, 84, {'div2': False, 'div7': False}), (25, 85, {'div2': False, 'div7': False}), (25, 86, {'div2': False, 'div7': False}), (25, 87, {'div2': False, 'div7': False}), (25, 88, {'div2': False, 'div7': False}), (25, 89, {'div2': False, 'div7': False}), (25, 90, {'div2': False, 'div7': False}), (25, 91, {'div2': False, 'div7': False}), (25, 92, {'div2': False, 'div7': False}), (25, 93, {'div2': False, 'div7': False}), (25, 94, {'div2': False, 'div7': False}), (25, 95, {'div2': False, 'div7': False}), (25, 96, {'div2': False, 'div7': False}), (25, 97, {'div2': False, 'div7': False}), (25, 98, {'div2': False, 'div7': False}), (25, 99, {'div2': False, 'div7': False}), (26, 27, {'div2': False, 'div7': False}), (26, 28, {'div2': True, 'div7': False}), (26, 29, {'div2': False, 'div7': False}), (26, 30, {'div2': True, 'div7': False}), (26, 31, {'div2': False, 'div7': False}), (26, 32, {'div2': True, 'div7': False}), (26, 33, {'div2': False, 'div7': False}), (26, 34, {'div2': True, 'div7': False}), (26, 35, {'div2': False, 'div7': False}), (26, 36, {'div2': True, 'div7': False}), (26, 37, {'div2': False, 'div7': False}), (26, 38, {'div2': True, 'div7': False}), (26, 39, {'div2': False, 'div7': False}), (26, 40, {'div2': True, 'div7': False}), (26, 41, {'div2': False, 'div7': False}), (26, 42, {'div2': True, 'div7': False}), (26, 43, {'div2': False, 'div7': False}), (26, 44, {'div2': True, 'div7': False}), (26, 45, {'div2': False, 'div7': False}), (26, 46, {'div2': True, 'div7': False}), (26, 47, {'div2': False, 'div7': False}), (26, 48, {'div2': True, 'div7': False}), (26, 49, {'div2': False, 'div7': False}), (26, 50, {'div2': True, 'div7': False}), (26, 51, {'div2': False, 'div7': False}), (26, 52, {'div2': True, 'div7': False}), (26, 53, {'div2': False, 'div7': False}), (26, 54, {'div2': True, 'div7': False}), (26, 55, {'div2': False, 'div7': False}), (26, 56, {'div2': True, 'div7': False}), (26, 57, {'div2': False, 'div7': False}), (26, 58, {'div2': True, 'div7': False}), (26, 59, {'div2': False, 'div7': False}), (26, 60, {'div2': True, 'div7': False}), (26, 61, {'div2': False, 'div7': False}), (26, 62, {'div2': True, 'div7': False}), (26, 63, {'div2': False, 'div7': False}), (26, 64, {'div2': True, 'div7': False}), (26, 65, {'div2': False, 'div7': False}), (26, 66, {'div2': True, 'div7': False}), (26, 67, {'div2': False, 'div7': False}), (26, 68, {'div2': True, 'div7': False}), (26, 69, {'div2': False, 'div7': False}), (26, 70, {'div2': True, 'div7': False}), (26, 71, {'div2': False, 'div7': False}), (26, 72, {'div2': True, 'div7': False}), (26, 73, {'div2': False, 'div7': False}), (26, 74, {'div2': True, 'div7': False}), (26, 75, {'div2': False, 'div7': False}), (26, 76, {'div2': True, 'div7': False}), (26, 77, {'div2': False, 'div7': False}), (26, 78, {'div2': True, 'div7': False}), (26, 79, {'div2': False, 'div7': False}), (26, 80, {'div2': True, 'div7': False}), (26, 81, {'div2': False, 'div7': False}), (26, 82, {'div2': True, 'div7': False}), (26, 83, {'div2': False, 'div7': False}), (26, 84, {'div2': True, 'div7': False}), (26, 85, {'div2': False, 'div7': False}), (26, 86, {'div2': True, 'div7': False}), (26, 87, {'div2': False, 'div7': False}), (26, 88, {'div2': True, 'div7': False}), (26, 89, {'div2': False, 'div7': False}), (26, 90, {'div2': True, 'div7': False}), (26, 91, {'div2': False, 'div7': False}), (26, 92, {'div2': True, 'div7': False}), (26, 93, {'div2': False, 'div7': False}), (26, 94, {'div2': True, 'div7': False}), (26, 95, {'div2': False, 'div7': False}), (26, 96, {'div2': True, 'div7': False}), (26, 97, {'div2': False, 'div7': False}), (26, 98, {'div2': True, 'div7': False}), (26, 99, {'div2': False, 'div7': False}), (27, 28, {'div2': False, 'div7': False}), (27, 29, {'div2': False, 'div7': False}), (27, 30, {'div2': False, 'div7': False}), (27, 31, {'div2': False, 'div7': False}), (27, 32, {'div2': False, 'div7': False}), (27, 33, {'div2': False, 'div7': False}), (27, 34, {'div2': False, 'div7': False}), (27, 35, {'div2': False, 'div7': False}), (27, 36, {'div2': False, 'div7': False}), (27, 37, {'div2': False, 'div7': False}), (27, 38, {'div2': False, 'div7': False}), (27, 39, {'div2': False, 'div7': False}), (27, 40, {'div2': False, 'div7': False}), (27, 41, {'div2': False, 'div7': False}), (27, 42, {'div2': False, 'div7': False}), (27, 43, {'div2': False, 'div7': False}), (27, 44, {'div2': False, 'div7': False}), (27, 45, {'div2': False, 'div7': False}), (27, 46, {'div2': False, 'div7': False}), (27, 47, {'div2': False, 'div7': False}), (27, 48, {'div2': False, 'div7': False}), (27, 49, {'div2': False, 'div7': False}), (27, 50, {'div2': False, 'div7': False}), (27, 51, {'div2': False, 'div7': False}), (27, 52, {'div2': False, 'div7': False}), (27, 53, {'div2': False, 'div7': False}), (27, 54, {'div2': False, 'div7': False}), (27, 55, {'div2': False, 'div7': False}), (27, 56, {'div2': False, 'div7': False}), (27, 57, {'div2': False, 'div7': False}), (27, 58, {'div2': False, 'div7': False}), (27, 59, {'div2': False, 'div7': False}), (27, 60, {'div2': False, 'div7': False}), (27, 61, {'div2': False, 'div7': False}), (27, 62, {'div2': False, 'div7': False}), (27, 63, {'div2': False, 'div7': False}), (27, 64, {'div2': False, 'div7': False}), (27, 65, {'div2': False, 'div7': False}), (27, 66, {'div2': False, 'div7': False}), (27, 67, {'div2': False, 'div7': False}), (27, 68, {'div2': False, 'div7': False}), (27, 69, {'div2': False, 'div7': False}), (27, 70, {'div2': False, 'div7': False}), (27, 71, {'div2': False, 'div7': False}), (27, 72, {'div2': False, 'div7': False}), (27, 73, {'div2': False, 'div7': False}), (27, 74, {'div2': False, 'div7': False}), (27, 75, {'div2': False, 'div7': False}), (27, 76, {'div2': False, 'div7': False}), (27, 77, {'div2': False, 'div7': False}), (27, 78, {'div2': False, 'div7': False}), (27, 79, {'div2': False, 'div7': False}), (27, 80, {'div2': False, 'div7': False}), (27, 81, {'div2': False, 'div7': False}), (27, 82, {'div2': False, 'div7': False}), (27, 83, {'div2': False, 'div7': False}), (27, 84, {'div2': False, 'div7': False}), (27, 85, {'div2': False, 'div7': False}), (27, 86, {'div2': False, 'div7': False}), (27, 87, {'div2': False, 'div7': False}), (27, 88, {'div2': False, 'div7': False}), (27, 89, {'div2': False, 'div7': False}), (27, 90, {'div2': False, 'div7': False}), (27, 91, {'div2': False, 'div7': False}), (27, 92, {'div2': False, 'div7': False}), (27, 93, {'div2': False, 'div7': False}), (27, 94, {'div2': False, 'div7': False}), (27, 95, {'div2': False, 'div7': False}), (27, 96, {'div2': False, 'div7': False}), (27, 97, {'div2': False, 'div7': False}), (27, 98, {'div2': False, 'div7': False}), (27, 99, {'div2': False, 'div7': False}), (28, 29, {'div2': False, 'div7': False}), (28, 30, {'div2': True, 'div7': False}), (28, 31, {'div2': False, 'div7': False}), (28, 32, {'div2': True, 'div7': False}), (28, 33, {'div2': False, 'div7': False}), (28, 34, {'div2': True, 'div7': False}), (28, 35, {'div2': False, 'div7': True}), (28, 36, {'div2': True, 'div7': False}), (28, 37, {'div2': False, 'div7': False}), (28, 38, {'div2': True, 'div7': False}), (28, 39, {'div2': False, 'div7': False}), (28, 40, {'div2': True, 'div7': False}), (28, 41, {'div2': False, 'div7': False}), (28, 42, {'div2': True, 'div7': True}), (28, 43, {'div2': False, 'div7': False}), (28, 44, {'div2': True, 'div7': False}), (28, 45, {'div2': False, 'div7': False}), (28, 46, {'div2': True, 'div7': False}), (28, 47, {'div2': False, 'div7': False}), (28, 48, {'div2': True, 'div7': False}), (28, 49, {'div2': False, 'div7': True}), (28, 50, {'div2': True, 'div7': False}), (28, 51, {'div2': False, 'div7': False}), (28, 52, {'div2': True, 'div7': False}), (28, 53, {'div2': False, 'div7': False}), (28, 54, {'div2': True, 'div7': False}), (28, 55, {'div2': False, 'div7': False}), (28, 56, {'div2': True, 'div7': True}), (28, 57, {'div2': False, 'div7': False}), (28, 58, {'div2': True, 'div7': False}), (28, 59, {'div2': False, 'div7': False}), (28, 60, {'div2': True, 'div7': False}), (28, 61, {'div2': False, 'div7': False}), (28, 62, {'div2': True, 'div7': False}), (28, 63, {'div2': False, 'div7': True}), (28, 64, {'div2': True, 'div7': False}), (28, 65, {'div2': False, 'div7': False}), (28, 66, {'div2': True, 'div7': False}), (28, 67, {'div2': False, 'div7': False}), (28, 68, {'div2': True, 'div7': False}), (28, 69, {'div2': False, 'div7': False}), (28, 70, {'div2': True, 'div7': True}), (28, 71, {'div2': False, 'div7': False}), (28, 72, {'div2': True, 'div7': False}), (28, 73, {'div2': False, 'div7': False}), (28, 74, {'div2': True, 'div7': False}), (28, 75, {'div2': False, 'div7': False}), (28, 76, {'div2': True, 'div7': False}), (28, 77, {'div2': False, 'div7': True}), (28, 78, {'div2': True, 'div7': False}), (28, 79, {'div2': False, 'div7': False}), (28, 80, {'div2': True, 'div7': False}), (28, 81, {'div2': False, 'div7': False}), (28, 82, {'div2': True, 'div7': False}), (28, 83, {'div2': False, 'div7': False}), (28, 84, {'div2': True, 'div7': True}), (28, 85, {'div2': False, 'div7': False}), (28, 86, {'div2': True, 'div7': False}), (28, 87, {'div2': False, 'div7': False}), (28, 88, {'div2': True, 'div7': False}), (28, 89, {'div2': False, 'div7': False}), (28, 90, {'div2': True, 'div7': False}), (28, 91, {'div2': False, 'div7': True}), (28, 92, {'div2': True, 'div7': False}), (28, 93, {'div2': False, 'div7': False}), (28, 94, {'div2': True, 'div7': False}), (28, 95, {'div2': False, 'div7': False}), (28, 96, {'div2': True, 'div7': False}), (28, 97, {'div2': False, 'div7': False}), (28, 98, {'div2': True, 'div7': True}), (28, 99, {'div2': False, 'div7': False}), (29, 30, {'div2': False, 'div7': False}), (29, 31, {'div2': False, 'div7': False}), (29, 32, {'div2': False, 'div7': False}), (29, 33, {'div2': False, 'div7': False}), (29, 34, {'div2': False, 'div7': False}), (29, 35, {'div2': False, 'div7': False}), (29, 36, {'div2': False, 'div7': False}), (29, 37, {'div2': False, 'div7': False}), (29, 38, {'div2': False, 'div7': False}), (29, 39, {'div2': False, 'div7': False}), (29, 40, {'div2': False, 'div7': False}), (29, 41, {'div2': False, 'div7': False}), (29, 42, {'div2': False, 'div7': False}), (29, 43, {'div2': False, 'div7': False}), (29, 44, {'div2': False, 'div7': False}), (29, 45, {'div2': False, 'div7': False}), (29, 46, {'div2': False, 'div7': False}), (29, 47, {'div2': False, 'div7': False}), (29, 48, {'div2': False, 'div7': False}), (29, 49, {'div2': False, 'div7': False}), (29, 50, {'div2': False, 'div7': False}), (29, 51, {'div2': False, 'div7': False}), (29, 52, {'div2': False, 'div7': False}), (29, 53, {'div2': False, 'div7': False}), (29, 54, {'div2': False, 'div7': False}), (29, 55, {'div2': False, 'div7': False}), (29, 56, {'div2': False, 'div7': False}), (29, 57, {'div2': False, 'div7': False}), (29, 58, {'div2': False, 'div7': False}), (29, 59, {'div2': False, 'div7': False}), (29, 60, {'div2': False, 'div7': False}), (29, 61, {'div2': False, 'div7': False}), (29, 62, {'div2': False, 'div7': False}), (29, 63, {'div2': False, 'div7': False}), (29, 64, {'div2': False, 'div7': False}), (29, 65, {'div2': False, 'div7': False}), (29, 66, {'div2': False, 'div7': False}), (29, 67, {'div2': False, 'div7': False}), (29, 68, {'div2': False, 'div7': False}), (29, 69, {'div2': False, 'div7': False}), (29, 70, {'div2': False, 'div7': False}), (29, 71, {'div2': False, 'div7': False}), (29, 72, {'div2': False, 'div7': False}), (29, 73, {'div2': False, 'div7': False}), (29, 74, {'div2': False, 'div7': False}), (29, 75, {'div2': False, 'div7': False}), (29, 76, {'div2': False, 'div7': False}), (29, 77, {'div2': False, 'div7': False}), (29, 78, {'div2': False, 'div7': False}), (29, 79, {'div2': False, 'div7': False}), (29, 80, {'div2': False, 'div7': False}), (29, 81, {'div2': False, 'div7': False}), (29, 82, {'div2': False, 'div7': False}), (29, 83, {'div2': False, 'div7': False}), (29, 84, {'div2': False, 'div7': False}), (29, 85, {'div2': False, 'div7': False}), (29, 86, {'div2': False, 'div7': False}), (29, 87, {'div2': False, 'div7': False}), (29, 88, {'div2': False, 'div7': False}), (29, 89, {'div2': False, 'div7': False}), (29, 90, {'div2': False, 'div7': False}), (29, 91, {'div2': False, 'div7': False}), (29, 92, {'div2': False, 'div7': False}), (29, 93, {'div2': False, 'div7': False}), (29, 94, {'div2': False, 'div7': False}), (29, 95, {'div2': False, 'div7': False}), (29, 96, {'div2': False, 'div7': False}), (29, 97, {'div2': False, 'div7': False}), (29, 98, {'div2': False, 'div7': False}), (29, 99, {'div2': False, 'div7': False}), (30, 31, {'div2': False, 'div7': False}), (30, 32, {'div2': True, 'div7': False}), (30, 33, {'div2': False, 'div7': False}), (30, 34, {'div2': True, 'div7': False}), (30, 35, {'div2': False, 'div7': False}), (30, 36, {'div2': True, 'div7': False}), (30, 37, {'div2': False, 'div7': False}), (30, 38, {'div2': True, 'div7': False}), (30, 39, {'div2': False, 'div7': False}), (30, 40, {'div2': True, 'div7': False}), (30, 41, {'div2': False, 'div7': False}), (30, 42, {'div2': True, 'div7': False}), (30, 43, {'div2': False, 'div7': False}), (30, 44, {'div2': True, 'div7': False}), (30, 45, {'div2': False, 'div7': False}), (30, 46, {'div2': True, 'div7': False}), (30, 47, {'div2': False, 'div7': False}), (30, 48, {'div2': True, 'div7': False}), (30, 49, {'div2': False, 'div7': False}), (30, 50, {'div2': True, 'div7': False}), (30, 51, {'div2': False, 'div7': False}), (30, 52, {'div2': True, 'div7': False}), (30, 53, {'div2': False, 'div7': False}), (30, 54, {'div2': True, 'div7': False}), (30, 55, {'div2': False, 'div7': False}), (30, 56, {'div2': True, 'div7': False}), (30, 57, {'div2': False, 'div7': False}), (30, 58, {'div2': True, 'div7': False}), (30, 59, {'div2': False, 'div7': False}), (30, 60, {'div2': True, 'div7': False}), (30, 61, {'div2': False, 'div7': False}), (30, 62, {'div2': True, 'div7': False}), (30, 63, {'div2': False, 'div7': False}), (30, 64, {'div2': True, 'div7': False}), (30, 65, {'div2': False, 'div7': False}), (30, 66, {'div2': True, 'div7': False}), (30, 67, {'div2': False, 'div7': False}), (30, 68, {'div2': True, 'div7': False}), (30, 69, {'div2': False, 'div7': False}), (30, 70, {'div2': True, 'div7': False}), (30, 71, {'div2': False, 'div7': False}), (30, 72, {'div2': True, 'div7': False}), (30, 73, {'div2': False, 'div7': False}), (30, 74, {'div2': True, 'div7': False}), (30, 75, {'div2': False, 'div7': False}), (30, 76, {'div2': True, 'div7': False}), (30, 77, {'div2': False, 'div7': False}), (30, 78, {'div2': True, 'div7': False}), (30, 79, {'div2': False, 'div7': False}), (30, 80, {'div2': True, 'div7': False}), (30, 81, {'div2': False, 'div7': False}), (30, 82, {'div2': True, 'div7': False}), (30, 83, {'div2': False, 'div7': False}), (30, 84, {'div2': True, 'div7': False}), (30, 85, {'div2': False, 'div7': False}), (30, 86, {'div2': True, 'div7': False}), (30, 87, {'div2': False, 'div7': False}), (30, 88, {'div2': True, 'div7': False}), (30, 89, {'div2': False, 'div7': False}), (30, 90, {'div2': True, 'div7': False}), (30, 91, {'div2': False, 'div7': False}), (30, 92, {'div2': True, 'div7': False}), (30, 93, {'div2': False, 'div7': False}), (30, 94, {'div2': True, 'div7': False}), (30, 95, {'div2': False, 'div7': False}), (30, 96, {'div2': True, 'div7': False}), (30, 97, {'div2': False, 'div7': False}), (30, 98, {'div2': True, 'div7': False}), (30, 99, {'div2': False, 'div7': False}), (31, 32, {'div2': False, 'div7': False}), (31, 33, {'div2': False, 'div7': False}), (31, 34, {'div2': False, 'div7': False}), (31, 35, {'div2': False, 'div7': False}), (31, 36, {'div2': False, 'div7': False}), (31, 37, {'div2': False, 'div7': False}), (31, 38, {'div2': False, 'div7': False}), (31, 39, {'div2': False, 'div7': False}), (31, 40, {'div2': False, 'div7': False}), (31, 41, {'div2': False, 'div7': False}), (31, 42, {'div2': False, 'div7': False}), (31, 43, {'div2': False, 'div7': False}), (31, 44, {'div2': False, 'div7': False}), (31, 45, {'div2': False, 'div7': False}), (31, 46, {'div2': False, 'div7': False}), (31, 47, {'div2': False, 'div7': False}), (31, 48, {'div2': False, 'div7': False}), (31, 49, {'div2': False, 'div7': False}), (31, 50, {'div2': False, 'div7': False}), (31, 51, {'div2': False, 'div7': False}), (31, 52, {'div2': False, 'div7': False}), (31, 53, {'div2': False, 'div7': False}), (31, 54, {'div2': False, 'div7': False}), (31, 55, {'div2': False, 'div7': False}), (31, 56, {'div2': False, 'div7': False}), (31, 57, {'div2': False, 'div7': False}), (31, 58, {'div2': False, 'div7': False}), (31, 59, {'div2': False, 'div7': False}), (31, 60, {'div2': False, 'div7': False}), (31, 61, {'div2': False, 'div7': False}), (31, 62, {'div2': False, 'div7': False}), (31, 63, {'div2': False, 'div7': False}), (31, 64, {'div2': False, 'div7': False}), (31, 65, {'div2': False, 'div7': False}), (31, 66, {'div2': False, 'div7': False}), (31, 67, {'div2': False, 'div7': False}), (31, 68, {'div2': False, 'div7': False}), (31, 69, {'div2': False, 'div7': False}), (31, 70, {'div2': False, 'div7': False}), (31, 71, {'div2': False, 'div7': False}), (31, 72, {'div2': False, 'div7': False}), (31, 73, {'div2': False, 'div7': False}), (31, 74, {'div2': False, 'div7': False}), (31, 75, {'div2': False, 'div7': False}), (31, 76, {'div2': False, 'div7': False}), (31, 77, {'div2': False, 'div7': False}), (31, 78, {'div2': False, 'div7': False}), (31, 79, {'div2': False, 'div7': False}), (31, 80, {'div2': False, 'div7': False}), (31, 81, {'div2': False, 'div7': False}), (31, 82, {'div2': False, 'div7': False}), (31, 83, {'div2': False, 'div7': False}), (31, 84, {'div2': False, 'div7': False}), (31, 85, {'div2': False, 'div7': False}), (31, 86, {'div2': False, 'div7': False}), (31, 87, {'div2': False, 'div7': False}), (31, 88, {'div2': False, 'div7': False}), (31, 89, {'div2': False, 'div7': False}), (31, 90, {'div2': False, 'div7': False}), (31, 91, {'div2': False, 'div7': False}), (31, 92, {'div2': False, 'div7': False}), (31, 93, {'div2': False, 'div7': False}), (31, 94, {'div2': False, 'div7': False}), (31, 95, {'div2': False, 'div7': False}), (31, 96, {'div2': False, 'div7': False}), (31, 97, {'div2': False, 'div7': False}), (31, 98, {'div2': False, 'div7': False}), (31, 99, {'div2': False, 'div7': False}), (32, 33, {'div2': False, 'div7': False}), (32, 34, {'div2': True, 'div7': False}), (32, 35, {'div2': False, 'div7': False}), (32, 36, {'div2': True, 'div7': False}), (32, 37, {'div2': False, 'div7': False}), (32, 38, {'div2': True, 'div7': False}), (32, 39, {'div2': False, 'div7': False}), (32, 40, {'div2': True, 'div7': False}), (32, 41, {'div2': False, 'div7': False}), (32, 42, {'div2': True, 'div7': False}), (32, 43, {'div2': False, 'div7': False}), (32, 44, {'div2': True, 'div7': False}), (32, 45, {'div2': False, 'div7': False}), (32, 46, {'div2': True, 'div7': False}), (32, 47, {'div2': False, 'div7': False}), (32, 48, {'div2': True, 'div7': False}), (32, 49, {'div2': False, 'div7': False}), (32, 50, {'div2': True, 'div7': False}), (32, 51, {'div2': False, 'div7': False}), (32, 52, {'div2': True, 'div7': False}), (32, 53, {'div2': False, 'div7': False}), (32, 54, {'div2': True, 'div7': False}), (32, 55, {'div2': False, 'div7': False}), (32, 56, {'div2': True, 'div7': False}), (32, 57, {'div2': False, 'div7': False}), (32, 58, {'div2': True, 'div7': False}), (32, 59, {'div2': False, 'div7': False}), (32, 60, {'div2': True, 'div7': False}), (32, 61, {'div2': False, 'div7': False}), (32, 62, {'div2': True, 'div7': False}), (32, 63, {'div2': False, 'div7': False}), (32, 64, {'div2': True, 'div7': False}), (32, 65, {'div2': False, 'div7': False}), (32, 66, {'div2': True, 'div7': False}), (32, 67, {'div2': False, 'div7': False}), (32, 68, {'div2': True, 'div7': False}), (32, 69, {'div2': False, 'div7': False}), (32, 70, {'div2': True, 'div7': False}), (32, 71, {'div2': False, 'div7': False}), (32, 72, {'div2': True, 'div7': False}), (32, 73, {'div2': False, 'div7': False}), (32, 74, {'div2': True, 'div7': False}), (32, 75, {'div2': False, 'div7': False}), (32, 76, {'div2': True, 'div7': False}), (32, 77, {'div2': False, 'div7': False}), (32, 78, {'div2': True, 'div7': False}), (32, 79, {'div2': False, 'div7': False}), (32, 80, {'div2': True, 'div7': False}), (32, 81, {'div2': False, 'div7': False}), (32, 82, {'div2': True, 'div7': False}), (32, 83, {'div2': False, 'div7': False}), (32, 84, {'div2': True, 'div7': False}), (32, 85, {'div2': False, 'div7': False}), (32, 86, {'div2': True, 'div7': False}), (32, 87, {'div2': False, 'div7': False}), (32, 88, {'div2': True, 'div7': False}), (32, 89, {'div2': False, 'div7': False}), (32, 90, {'div2': True, 'div7': False}), (32, 91, {'div2': False, 'div7': False}), (32, 92, {'div2': True, 'div7': False}), (32, 93, {'div2': False, 'div7': False}), (32, 94, {'div2': True, 'div7': False}), (32, 95, {'div2': False, 'div7': False}), (32, 96, {'div2': True, 'div7': False}), (32, 97, {'div2': False, 'div7': False}), (32, 98, {'div2': True, 'div7': False}), (32, 99, {'div2': False, 'div7': False}), (33, 34, {'div2': False, 'div7': False}), (33, 35, {'div2': False, 'div7': False}), (33, 36, {'div2': False, 'div7': False}), (33, 37, {'div2': False, 'div7': False}), (33, 38, {'div2': False, 'div7': False}), (33, 39, {'div2': False, 'div7': False}), (33, 40, {'div2': False, 'div7': False}), (33, 41, {'div2': False, 'div7': False}), (33, 42, {'div2': False, 'div7': False}), (33, 43, {'div2': False, 'div7': False}), (33, 44, {'div2': False, 'div7': False}), (33, 45, {'div2': False, 'div7': False}), (33, 46, {'div2': False, 'div7': False}), (33, 47, {'div2': False, 'div7': False}), (33, 48, {'div2': False, 'div7': False}), (33, 49, {'div2': False, 'div7': False}), (33, 50, {'div2': False, 'div7': False}), (33, 51, {'div2': False, 'div7': False}), (33, 52, {'div2': False, 'div7': False}), (33, 53, {'div2': False, 'div7': False}), (33, 54, {'div2': False, 'div7': False}), (33, 55, {'div2': False, 'div7': False}), (33, 56, {'div2': False, 'div7': False}), (33, 57, {'div2': False, 'div7': False}), (33, 58, {'div2': False, 'div7': False}), (33, 59, {'div2': False, 'div7': False}), (33, 60, {'div2': False, 'div7': False}), (33, 61, {'div2': False, 'div7': False}), (33, 62, {'div2': False, 'div7': False}), (33, 63, {'div2': False, 'div7': False}), (33, 64, {'div2': False, 'div7': False}), (33, 65, {'div2': False, 'div7': False}), (33, 66, {'div2': False, 'div7': False}), (33, 67, {'div2': False, 'div7': False}), (33, 68, {'div2': False, 'div7': False}), (33, 69, {'div2': False, 'div7': False}), (33, 70, {'div2': False, 'div7': False}), (33, 71, {'div2': False, 'div7': False}), (33, 72, {'div2': False, 'div7': False}), (33, 73, {'div2': False, 'div7': False}), (33, 74, {'div2': False, 'div7': False}), (33, 75, {'div2': False, 'div7': False}), (33, 76, {'div2': False, 'div7': False}), (33, 77, {'div2': False, 'div7': False}), (33, 78, {'div2': False, 'div7': False}), (33, 79, {'div2': False, 'div7': False}), (33, 80, {'div2': False, 'div7': False}), (33, 81, {'div2': False, 'div7': False}), (33, 82, {'div2': False, 'div7': False}), (33, 83, {'div2': False, 'div7': False}), (33, 84, {'div2': False, 'div7': False}), (33, 85, {'div2': False, 'div7': False}), (33, 86, {'div2': False, 'div7': False}), (33, 87, {'div2': False, 'div7': False}), (33, 88, {'div2': False, 'div7': False}), (33, 89, {'div2': False, 'div7': False}), (33, 90, {'div2': False, 'div7': False}), (33, 91, {'div2': False, 'div7': False}), (33, 92, {'div2': False, 'div7': False}), (33, 93, {'div2': False, 'div7': False}), (33, 94, {'div2': False, 'div7': False}), (33, 95, {'div2': False, 'div7': False}), (33, 96, {'div2': False, 'div7': False}), (33, 97, {'div2': False, 'div7': False}), (33, 98, {'div2': False, 'div7': False}), (33, 99, {'div2': False, 'div7': False}), (34, 35, {'div2': False, 'div7': False}), (34, 36, {'div2': True, 'div7': False}), (34, 37, {'div2': False, 'div7': False}), (34, 38, {'div2': True, 'div7': False}), (34, 39, {'div2': False, 'div7': False}), (34, 40, {'div2': True, 'div7': False}), (34, 41, {'div2': False, 'div7': False}), (34, 42, {'div2': True, 'div7': False}), (34, 43, {'div2': False, 'div7': False}), (34, 44, {'div2': True, 'div7': False}), (34, 45, {'div2': False, 'div7': False}), (34, 46, {'div2': True, 'div7': False}), (34, 47, {'div2': False, 'div7': False}), (34, 48, {'div2': True, 'div7': False}), (34, 49, {'div2': False, 'div7': False}), (34, 50, {'div2': True, 'div7': False}), (34, 51, {'div2': False, 'div7': False}), (34, 52, {'div2': True, 'div7': False}), (34, 53, {'div2': False, 'div7': False}), (34, 54, {'div2': True, 'div7': False}), (34, 55, {'div2': False, 'div7': False}), (34, 56, {'div2': True, 'div7': False}), (34, 57, {'div2': False, 'div7': False}), (34, 58, {'div2': True, 'div7': False}), (34, 59, {'div2': False, 'div7': False}), (34, 60, {'div2': True, 'div7': False}), (34, 61, {'div2': False, 'div7': False}), (34, 62, {'div2': True, 'div7': False}), (34, 63, {'div2': False, 'div7': False}), (34, 64, {'div2': True, 'div7': False}), (34, 65, {'div2': False, 'div7': False}), (34, 66, {'div2': True, 'div7': False}), (34, 67, {'div2': False, 'div7': False}), (34, 68, {'div2': True, 'div7': False}), (34, 69, {'div2': False, 'div7': False}), (34, 70, {'div2': True, 'div7': False}), (34, 71, {'div2': False, 'div7': False}), (34, 72, {'div2': True, 'div7': False}), (34, 73, {'div2': False, 'div7': False}), (34, 74, {'div2': True, 'div7': False}), (34, 75, {'div2': False, 'div7': False}), (34, 76, {'div2': True, 'div7': False}), (34, 77, {'div2': False, 'div7': False}), (34, 78, {'div2': True, 'div7': False}), (34, 79, {'div2': False, 'div7': False}), (34, 80, {'div2': True, 'div7': False}), (34, 81, {'div2': False, 'div7': False}), (34, 82, {'div2': True, 'div7': False}), (34, 83, {'div2': False, 'div7': False}), (34, 84, {'div2': True, 'div7': False}), (34, 85, {'div2': False, 'div7': False}), (34, 86, {'div2': True, 'div7': False}), (34, 87, {'div2': False, 'div7': False}), (34, 88, {'div2': True, 'div7': False}), (34, 89, {'div2': False, 'div7': False}), (34, 90, {'div2': True, 'div7': False}), (34, 91, {'div2': False, 'div7': False}), (34, 92, {'div2': True, 'div7': False}), (34, 93, {'div2': False, 'div7': False}), (34, 94, {'div2': True, 'div7': False}), (34, 95, {'div2': False, 'div7': False}), (34, 96, {'div2': True, 'div7': False}), (34, 97, {'div2': False, 'div7': False}), (34, 98, {'div2': True, 'div7': False}), (34, 99, {'div2': False, 'div7': False}), (35, 36, {'div2': False, 'div7': False}), (35, 37, {'div2': False, 'div7': False}), (35, 38, {'div2': False, 'div7': False}), (35, 39, {'div2': False, 'div7': False}), (35, 40, {'div2': False, 'div7': False}), (35, 41, {'div2': False, 'div7': False}), (35, 42, {'div2': False, 'div7': True}), (35, 43, {'div2': False, 'div7': False}), (35, 44, {'div2': False, 'div7': False}), (35, 45, {'div2': False, 'div7': False}), (35, 46, {'div2': False, 'div7': False}), (35, 47, {'div2': False, 'div7': False}), (35, 48, {'div2': False, 'div7': False}), (35, 49, {'div2': False, 'div7': True}), (35, 50, {'div2': False, 'div7': False}), (35, 51, {'div2': False, 'div7': False}), (35, 52, {'div2': False, 'div7': False}), (35, 53, {'div2': False, 'div7': False}), (35, 54, {'div2': False, 'div7': False}), (35, 55, {'div2': False, 'div7': False}), (35, 56, {'div2': False, 'div7': True}), (35, 57, {'div2': False, 'div7': False}), (35, 58, {'div2': False, 'div7': False}), (35, 59, {'div2': False, 'div7': False}), (35, 60, {'div2': False, 'div7': False}), (35, 61, {'div2': False, 'div7': False}), (35, 62, {'div2': False, 'div7': False}), (35, 63, {'div2': False, 'div7': True}), (35, 64, {'div2': False, 'div7': False}), (35, 65, {'div2': False, 'div7': False}), (35, 66, {'div2': False, 'div7': False}), (35, 67, {'div2': False, 'div7': False}), (35, 68, {'div2': False, 'div7': False}), (35, 69, {'div2': False, 'div7': False}), (35, 70, {'div2': False, 'div7': True}), (35, 71, {'div2': False, 'div7': False}), (35, 72, {'div2': False, 'div7': False}), (35, 73, {'div2': False, 'div7': False}), (35, 74, {'div2': False, 'div7': False}), (35, 75, {'div2': False, 'div7': False}), (35, 76, {'div2': False, 'div7': False}), (35, 77, {'div2': False, 'div7': True}), (35, 78, {'div2': False, 'div7': False}), (35, 79, {'div2': False, 'div7': False}), (35, 80, {'div2': False, 'div7': False}), (35, 81, {'div2': False, 'div7': False}), (35, 82, {'div2': False, 'div7': False}), (35, 83, {'div2': False, 'div7': False}), (35, 84, {'div2': False, 'div7': True}), (35, 85, {'div2': False, 'div7': False}), (35, 86, {'div2': False, 'div7': False}), (35, 87, {'div2': False, 'div7': False}), (35, 88, {'div2': False, 'div7': False}), (35, 89, {'div2': False, 'div7': False}), (35, 90, {'div2': False, 'div7': False}), (35, 91, {'div2': False, 'div7': True}), (35, 92, {'div2': False, 'div7': False}), (35, 93, {'div2': False, 'div7': False}), (35, 94, {'div2': False, 'div7': False}), (35, 95, {'div2': False, 'div7': False}), (35, 96, {'div2': False, 'div7': False}), (35, 97, {'div2': False, 'div7': False}), (35, 98, {'div2': False, 'div7': True}), (35, 99, {'div2': False, 'div7': False}), (36, 37, {'div2': False, 'div7': False}), (36, 38, {'div2': True, 'div7': False}), (36, 39, {'div2': False, 'div7': False}), (36, 40, {'div2': True, 'div7': False}), (36, 41, {'div2': False, 'div7': False}), (36, 42, {'div2': True, 'div7': False}), (36, 43, {'div2': False, 'div7': False}), (36, 44, {'div2': True, 'div7': False}), (36, 45, {'div2': False, 'div7': False}), (36, 46, {'div2': True, 'div7': False}), (36, 47, {'div2': False, 'div7': False}), (36, 48, {'div2': True, 'div7': False}), (36, 49, {'div2': False, 'div7': False}), (36, 50, {'div2': True, 'div7': False}), (36, 51, {'div2': False, 'div7': False}), (36, 52, {'div2': True, 'div7': False}), (36, 53, {'div2': False, 'div7': False}), (36, 54, {'div2': True, 'div7': False}), (36, 55, {'div2': False, 'div7': False}), (36, 56, {'div2': True, 'div7': False}), (36, 57, {'div2': False, 'div7': False}), (36, 58, {'div2': True, 'div7': False}), (36, 59, {'div2': False, 'div7': False}), (36, 60, {'div2': True, 'div7': False}), (36, 61, {'div2': False, 'div7': False}), (36, 62, {'div2': True, 'div7': False}), (36, 63, {'div2': False, 'div7': False}), (36, 64, {'div2': True, 'div7': False}), (36, 65, {'div2': False, 'div7': False}), (36, 66, {'div2': True, 'div7': False}), (36, 67, {'div2': False, 'div7': False}), (36, 68, {'div2': True, 'div7': False}), (36, 69, {'div2': False, 'div7': False}), (36, 70, {'div2': True, 'div7': False}), (36, 71, {'div2': False, 'div7': False}), (36, 72, {'div2': True, 'div7': False}), (36, 73, {'div2': False, 'div7': False}), (36, 74, {'div2': True, 'div7': False}), (36, 75, {'div2': False, 'div7': False}), (36, 76, {'div2': True, 'div7': False}), (36, 77, {'div2': False, 'div7': False}), (36, 78, {'div2': True, 'div7': False}), (36, 79, {'div2': False, 'div7': False}), (36, 80, {'div2': True, 'div7': False}), (36, 81, {'div2': False, 'div7': False}), (36, 82, {'div2': True, 'div7': False}), (36, 83, {'div2': False, 'div7': False}), (36, 84, {'div2': True, 'div7': False}), (36, 85, {'div2': False, 'div7': False}), (36, 86, {'div2': True, 'div7': False}), (36, 87, {'div2': False, 'div7': False}), (36, 88, {'div2': True, 'div7': False}), (36, 89, {'div2': False, 'div7': False}), (36, 90, {'div2': True, 'div7': False}), (36, 91, {'div2': False, 'div7': False}), (36, 92, {'div2': True, 'div7': False}), (36, 93, {'div2': False, 'div7': False}), (36, 94, {'div2': True, 'div7': False}), (36, 95, {'div2': False, 'div7': False}), (36, 96, {'div2': True, 'div7': False}), (36, 97, {'div2': False, 'div7': False}), (36, 98, {'div2': True, 'div7': False}), (36, 99, {'div2': False, 'div7': False}), (37, 38, {'div2': False, 'div7': False}), (37, 39, {'div2': False, 'div7': False}), (37, 40, {'div2': False, 'div7': False}), (37, 41, {'div2': False, 'div7': False}), (37, 42, {'div2': False, 'div7': False}), (37, 43, {'div2': False, 'div7': False}), (37, 44, {'div2': False, 'div7': False}), (37, 45, {'div2': False, 'div7': False}), (37, 46, {'div2': False, 'div7': False}), (37, 47, {'div2': False, 'div7': False}), (37, 48, {'div2': False, 'div7': False}), (37, 49, {'div2': False, 'div7': False}), (37, 50, {'div2': False, 'div7': False}), (37, 51, {'div2': False, 'div7': False}), (37, 52, {'div2': False, 'div7': False}), (37, 53, {'div2': False, 'div7': False}), (37, 54, {'div2': False, 'div7': False}), (37, 55, {'div2': False, 'div7': False}), (37, 56, {'div2': False, 'div7': False}), (37, 57, {'div2': False, 'div7': False}), (37, 58, {'div2': False, 'div7': False}), (37, 59, {'div2': False, 'div7': False}), (37, 60, {'div2': False, 'div7': False}), (37, 61, {'div2': False, 'div7': False}), (37, 62, {'div2': False, 'div7': False}), (37, 63, {'div2': False, 'div7': False}), (37, 64, {'div2': False, 'div7': False}), (37, 65, {'div2': False, 'div7': False}), (37, 66, {'div2': False, 'div7': False}), (37, 67, {'div2': False, 'div7': False}), (37, 68, {'div2': False, 'div7': False}), (37, 69, {'div2': False, 'div7': False}), (37, 70, {'div2': False, 'div7': False}), (37, 71, {'div2': False, 'div7': False}), (37, 72, {'div2': False, 'div7': False}), (37, 73, {'div2': False, 'div7': False}), (37, 74, {'div2': False, 'div7': False}), (37, 75, {'div2': False, 'div7': False}), (37, 76, {'div2': False, 'div7': False}), (37, 77, {'div2': False, 'div7': False}), (37, 78, {'div2': False, 'div7': False}), (37, 79, {'div2': False, 'div7': False}), (37, 80, {'div2': False, 'div7': False}), (37, 81, {'div2': False, 'div7': False}), (37, 82, {'div2': False, 'div7': False}), (37, 83, {'div2': False, 'div7': False}), (37, 84, {'div2': False, 'div7': False}), (37, 85, {'div2': False, 'div7': False}), (37, 86, {'div2': False, 'div7': False}), (37, 87, {'div2': False, 'div7': False}), (37, 88, {'div2': False, 'div7': False}), (37, 89, {'div2': False, 'div7': False}), (37, 90, {'div2': False, 'div7': False}), (37, 91, {'div2': False, 'div7': False}), (37, 92, {'div2': False, 'div7': False}), (37, 93, {'div2': False, 'div7': False}), (37, 94, {'div2': False, 'div7': False}), (37, 95, {'div2': False, 'div7': False}), (37, 96, {'div2': False, 'div7': False}), (37, 97, {'div2': False, 'div7': False}), (37, 98, {'div2': False, 'div7': False}), (37, 99, {'div2': False, 'div7': False}), (38, 39, {'div2': False, 'div7': False}), (38, 40, {'div2': True, 'div7': False}), (38, 41, {'div2': False, 'div7': False}), (38, 42, {'div2': True, 'div7': False}), (38, 43, {'div2': False, 'div7': False}), (38, 44, {'div2': True, 'div7': False}), (38, 45, {'div2': False, 'div7': False}), (38, 46, {'div2': True, 'div7': False}), (38, 47, {'div2': False, 'div7': False}), (38, 48, {'div2': True, 'div7': False}), (38, 49, {'div2': False, 'div7': False}), (38, 50, {'div2': True, 'div7': False}), (38, 51, {'div2': False, 'div7': False}), (38, 52, {'div2': True, 'div7': False}), (38, 53, {'div2': False, 'div7': False}), (38, 54, {'div2': True, 'div7': False}), (38, 55, {'div2': False, 'div7': False}), (38, 56, {'div2': True, 'div7': False}), (38, 57, {'div2': False, 'div7': False}), (38, 58, {'div2': True, 'div7': False}), (38, 59, {'div2': False, 'div7': False}), (38, 60, {'div2': True, 'div7': False}), (38, 61, {'div2': False, 'div7': False}), (38, 62, {'div2': True, 'div7': False}), (38, 63, {'div2': False, 'div7': False}), (38, 64, {'div2': True, 'div7': False}), (38, 65, {'div2': False, 'div7': False}), (38, 66, {'div2': True, 'div7': False}), (38, 67, {'div2': False, 'div7': False}), (38, 68, {'div2': True, 'div7': False}), (38, 69, {'div2': False, 'div7': False}), (38, 70, {'div2': True, 'div7': False}), (38, 71, {'div2': False, 'div7': False}), (38, 72, {'div2': True, 'div7': False}), (38, 73, {'div2': False, 'div7': False}), (38, 74, {'div2': True, 'div7': False}), (38, 75, {'div2': False, 'div7': False}), (38, 76, {'div2': True, 'div7': False}), (38, 77, {'div2': False, 'div7': False}), (38, 78, {'div2': True, 'div7': False}), (38, 79, {'div2': False, 'div7': False}), (38, 80, {'div2': True, 'div7': False}), (38, 81, {'div2': False, 'div7': False}), (38, 82, {'div2': True, 'div7': False}), (38, 83, {'div2': False, 'div7': False}), (38, 84, {'div2': True, 'div7': False}), (38, 85, {'div2': False, 'div7': False}), (38, 86, {'div2': True, 'div7': False}), (38, 87, {'div2': False, 'div7': False}), (38, 88, {'div2': True, 'div7': False}), (38, 89, {'div2': False, 'div7': False}), (38, 90, {'div2': True, 'div7': False}), (38, 91, {'div2': False, 'div7': False}), (38, 92, {'div2': True, 'div7': False}), (38, 93, {'div2': False, 'div7': False}), (38, 94, {'div2': True, 'div7': False}), (38, 95, {'div2': False, 'div7': False}), (38, 96, {'div2': True, 'div7': False}), (38, 97, {'div2': False, 'div7': False}), (38, 98, {'div2': True, 'div7': False}), (38, 99, {'div2': False, 'div7': False}), (39, 40, {'div2': False, 'div7': False}), (39, 41, {'div2': False, 'div7': False}), (39, 42, {'div2': False, 'div7': False}), (39, 43, {'div2': False, 'div7': False}), (39, 44, {'div2': False, 'div7': False}), (39, 45, {'div2': False, 'div7': False}), (39, 46, {'div2': False, 'div7': False}), (39, 47, {'div2': False, 'div7': False}), (39, 48, {'div2': False, 'div7': False}), (39, 49, {'div2': False, 'div7': False}), (39, 50, {'div2': False, 'div7': False}), (39, 51, {'div2': False, 'div7': False}), (39, 52, {'div2': False, 'div7': False}), (39, 53, {'div2': False, 'div7': False}), (39, 54, {'div2': False, 'div7': False}), (39, 55, {'div2': False, 'div7': False}), (39, 56, {'div2': False, 'div7': False}), (39, 57, {'div2': False, 'div7': False}), (39, 58, {'div2': False, 'div7': False}), (39, 59, {'div2': False, 'div7': False}), (39, 60, {'div2': False, 'div7': False}), (39, 61, {'div2': False, 'div7': False}), (39, 62, {'div2': False, 'div7': False}), (39, 63, {'div2': False, 'div7': False}), (39, 64, {'div2': False, 'div7': False}), (39, 65, {'div2': False, 'div7': False}), (39, 66, {'div2': False, 'div7': False}), (39, 67, {'div2': False, 'div7': False}), (39, 68, {'div2': False, 'div7': False}), (39, 69, {'div2': False, 'div7': False}), (39, 70, {'div2': False, 'div7': False}), (39, 71, {'div2': False, 'div7': False}), (39, 72, {'div2': False, 'div7': False}), (39, 73, {'div2': False, 'div7': False}), (39, 74, {'div2': False, 'div7': False}), (39, 75, {'div2': False, 'div7': False}), (39, 76, {'div2': False, 'div7': False}), (39, 77, {'div2': False, 'div7': False}), (39, 78, {'div2': False, 'div7': False}), (39, 79, {'div2': False, 'div7': False}), (39, 80, {'div2': False, 'div7': False}), (39, 81, {'div2': False, 'div7': False}), (39, 82, {'div2': False, 'div7': False}), (39, 83, {'div2': False, 'div7': False}), (39, 84, {'div2': False, 'div7': False}), (39, 85, {'div2': False, 'div7': False}), (39, 86, {'div2': False, 'div7': False}), (39, 87, {'div2': False, 'div7': False}), (39, 88, {'div2': False, 'div7': False}), (39, 89, {'div2': False, 'div7': False}), (39, 90, {'div2': False, 'div7': False}), (39, 91, {'div2': False, 'div7': False}), (39, 92, {'div2': False, 'div7': False}), (39, 93, {'div2': False, 'div7': False}), (39, 94, {'div2': False, 'div7': False}), (39, 95, {'div2': False, 'div7': False}), (39, 96, {'div2': False, 'div7': False}), (39, 97, {'div2': False, 'div7': False}), (39, 98, {'div2': False, 'div7': False}), (39, 99, {'div2': False, 'div7': False}), (40, 41, {'div2': False, 'div7': False}), (40, 42, {'div2': True, 'div7': False}), (40, 43, {'div2': False, 'div7': False}), (40, 44, {'div2': True, 'div7': False}), (40, 45, {'div2': False, 'div7': False}), (40, 46, {'div2': True, 'div7': False}), (40, 47, {'div2': False, 'div7': False}), (40, 48, {'div2': True, 'div7': False}), (40, 49, {'div2': False, 'div7': False}), (40, 50, {'div2': True, 'div7': False}), (40, 51, {'div2': False, 'div7': False}), (40, 52, {'div2': True, 'div7': False}), (40, 53, {'div2': False, 'div7': False}), (40, 54, {'div2': True, 'div7': False}), (40, 55, {'div2': False, 'div7': False}), (40, 56, {'div2': True, 'div7': False}), (40, 57, {'div2': False, 'div7': False}), (40, 58, {'div2': True, 'div7': False}), (40, 59, {'div2': False, 'div7': False}), (40, 60, {'div2': True, 'div7': False}), (40, 61, {'div2': False, 'div7': False}), (40, 62, {'div2': True, 'div7': False}), (40, 63, {'div2': False, 'div7': False}), (40, 64, {'div2': True, 'div7': False}), (40, 65, {'div2': False, 'div7': False}), (40, 66, {'div2': True, 'div7': False}), (40, 67, {'div2': False, 'div7': False}), (40, 68, {'div2': True, 'div7': False}), (40, 69, {'div2': False, 'div7': False}), (40, 70, {'div2': True, 'div7': False}), (40, 71, {'div2': False, 'div7': False}), (40, 72, {'div2': True, 'div7': False}), (40, 73, {'div2': False, 'div7': False}), (40, 74, {'div2': True, 'div7': False}), (40, 75, {'div2': False, 'div7': False}), (40, 76, {'div2': True, 'div7': False}), (40, 77, {'div2': False, 'div7': False}), (40, 78, {'div2': True, 'div7': False}), (40, 79, {'div2': False, 'div7': False}), (40, 80, {'div2': True, 'div7': False}), (40, 81, {'div2': False, 'div7': False}), (40, 82, {'div2': True, 'div7': False}), (40, 83, {'div2': False, 'div7': False}), (40, 84, {'div2': True, 'div7': False}), (40, 85, {'div2': False, 'div7': False}), (40, 86, {'div2': True, 'div7': False}), (40, 87, {'div2': False, 'div7': False}), (40, 88, {'div2': True, 'div7': False}), (40, 89, {'div2': False, 'div7': False}), (40, 90, {'div2': True, 'div7': False}), (40, 91, {'div2': False, 'div7': False}), (40, 92, {'div2': True, 'div7': False}), (40, 93, {'div2': False, 'div7': False}), (40, 94, {'div2': True, 'div7': False}), (40, 95, {'div2': False, 'div7': False}), (40, 96, {'div2': True, 'div7': False}), (40, 97, {'div2': False, 'div7': False}), (40, 98, {'div2': True, 'div7': False}), (40, 99, {'div2': False, 'div7': False}), (41, 42, {'div2': False, 'div7': False}), (41, 43, {'div2': False, 'div7': False}), (41, 44, {'div2': False, 'div7': False}), (41, 45, {'div2': False, 'div7': False}), (41, 46, {'div2': False, 'div7': False}), (41, 47, {'div2': False, 'div7': False}), (41, 48, {'div2': False, 'div7': False}), (41, 49, {'div2': False, 'div7': False}), (41, 50, {'div2': False, 'div7': False}), (41, 51, {'div2': False, 'div7': False}), (41, 52, {'div2': False, 'div7': False}), (41, 53, {'div2': False, 'div7': False}), (41, 54, {'div2': False, 'div7': False}), (41, 55, {'div2': False, 'div7': False}), (41, 56, {'div2': False, 'div7': False}), (41, 57, {'div2': False, 'div7': False}), (41, 58, {'div2': False, 'div7': False}), (41, 59, {'div2': False, 'div7': False}), (41, 60, {'div2': False, 'div7': False}), (41, 61, {'div2': False, 'div7': False}), (41, 62, {'div2': False, 'div7': False}), (41, 63, {'div2': False, 'div7': False}), (41, 64, {'div2': False, 'div7': False}), (41, 65, {'div2': False, 'div7': False}), (41, 66, {'div2': False, 'div7': False}), (41, 67, {'div2': False, 'div7': False}), (41, 68, {'div2': False, 'div7': False}), (41, 69, {'div2': False, 'div7': False}), (41, 70, {'div2': False, 'div7': False}), (41, 71, {'div2': False, 'div7': False}), (41, 72, {'div2': False, 'div7': False}), (41, 73, {'div2': False, 'div7': False}), (41, 74, {'div2': False, 'div7': False}), (41, 75, {'div2': False, 'div7': False}), (41, 76, {'div2': False, 'div7': False}), (41, 77, {'div2': False, 'div7': False}), (41, 78, {'div2': False, 'div7': False}), (41, 79, {'div2': False, 'div7': False}), (41, 80, {'div2': False, 'div7': False}), (41, 81, {'div2': False, 'div7': False}), (41, 82, {'div2': False, 'div7': False}), (41, 83, {'div2': False, 'div7': False}), (41, 84, {'div2': False, 'div7': False}), (41, 85, {'div2': False, 'div7': False}), (41, 86, {'div2': False, 'div7': False}), (41, 87, {'div2': False, 'div7': False}), (41, 88, {'div2': False, 'div7': False}), (41, 89, {'div2': False, 'div7': False}), (41, 90, {'div2': False, 'div7': False}), (41, 91, {'div2': False, 'div7': False}), (41, 92, {'div2': False, 'div7': False}), (41, 93, {'div2': False, 'div7': False}), (41, 94, {'div2': False, 'div7': False}), (41, 95, {'div2': False, 'div7': False}), (41, 96, {'div2': False, 'div7': False}), (41, 97, {'div2': False, 'div7': False}), (41, 98, {'div2': False, 'div7': False}), (41, 99, {'div2': False, 'div7': False}), (42, 43, {'div2': False, 'div7': False}), (42, 44, {'div2': True, 'div7': False}), (42, 45, {'div2': False, 'div7': False}), (42, 46, {'div2': True, 'div7': False}), (42, 47, {'div2': False, 'div7': False}), (42, 48, {'div2': True, 'div7': False}), (42, 49, {'div2': False, 'div7': True}), (42, 50, {'div2': True, 'div7': False}), (42, 51, {'div2': False, 'div7': False}), (42, 52, {'div2': True, 'div7': False}), (42, 53, {'div2': False, 'div7': False}), (42, 54, {'div2': True, 'div7': False}), (42, 55, {'div2': False, 'div7': False}), (42, 56, {'div2': True, 'div7': True}), (42, 57, {'div2': False, 'div7': False}), (42, 58, {'div2': True, 'div7': False}), (42, 59, {'div2': False, 'div7': False}), (42, 60, {'div2': True, 'div7': False}), (42, 61, {'div2': False, 'div7': False}), (42, 62, {'div2': True, 'div7': False}), (42, 63, {'div2': False, 'div7': True}), (42, 64, {'div2': True, 'div7': False}), (42, 65, {'div2': False, 'div7': False}), (42, 66, {'div2': True, 'div7': False}), (42, 67, {'div2': False, 'div7': False}), (42, 68, {'div2': True, 'div7': False}), (42, 69, {'div2': False, 'div7': False}), (42, 70, {'div2': True, 'div7': True}), (42, 71, {'div2': False, 'div7': False}), (42, 72, {'div2': True, 'div7': False}), (42, 73, {'div2': False, 'div7': False}), (42, 74, {'div2': True, 'div7': False}), (42, 75, {'div2': False, 'div7': False}), (42, 76, {'div2': True, 'div7': False}), (42, 77, {'div2': False, 'div7': True}), (42, 78, {'div2': True, 'div7': False}), (42, 79, {'div2': False, 'div7': False}), (42, 80, {'div2': True, 'div7': False}), (42, 81, {'div2': False, 'div7': False}), (42, 82, {'div2': True, 'div7': False}), (42, 83, {'div2': False, 'div7': False}), (42, 84, {'div2': True, 'div7': True}), (42, 85, {'div2': False, 'div7': False}), (42, 86, {'div2': True, 'div7': False}), (42, 87, {'div2': False, 'div7': False}), (42, 88, {'div2': True, 'div7': False}), (42, 89, {'div2': False, 'div7': False}), (42, 90, {'div2': True, 'div7': False}), (42, 91, {'div2': False, 'div7': True}), (42, 92, {'div2': True, 'div7': False}), (42, 93, {'div2': False, 'div7': False}), (42, 94, {'div2': True, 'div7': False}), (42, 95, {'div2': False, 'div7': False}), (42, 96, {'div2': True, 'div7': False}), (42, 97, {'div2': False, 'div7': False}), (42, 98, {'div2': True, 'div7': True}), (42, 99, {'div2': False, 'div7': False}), (43, 44, {'div2': False, 'div7': False}), (43, 45, {'div2': False, 'div7': False}), (43, 46, {'div2': False, 'div7': False}), (43, 47, {'div2': False, 'div7': False}), (43, 48, {'div2': False, 'div7': False}), (43, 49, {'div2': False, 'div7': False}), (43, 50, {'div2': False, 'div7': False}), (43, 51, {'div2': False, 'div7': False}), (43, 52, {'div2': False, 'div7': False}), (43, 53, {'div2': False, 'div7': False}), (43, 54, {'div2': False, 'div7': False}), (43, 55, {'div2': False, 'div7': False}), (43, 56, {'div2': False, 'div7': False}), (43, 57, {'div2': False, 'div7': False}), (43, 58, {'div2': False, 'div7': False}), (43, 59, {'div2': False, 'div7': False}), (43, 60, {'div2': False, 'div7': False}), (43, 61, {'div2': False, 'div7': False}), (43, 62, {'div2': False, 'div7': False}), (43, 63, {'div2': False, 'div7': False}), (43, 64, {'div2': False, 'div7': False}), (43, 65, {'div2': False, 'div7': False}), (43, 66, {'div2': False, 'div7': False}), (43, 67, {'div2': False, 'div7': False}), (43, 68, {'div2': False, 'div7': False}), (43, 69, {'div2': False, 'div7': False}), (43, 70, {'div2': False, 'div7': False}), (43, 71, {'div2': False, 'div7': False}), (43, 72, {'div2': False, 'div7': False}), (43, 73, {'div2': False, 'div7': False}), (43, 74, {'div2': False, 'div7': False}), (43, 75, {'div2': False, 'div7': False}), (43, 76, {'div2': False, 'div7': False}), (43, 77, {'div2': False, 'div7': False}), (43, 78, {'div2': False, 'div7': False}), (43, 79, {'div2': False, 'div7': False}), (43, 80, {'div2': False, 'div7': False}), (43, 81, {'div2': False, 'div7': False}), (43, 82, {'div2': False, 'div7': False}), (43, 83, {'div2': False, 'div7': False}), (43, 84, {'div2': False, 'div7': False}), (43, 85, {'div2': False, 'div7': False}), (43, 86, {'div2': False, 'div7': False}), (43, 87, {'div2': False, 'div7': False}), (43, 88, {'div2': False, 'div7': False}), (43, 89, {'div2': False, 'div7': False}), (43, 90, {'div2': False, 'div7': False}), (43, 91, {'div2': False, 'div7': False}), (43, 92, {'div2': False, 'div7': False}), (43, 93, {'div2': False, 'div7': False}), (43, 94, {'div2': False, 'div7': False}), (43, 95, {'div2': False, 'div7': False}), (43, 96, {'div2': False, 'div7': False}), (43, 97, {'div2': False, 'div7': False}), (43, 98, {'div2': False, 'div7': False}), (43, 99, {'div2': False, 'div7': False}), (44, 45, {'div2': False, 'div7': False}), (44, 46, {'div2': True, 'div7': False}), (44, 47, {'div2': False, 'div7': False}), (44, 48, {'div2': True, 'div7': False}), (44, 49, {'div2': False, 'div7': False}), (44, 50, {'div2': True, 'div7': False}), (44, 51, {'div2': False, 'div7': False}), (44, 52, {'div2': True, 'div7': False}), (44, 53, {'div2': False, 'div7': False}), (44, 54, {'div2': True, 'div7': False}), (44, 55, {'div2': False, 'div7': False}), (44, 56, {'div2': True, 'div7': False}), (44, 57, {'div2': False, 'div7': False}), (44, 58, {'div2': True, 'div7': False}), (44, 59, {'div2': False, 'div7': False}), (44, 60, {'div2': True, 'div7': False}), (44, 61, {'div2': False, 'div7': False}), (44, 62, {'div2': True, 'div7': False}), (44, 63, {'div2': False, 'div7': False}), (44, 64, {'div2': True, 'div7': False}), (44, 65, {'div2': False, 'div7': False}), (44, 66, {'div2': True, 'div7': False}), (44, 67, {'div2': False, 'div7': False}), (44, 68, {'div2': True, 'div7': False}), (44, 69, {'div2': False, 'div7': False}), (44, 70, {'div2': True, 'div7': False}), (44, 71, {'div2': False, 'div7': False}), (44, 72, {'div2': True, 'div7': False}), (44, 73, {'div2': False, 'div7': False}), (44, 74, {'div2': True, 'div7': False}), (44, 75, {'div2': False, 'div7': False}), (44, 76, {'div2': True, 'div7': False}), (44, 77, {'div2': False, 'div7': False}), (44, 78, {'div2': True, 'div7': False}), (44, 79, {'div2': False, 'div7': False}), (44, 80, {'div2': True, 'div7': False}), (44, 81, {'div2': False, 'div7': False}), (44, 82, {'div2': True, 'div7': False}), (44, 83, {'div2': False, 'div7': False}), (44, 84, {'div2': True, 'div7': False}), (44, 85, {'div2': False, 'div7': False}), (44, 86, {'div2': True, 'div7': False}), (44, 87, {'div2': False, 'div7': False}), (44, 88, {'div2': True, 'div7': False}), (44, 89, {'div2': False, 'div7': False}), (44, 90, {'div2': True, 'div7': False}), (44, 91, {'div2': False, 'div7': False}), (44, 92, {'div2': True, 'div7': False}), (44, 93, {'div2': False, 'div7': False}), (44, 94, {'div2': True, 'div7': False}), (44, 95, {'div2': False, 'div7': False}), (44, 96, {'div2': True, 'div7': False}), (44, 97, {'div2': False, 'div7': False}), (44, 98, {'div2': True, 'div7': False}), (44, 99, {'div2': False, 'div7': False}), (45, 46, {'div2': False, 'div7': False}), (45, 47, {'div2': False, 'div7': False}), (45, 48, {'div2': False, 'div7': False}), (45, 49, {'div2': False, 'div7': False}), (45, 50, {'div2': False, 'div7': False}), (45, 51, {'div2': False, 'div7': False}), (45, 52, {'div2': False, 'div7': False}), (45, 53, {'div2': False, 'div7': False}), (45, 54, {'div2': False, 'div7': False}), (45, 55, {'div2': False, 'div7': False}), (45, 56, {'div2': False, 'div7': False}), (45, 57, {'div2': False, 'div7': False}), (45, 58, {'div2': False, 'div7': False}), (45, 59, {'div2': False, 'div7': False}), (45, 60, {'div2': False, 'div7': False}), (45, 61, {'div2': False, 'div7': False}), (45, 62, {'div2': False, 'div7': False}), (45, 63, {'div2': False, 'div7': False}), (45, 64, {'div2': False, 'div7': False}), (45, 65, {'div2': False, 'div7': False}), (45, 66, {'div2': False, 'div7': False}), (45, 67, {'div2': False, 'div7': False}), (45, 68, {'div2': False, 'div7': False}), (45, 69, {'div2': False, 'div7': False}), (45, 70, {'div2': False, 'div7': False}), (45, 71, {'div2': False, 'div7': False}), (45, 72, {'div2': False, 'div7': False}), (45, 73, {'div2': False, 'div7': False}), (45, 74, {'div2': False, 'div7': False}), (45, 75, {'div2': False, 'div7': False}), (45, 76, {'div2': False, 'div7': False}), (45, 77, {'div2': False, 'div7': False}), (45, 78, {'div2': False, 'div7': False}), (45, 79, {'div2': False, 'div7': False}), (45, 80, {'div2': False, 'div7': False}), (45, 81, {'div2': False, 'div7': False}), (45, 82, {'div2': False, 'div7': False}), (45, 83, {'div2': False, 'div7': False}), (45, 84, {'div2': False, 'div7': False}), (45, 85, {'div2': False, 'div7': False}), (45, 86, {'div2': False, 'div7': False}), (45, 87, {'div2': False, 'div7': False}), (45, 88, {'div2': False, 'div7': False}), (45, 89, {'div2': False, 'div7': False}), (45, 90, {'div2': False, 'div7': False}), (45, 91, {'div2': False, 'div7': False}), (45, 92, {'div2': False, 'div7': False}), (45, 93, {'div2': False, 'div7': False}), (45, 94, {'div2': False, 'div7': False}), (45, 95, {'div2': False, 'div7': False}), (45, 96, {'div2': False, 'div7': False}), (45, 97, {'div2': False, 'div7': False}), (45, 98, {'div2': False, 'div7': False}), (45, 99, {'div2': False, 'div7': False}), (46, 47, {'div2': False, 'div7': False}), (46, 48, {'div2': True, 'div7': False}), (46, 49, {'div2': False, 'div7': False}), (46, 50, {'div2': True, 'div7': False}), (46, 51, {'div2': False, 'div7': False}), (46, 52, {'div2': True, 'div7': False}), (46, 53, {'div2': False, 'div7': False}), (46, 54, {'div2': True, 'div7': False}), (46, 55, {'div2': False, 'div7': False}), (46, 56, {'div2': True, 'div7': False}), (46, 57, {'div2': False, 'div7': False}), (46, 58, {'div2': True, 'div7': False}), (46, 59, {'div2': False, 'div7': False}), (46, 60, {'div2': True, 'div7': False}), (46, 61, {'div2': False, 'div7': False}), (46, 62, {'div2': True, 'div7': False}), (46, 63, {'div2': False, 'div7': False}), (46, 64, {'div2': True, 'div7': False}), (46, 65, {'div2': False, 'div7': False}), (46, 66, {'div2': True, 'div7': False}), (46, 67, {'div2': False, 'div7': False}), (46, 68, {'div2': True, 'div7': False}), (46, 69, {'div2': False, 'div7': False}), (46, 70, {'div2': True, 'div7': False}), (46, 71, {'div2': False, 'div7': False}), (46, 72, {'div2': True, 'div7': False}), (46, 73, {'div2': False, 'div7': False}), (46, 74, {'div2': True, 'div7': False}), (46, 75, {'div2': False, 'div7': False}), (46, 76, {'div2': True, 'div7': False}), (46, 77, {'div2': False, 'div7': False}), (46, 78, {'div2': True, 'div7': False}), (46, 79, {'div2': False, 'div7': False}), (46, 80, {'div2': True, 'div7': False}), (46, 81, {'div2': False, 'div7': False}), (46, 82, {'div2': True, 'div7': False}), (46, 83, {'div2': False, 'div7': False}), (46, 84, {'div2': True, 'div7': False}), (46, 85, {'div2': False, 'div7': False}), (46, 86, {'div2': True, 'div7': False}), (46, 87, {'div2': False, 'div7': False}), (46, 88, {'div2': True, 'div7': False}), (46, 89, {'div2': False, 'div7': False}), (46, 90, {'div2': True, 'div7': False}), (46, 91, {'div2': False, 'div7': False}), (46, 92, {'div2': True, 'div7': False}), (46, 93, {'div2': False, 'div7': False}), (46, 94, {'div2': True, 'div7': False}), (46, 95, {'div2': False, 'div7': False}), (46, 96, {'div2': True, 'div7': False}), (46, 97, {'div2': False, 'div7': False}), (46, 98, {'div2': True, 'div7': False}), (46, 99, {'div2': False, 'div7': False}), (47, 48, {'div2': False, 'div7': False}), (47, 49, {'div2': False, 'div7': False}), (47, 50, {'div2': False, 'div7': False}), (47, 51, {'div2': False, 'div7': False}), (47, 52, {'div2': False, 'div7': False}), (47, 53, {'div2': False, 'div7': False}), (47, 54, {'div2': False, 'div7': False}), (47, 55, {'div2': False, 'div7': False}), (47, 56, {'div2': False, 'div7': False}), (47, 57, {'div2': False, 'div7': False}), (47, 58, {'div2': False, 'div7': False}), (47, 59, {'div2': False, 'div7': False}), (47, 60, {'div2': False, 'div7': False}), (47, 61, {'div2': False, 'div7': False}), (47, 62, {'div2': False, 'div7': False}), (47, 63, {'div2': False, 'div7': False}), (47, 64, {'div2': False, 'div7': False}), (47, 65, {'div2': False, 'div7': False}), (47, 66, {'div2': False, 'div7': False}), (47, 67, {'div2': False, 'div7': False}), (47, 68, {'div2': False, 'div7': False}), (47, 69, {'div2': False, 'div7': False}), (47, 70, {'div2': False, 'div7': False}), (47, 71, {'div2': False, 'div7': False}), (47, 72, {'div2': False, 'div7': False}), (47, 73, {'div2': False, 'div7': False}), (47, 74, {'div2': False, 'div7': False}), (47, 75, {'div2': False, 'div7': False}), (47, 76, {'div2': False, 'div7': False}), (47, 77, {'div2': False, 'div7': False}), (47, 78, {'div2': False, 'div7': False}), (47, 79, {'div2': False, 'div7': False}), (47, 80, {'div2': False, 'div7': False}), (47, 81, {'div2': False, 'div7': False}), (47, 82, {'div2': False, 'div7': False}), (47, 83, {'div2': False, 'div7': False}), (47, 84, {'div2': False, 'div7': False}), (47, 85, {'div2': False, 'div7': False}), (47, 86, {'div2': False, 'div7': False}), (47, 87, {'div2': False, 'div7': False}), (47, 88, {'div2': False, 'div7': False}), (47, 89, {'div2': False, 'div7': False}), (47, 90, {'div2': False, 'div7': False}), (47, 91, {'div2': False, 'div7': False}), (47, 92, {'div2': False, 'div7': False}), (47, 93, {'div2': False, 'div7': False}), (47, 94, {'div2': False, 'div7': False}), (47, 95, {'div2': False, 'div7': False}), (47, 96, {'div2': False, 'div7': False}), (47, 97, {'div2': False, 'div7': False}), (47, 98, {'div2': False, 'div7': False}), (47, 99, {'div2': False, 'div7': False}), (48, 49, {'div2': False, 'div7': False}), (48, 50, {'div2': True, 'div7': False}), (48, 51, {'div2': False, 'div7': False}), (48, 52, {'div2': True, 'div7': False}), (48, 53, {'div2': False, 'div7': False}), (48, 54, {'div2': True, 'div7': False}), (48, 55, {'div2': False, 'div7': False}), (48, 56, {'div2': True, 'div7': False}), (48, 57, {'div2': False, 'div7': False}), (48, 58, {'div2': True, 'div7': False}), (48, 59, {'div2': False, 'div7': False}), (48, 60, {'div2': True, 'div7': False}), (48, 61, {'div2': False, 'div7': False}), (48, 62, {'div2': True, 'div7': False}), (48, 63, {'div2': False, 'div7': False}), (48, 64, {'div2': True, 'div7': False}), (48, 65, {'div2': False, 'div7': False}), (48, 66, {'div2': True, 'div7': False}), (48, 67, {'div2': False, 'div7': False}), (48, 68, {'div2': True, 'div7': False}), (48, 69, {'div2': False, 'div7': False}), (48, 70, {'div2': True, 'div7': False}), (48, 71, {'div2': False, 'div7': False}), (48, 72, {'div2': True, 'div7': False}), (48, 73, {'div2': False, 'div7': False}), (48, 74, {'div2': True, 'div7': False}), (48, 75, {'div2': False, 'div7': False}), (48, 76, {'div2': True, 'div7': False}), (48, 77, {'div2': False, 'div7': False}), (48, 78, {'div2': True, 'div7': False}), (48, 79, {'div2': False, 'div7': False}), (48, 80, {'div2': True, 'div7': False}), (48, 81, {'div2': False, 'div7': False}), (48, 82, {'div2': True, 'div7': False}), (48, 83, {'div2': False, 'div7': False}), (48, 84, {'div2': True, 'div7': False}), (48, 85, {'div2': False, 'div7': False}), (48, 86, {'div2': True, 'div7': False}), (48, 87, {'div2': False, 'div7': False}), (48, 88, {'div2': True, 'div7': False}), (48, 89, {'div2': False, 'div7': False}), (48, 90, {'div2': True, 'div7': False}), (48, 91, {'div2': False, 'div7': False}), (48, 92, {'div2': True, 'div7': False}), (48, 93, {'div2': False, 'div7': False}), (48, 94, {'div2': True, 'div7': False}), (48, 95, {'div2': False, 'div7': False}), (48, 96, {'div2': True, 'div7': False}), (48, 97, {'div2': False, 'div7': False}), (48, 98, {'div2': True, 'div7': False}), (48, 99, {'div2': False, 'div7': False}), (49, 50, {'div2': False, 'div7': False}), (49, 51, {'div2': False, 'div7': False}), (49, 52, {'div2': False, 'div7': False}), (49, 53, {'div2': False, 'div7': False}), (49, 54, {'div2': False, 'div7': False}), (49, 55, {'div2': False, 'div7': False}), (49, 56, {'div2': False, 'div7': True}), (49, 57, {'div2': False, 'div7': False}), (49, 58, {'div2': False, 'div7': False}), (49, 59, {'div2': False, 'div7': False}), (49, 60, {'div2': False, 'div7': False}), (49, 61, {'div2': False, 'div7': False}), (49, 62, {'div2': False, 'div7': False}), (49, 63, {'div2': False, 'div7': True}), (49, 64, {'div2': False, 'div7': False}), (49, 65, {'div2': False, 'div7': False}), (49, 66, {'div2': False, 'div7': False}), (49, 67, {'div2': False, 'div7': False}), (49, 68, {'div2': False, 'div7': False}), (49, 69, {'div2': False, 'div7': False}), (49, 70, {'div2': False, 'div7': True}), (49, 71, {'div2': False, 'div7': False}), (49, 72, {'div2': False, 'div7': False}), (49, 73, {'div2': False, 'div7': False}), (49, 74, {'div2': False, 'div7': False}), (49, 75, {'div2': False, 'div7': False}), (49, 76, {'div2': False, 'div7': False}), (49, 77, {'div2': False, 'div7': True}), (49, 78, {'div2': False, 'div7': False}), (49, 79, {'div2': False, 'div7': False}), (49, 80, {'div2': False, 'div7': False}), (49, 81, {'div2': False, 'div7': False}), (49, 82, {'div2': False, 'div7': False}), (49, 83, {'div2': False, 'div7': False}), (49, 84, {'div2': False, 'div7': True}), (49, 85, {'div2': False, 'div7': False}), (49, 86, {'div2': False, 'div7': False}), (49, 87, {'div2': False, 'div7': False}), (49, 88, {'div2': False, 'div7': False}), (49, 89, {'div2': False, 'div7': False}), (49, 90, {'div2': False, 'div7': False}), (49, 91, {'div2': False, 'div7': True}), (49, 92, {'div2': False, 'div7': False}), (49, 93, {'div2': False, 'div7': False}), (49, 94, {'div2': False, 'div7': False}), (49, 95, {'div2': False, 'div7': False}), (49, 96, {'div2': False, 'div7': False}), (49, 97, {'div2': False, 'div7': False}), (49, 98, {'div2': False, 'div7': True}), (49, 99, {'div2': False, 'div7': False}), (50, 51, {'div2': False, 'div7': False}), (50, 52, {'div2': True, 'div7': False}), (50, 53, {'div2': False, 'div7': False}), (50, 54, {'div2': True, 'div7': False}), (50, 55, {'div2': False, 'div7': False}), (50, 56, {'div2': True, 'div7': False}), (50, 57, {'div2': False, 'div7': False}), (50, 58, {'div2': True, 'div7': False}), (50, 59, {'div2': False, 'div7': False}), (50, 60, {'div2': True, 'div7': False}), (50, 61, {'div2': False, 'div7': False}), (50, 62, {'div2': True, 'div7': False}), (50, 63, {'div2': False, 'div7': False}), (50, 64, {'div2': True, 'div7': False}), (50, 65, {'div2': False, 'div7': False}), (50, 66, {'div2': True, 'div7': False}), (50, 67, {'div2': False, 'div7': False}), (50, 68, {'div2': True, 'div7': False}), (50, 69, {'div2': False, 'div7': False}), (50, 70, {'div2': True, 'div7': False}), (50, 71, {'div2': False, 'div7': False}), (50, 72, {'div2': True, 'div7': False}), (50, 73, {'div2': False, 'div7': False}), (50, 74, {'div2': True, 'div7': False}), (50, 75, {'div2': False, 'div7': False}), (50, 76, {'div2': True, 'div7': False}), (50, 77, {'div2': False, 'div7': False}), (50, 78, {'div2': True, 'div7': False}), (50, 79, {'div2': False, 'div7': False}), (50, 80, {'div2': True, 'div7': False}), (50, 81, {'div2': False, 'div7': False}), (50, 82, {'div2': True, 'div7': False}), (50, 83, {'div2': False, 'div7': False}), (50, 84, {'div2': True, 'div7': False}), (50, 85, {'div2': False, 'div7': False}), (50, 86, {'div2': True, 'div7': False}), (50, 87, {'div2': False, 'div7': False}), (50, 88, {'div2': True, 'div7': False}), (50, 89, {'div2': False, 'div7': False}), (50, 90, {'div2': True, 'div7': False}), (50, 91, {'div2': False, 'div7': False}), (50, 92, {'div2': True, 'div7': False}), (50, 93, {'div2': False, 'div7': False}), (50, 94, {'div2': True, 'div7': False}), (50, 95, {'div2': False, 'div7': False}), (50, 96, {'div2': True, 'div7': False}), (50, 97, {'div2': False, 'div7': False}), (50, 98, {'div2': True, 'div7': False}), (50, 99, {'div2': False, 'div7': False}), (51, 52, {'div2': False, 'div7': False}), (51, 53, {'div2': False, 'div7': False}), (51, 54, {'div2': False, 'div7': False}), (51, 55, {'div2': False, 'div7': False}), (51, 56, {'div2': False, 'div7': False}), (51, 57, {'div2': False, 'div7': False}), (51, 58, {'div2': False, 'div7': False}), (51, 59, {'div2': False, 'div7': False}), (51, 60, {'div2': False, 'div7': False}), (51, 61, {'div2': False, 'div7': False}), (51, 62, {'div2': False, 'div7': False}), (51, 63, {'div2': False, 'div7': False}), (51, 64, {'div2': False, 'div7': False}), (51, 65, {'div2': False, 'div7': False}), (51, 66, {'div2': False, 'div7': False}), (51, 67, {'div2': False, 'div7': False}), (51, 68, {'div2': False, 'div7': False}), (51, 69, {'div2': False, 'div7': False}), (51, 70, {'div2': False, 'div7': False}), (51, 71, {'div2': False, 'div7': False}), (51, 72, {'div2': False, 'div7': False}), (51, 73, {'div2': False, 'div7': False}), (51, 74, {'div2': False, 'div7': False}), (51, 75, {'div2': False, 'div7': False}), (51, 76, {'div2': False, 'div7': False}), (51, 77, {'div2': False, 'div7': False}), (51, 78, {'div2': False, 'div7': False}), (51, 79, {'div2': False, 'div7': False}), (51, 80, {'div2': False, 'div7': False}), (51, 81, {'div2': False, 'div7': False}), (51, 82, {'div2': False, 'div7': False}), (51, 83, {'div2': False, 'div7': False}), (51, 84, {'div2': False, 'div7': False}), (51, 85, {'div2': False, 'div7': False}), (51, 86, {'div2': False, 'div7': False}), (51, 87, {'div2': False, 'div7': False}), (51, 88, {'div2': False, 'div7': False}), (51, 89, {'div2': False, 'div7': False}), (51, 90, {'div2': False, 'div7': False}), (51, 91, {'div2': False, 'div7': False}), (51, 92, {'div2': False, 'div7': False}), (51, 93, {'div2': False, 'div7': False}), (51, 94, {'div2': False, 'div7': False}), (51, 95, {'div2': False, 'div7': False}), (51, 96, {'div2': False, 'div7': False}), (51, 97, {'div2': False, 'div7': False}), (51, 98, {'div2': False, 'div7': False}), (51, 99, {'div2': False, 'div7': False}), (52, 53, {'div2': False, 'div7': False}), (52, 54, {'div2': True, 'div7': False}), (52, 55, {'div2': False, 'div7': False}), (52, 56, {'div2': True, 'div7': False}), (52, 57, {'div2': False, 'div7': False}), (52, 58, {'div2': True, 'div7': False}), (52, 59, {'div2': False, 'div7': False}), (52, 60, {'div2': True, 'div7': False}), (52, 61, {'div2': False, 'div7': False}), (52, 62, {'div2': True, 'div7': False}), (52, 63, {'div2': False, 'div7': False}), (52, 64, {'div2': True, 'div7': False}), (52, 65, {'div2': False, 'div7': False}), (52, 66, {'div2': True, 'div7': False}), (52, 67, {'div2': False, 'div7': False}), (52, 68, {'div2': True, 'div7': False}), (52, 69, {'div2': False, 'div7': False}), (52, 70, {'div2': True, 'div7': False}), (52, 71, {'div2': False, 'div7': False}), (52, 72, {'div2': True, 'div7': False}), (52, 73, {'div2': False, 'div7': False}), (52, 74, {'div2': True, 'div7': False}), (52, 75, {'div2': False, 'div7': False}), (52, 76, {'div2': True, 'div7': False}), (52, 77, {'div2': False, 'div7': False}), (52, 78, {'div2': True, 'div7': False}), (52, 79, {'div2': False, 'div7': False}), (52, 80, {'div2': True, 'div7': False}), (52, 81, {'div2': False, 'div7': False}), (52, 82, {'div2': True, 'div7': False}), (52, 83, {'div2': False, 'div7': False}), (52, 84, {'div2': True, 'div7': False}), (52, 85, {'div2': False, 'div7': False}), (52, 86, {'div2': True, 'div7': False}), (52, 87, {'div2': False, 'div7': False}), (52, 88, {'div2': True, 'div7': False}), (52, 89, {'div2': False, 'div7': False}), (52, 90, {'div2': True, 'div7': False}), (52, 91, {'div2': False, 'div7': False}), (52, 92, {'div2': True, 'div7': False}), (52, 93, {'div2': False, 'div7': False}), (52, 94, {'div2': True, 'div7': False}), (52, 95, {'div2': False, 'div7': False}), (52, 96, {'div2': True, 'div7': False}), (52, 97, {'div2': False, 'div7': False}), (52, 98, {'div2': True, 'div7': False}), (52, 99, {'div2': False, 'div7': False}), (53, 54, {'div2': False, 'div7': False}), (53, 55, {'div2': False, 'div7': False}), (53, 56, {'div2': False, 'div7': False}), (53, 57, {'div2': False, 'div7': False}), (53, 58, {'div2': False, 'div7': False}), (53, 59, {'div2': False, 'div7': False}), (53, 60, {'div2': False, 'div7': False}), (53, 61, {'div2': False, 'div7': False}), (53, 62, {'div2': False, 'div7': False}), (53, 63, {'div2': False, 'div7': False}), (53, 64, {'div2': False, 'div7': False}), (53, 65, {'div2': False, 'div7': False}), (53, 66, {'div2': False, 'div7': False}), (53, 67, {'div2': False, 'div7': False}), (53, 68, {'div2': False, 'div7': False}), (53, 69, {'div2': False, 'div7': False}), (53, 70, {'div2': False, 'div7': False}), (53, 71, {'div2': False, 'div7': False}), (53, 72, {'div2': False, 'div7': False}), (53, 73, {'div2': False, 'div7': False}), (53, 74, {'div2': False, 'div7': False}), (53, 75, {'div2': False, 'div7': False}), (53, 76, {'div2': False, 'div7': False}), (53, 77, {'div2': False, 'div7': False}), (53, 78, {'div2': False, 'div7': False}), (53, 79, {'div2': False, 'div7': False}), (53, 80, {'div2': False, 'div7': False}), (53, 81, {'div2': False, 'div7': False}), (53, 82, {'div2': False, 'div7': False}), (53, 83, {'div2': False, 'div7': False}), (53, 84, {'div2': False, 'div7': False}), (53, 85, {'div2': False, 'div7': False}), (53, 86, {'div2': False, 'div7': False}), (53, 87, {'div2': False, 'div7': False}), (53, 88, {'div2': False, 'div7': False}), (53, 89, {'div2': False, 'div7': False}), (53, 90, {'div2': False, 'div7': False}), (53, 91, {'div2': False, 'div7': False}), (53, 92, {'div2': False, 'div7': False}), (53, 93, {'div2': False, 'div7': False}), (53, 94, {'div2': False, 'div7': False}), (53, 95, {'div2': False, 'div7': False}), (53, 96, {'div2': False, 'div7': False}), (53, 97, {'div2': False, 'div7': False}), (53, 98, {'div2': False, 'div7': False}), (53, 99, {'div2': False, 'div7': False}), (54, 55, {'div2': False, 'div7': False}), (54, 56, {'div2': True, 'div7': False}), (54, 57, {'div2': False, 'div7': False}), (54, 58, {'div2': True, 'div7': False}), (54, 59, {'div2': False, 'div7': False}), (54, 60, {'div2': True, 'div7': False}), (54, 61, {'div2': False, 'div7': False}), (54, 62, {'div2': True, 'div7': False}), (54, 63, {'div2': False, 'div7': False}), (54, 64, {'div2': True, 'div7': False}), (54, 65, {'div2': False, 'div7': False}), (54, 66, {'div2': True, 'div7': False}), (54, 67, {'div2': False, 'div7': False}), (54, 68, {'div2': True, 'div7': False}), (54, 69, {'div2': False, 'div7': False}), (54, 70, {'div2': True, 'div7': False}), (54, 71, {'div2': False, 'div7': False}), (54, 72, {'div2': True, 'div7': False}), (54, 73, {'div2': False, 'div7': False}), (54, 74, {'div2': True, 'div7': False}), (54, 75, {'div2': False, 'div7': False}), (54, 76, {'div2': True, 'div7': False}), (54, 77, {'div2': False, 'div7': False}), (54, 78, {'div2': True, 'div7': False}), (54, 79, {'div2': False, 'div7': False}), (54, 80, {'div2': True, 'div7': False}), (54, 81, {'div2': False, 'div7': False}), (54, 82, {'div2': True, 'div7': False}), (54, 83, {'div2': False, 'div7': False}), (54, 84, {'div2': True, 'div7': False}), (54, 85, {'div2': False, 'div7': False}), (54, 86, {'div2': True, 'div7': False}), (54, 87, {'div2': False, 'div7': False}), (54, 88, {'div2': True, 'div7': False}), (54, 89, {'div2': False, 'div7': False}), (54, 90, {'div2': True, 'div7': False}), (54, 91, {'div2': False, 'div7': False}), (54, 92, {'div2': True, 'div7': False}), (54, 93, {'div2': False, 'div7': False}), (54, 94, {'div2': True, 'div7': False}), (54, 95, {'div2': False, 'div7': False}), (54, 96, {'div2': True, 'div7': False}), (54, 97, {'div2': False, 'div7': False}), (54, 98, {'div2': True, 'div7': False}), (54, 99, {'div2': False, 'div7': False}), (55, 56, {'div2': False, 'div7': False}), (55, 57, {'div2': False, 'div7': False}), (55, 58, {'div2': False, 'div7': False}), (55, 59, {'div2': False, 'div7': False}), (55, 60, {'div2': False, 'div7': False}), (55, 61, {'div2': False, 'div7': False}), (55, 62, {'div2': False, 'div7': False}), (55, 63, {'div2': False, 'div7': False}), (55, 64, {'div2': False, 'div7': False}), (55, 65, {'div2': False, 'div7': False}), (55, 66, {'div2': False, 'div7': False}), (55, 67, {'div2': False, 'div7': False}), (55, 68, {'div2': False, 'div7': False}), (55, 69, {'div2': False, 'div7': False}), (55, 70, {'div2': False, 'div7': False}), (55, 71, {'div2': False, 'div7': False}), (55, 72, {'div2': False, 'div7': False}), (55, 73, {'div2': False, 'div7': False}), (55, 74, {'div2': False, 'div7': False}), (55, 75, {'div2': False, 'div7': False}), (55, 76, {'div2': False, 'div7': False}), (55, 77, {'div2': False, 'div7': False}), (55, 78, {'div2': False, 'div7': False}), (55, 79, {'div2': False, 'div7': False}), (55, 80, {'div2': False, 'div7': False}), (55, 81, {'div2': False, 'div7': False}), (55, 82, {'div2': False, 'div7': False}), (55, 83, {'div2': False, 'div7': False}), (55, 84, {'div2': False, 'div7': False}), (55, 85, {'div2': False, 'div7': False}), (55, 86, {'div2': False, 'div7': False}), (55, 87, {'div2': False, 'div7': False}), (55, 88, {'div2': False, 'div7': False}), (55, 89, {'div2': False, 'div7': False}), (55, 90, {'div2': False, 'div7': False}), (55, 91, {'div2': False, 'div7': False}), (55, 92, {'div2': False, 'div7': False}), (55, 93, {'div2': False, 'div7': False}), (55, 94, {'div2': False, 'div7': False}), (55, 95, {'div2': False, 'div7': False}), (55, 96, {'div2': False, 'div7': False}), (55, 97, {'div2': False, 'div7': False}), (55, 98, {'div2': False, 'div7': False}), (55, 99, {'div2': False, 'div7': False}), (56, 57, {'div2': False, 'div7': False}), (56, 58, {'div2': True, 'div7': False}), (56, 59, {'div2': False, 'div7': False}), (56, 60, {'div2': True, 'div7': False}), (56, 61, {'div2': False, 'div7': False}), (56, 62, {'div2': True, 'div7': False}), (56, 63, {'div2': False, 'div7': True}), (56, 64, {'div2': True, 'div7': False}), (56, 65, {'div2': False, 'div7': False}), (56, 66, {'div2': True, 'div7': False}), (56, 67, {'div2': False, 'div7': False}), (56, 68, {'div2': True, 'div7': False}), (56, 69, {'div2': False, 'div7': False}), (56, 70, {'div2': True, 'div7': True}), (56, 71, {'div2': False, 'div7': False}), (56, 72, {'div2': True, 'div7': False}), (56, 73, {'div2': False, 'div7': False}), (56, 74, {'div2': True, 'div7': False}), (56, 75, {'div2': False, 'div7': False}), (56, 76, {'div2': True, 'div7': False}), (56, 77, {'div2': False, 'div7': True}), (56, 78, {'div2': True, 'div7': False}), (56, 79, {'div2': False, 'div7': False}), (56, 80, {'div2': True, 'div7': False}), (56, 81, {'div2': False, 'div7': False}), (56, 82, {'div2': True, 'div7': False}), (56, 83, {'div2': False, 'div7': False}), (56, 84, {'div2': True, 'div7': True}), (56, 85, {'div2': False, 'div7': False}), (56, 86, {'div2': True, 'div7': False}), (56, 87, {'div2': False, 'div7': False}), (56, 88, {'div2': True, 'div7': False}), (56, 89, {'div2': False, 'div7': False}), (56, 90, {'div2': True, 'div7': False}), (56, 91, {'div2': False, 'div7': True}), (56, 92, {'div2': True, 'div7': False}), (56, 93, {'div2': False, 'div7': False}), (56, 94, {'div2': True, 'div7': False}), (56, 95, {'div2': False, 'div7': False}), (56, 96, {'div2': True, 'div7': False}), (56, 97, {'div2': False, 'div7': False}), (56, 98, {'div2': True, 'div7': True}), (56, 99, {'div2': False, 'div7': False}), (57, 58, {'div2': False, 'div7': False}), (57, 59, {'div2': False, 'div7': False}), (57, 60, {'div2': False, 'div7': False}), (57, 61, {'div2': False, 'div7': False}), (57, 62, {'div2': False, 'div7': False}), (57, 63, {'div2': False, 'div7': False}), (57, 64, {'div2': False, 'div7': False}), (57, 65, {'div2': False, 'div7': False}), (57, 66, {'div2': False, 'div7': False}), (57, 67, {'div2': False, 'div7': False}), (57, 68, {'div2': False, 'div7': False}), (57, 69, {'div2': False, 'div7': False}), (57, 70, {'div2': False, 'div7': False}), (57, 71, {'div2': False, 'div7': False}), (57, 72, {'div2': False, 'div7': False}), (57, 73, {'div2': False, 'div7': False}), (57, 74, {'div2': False, 'div7': False}), (57, 75, {'div2': False, 'div7': False}), (57, 76, {'div2': False, 'div7': False}), (57, 77, {'div2': False, 'div7': False}), (57, 78, {'div2': False, 'div7': False}), (57, 79, {'div2': False, 'div7': False}), (57, 80, {'div2': False, 'div7': False}), (57, 81, {'div2': False, 'div7': False}), (57, 82, {'div2': False, 'div7': False}), (57, 83, {'div2': False, 'div7': False}), (57, 84, {'div2': False, 'div7': False}), (57, 85, {'div2': False, 'div7': False}), (57, 86, {'div2': False, 'div7': False}), (57, 87, {'div2': False, 'div7': False}), (57, 88, {'div2': False, 'div7': False}), (57, 89, {'div2': False, 'div7': False}), (57, 90, {'div2': False, 'div7': False}), (57, 91, {'div2': False, 'div7': False}), (57, 92, {'div2': False, 'div7': False}), (57, 93, {'div2': False, 'div7': False}), (57, 94, {'div2': False, 'div7': False}), (57, 95, {'div2': False, 'div7': False}), (57, 96, {'div2': False, 'div7': False}), (57, 97, {'div2': False, 'div7': False}), (57, 98, {'div2': False, 'div7': False}), (57, 99, {'div2': False, 'div7': False}), (58, 59, {'div2': False, 'div7': False}), (58, 60, {'div2': True, 'div7': False}), (58, 61, {'div2': False, 'div7': False}), (58, 62, {'div2': True, 'div7': False}), (58, 63, {'div2': False, 'div7': False}), (58, 64, {'div2': True, 'div7': False}), (58, 65, {'div2': False, 'div7': False}), (58, 66, {'div2': True, 'div7': False}), (58, 67, {'div2': False, 'div7': False}), (58, 68, {'div2': True, 'div7': False}), (58, 69, {'div2': False, 'div7': False}), (58, 70, {'div2': True, 'div7': False}), (58, 71, {'div2': False, 'div7': False}), (58, 72, {'div2': True, 'div7': False}), (58, 73, {'div2': False, 'div7': False}), (58, 74, {'div2': True, 'div7': False}), (58, 75, {'div2': False, 'div7': False}), (58, 76, {'div2': True, 'div7': False}), (58, 77, {'div2': False, 'div7': False}), (58, 78, {'div2': True, 'div7': False}), (58, 79, {'div2': False, 'div7': False}), (58, 80, {'div2': True, 'div7': False}), (58, 81, {'div2': False, 'div7': False}), (58, 82, {'div2': True, 'div7': False}), (58, 83, {'div2': False, 'div7': False}), (58, 84, {'div2': True, 'div7': False}), (58, 85, {'div2': False, 'div7': False}), (58, 86, {'div2': True, 'div7': False}), (58, 87, {'div2': False, 'div7': False}), (58, 88, {'div2': True, 'div7': False}), (58, 89, {'div2': False, 'div7': False}), (58, 90, {'div2': True, 'div7': False}), (58, 91, {'div2': False, 'div7': False}), (58, 92, {'div2': True, 'div7': False}), (58, 93, {'div2': False, 'div7': False}), (58, 94, {'div2': True, 'div7': False}), (58, 95, {'div2': False, 'div7': False}), (58, 96, {'div2': True, 'div7': False}), (58, 97, {'div2': False, 'div7': False}), (58, 98, {'div2': True, 'div7': False}), (58, 99, {'div2': False, 'div7': False}), (59, 60, {'div2': False, 'div7': False}), (59, 61, {'div2': False, 'div7': False}), (59, 62, {'div2': False, 'div7': False}), (59, 63, {'div2': False, 'div7': False}), (59, 64, {'div2': False, 'div7': False}), (59, 65, {'div2': False, 'div7': False}), (59, 66, {'div2': False, 'div7': False}), (59, 67, {'div2': False, 'div7': False}), (59, 68, {'div2': False, 'div7': False}), (59, 69, {'div2': False, 'div7': False}), (59, 70, {'div2': False, 'div7': False}), (59, 71, {'div2': False, 'div7': False}), (59, 72, {'div2': False, 'div7': False}), (59, 73, {'div2': False, 'div7': False}), (59, 74, {'div2': False, 'div7': False}), (59, 75, {'div2': False, 'div7': False}), (59, 76, {'div2': False, 'div7': False}), (59, 77, {'div2': False, 'div7': False}), (59, 78, {'div2': False, 'div7': False}), (59, 79, {'div2': False, 'div7': False}), (59, 80, {'div2': False, 'div7': False}), (59, 81, {'div2': False, 'div7': False}), (59, 82, {'div2': False, 'div7': False}), (59, 83, {'div2': False, 'div7': False}), (59, 84, {'div2': False, 'div7': False}), (59, 85, {'div2': False, 'div7': False}), (59, 86, {'div2': False, 'div7': False}), (59, 87, {'div2': False, 'div7': False}), (59, 88, {'div2': False, 'div7': False}), (59, 89, {'div2': False, 'div7': False}), (59, 90, {'div2': False, 'div7': False}), (59, 91, {'div2': False, 'div7': False}), (59, 92, {'div2': False, 'div7': False}), (59, 93, {'div2': False, 'div7': False}), (59, 94, {'div2': False, 'div7': False}), (59, 95, {'div2': False, 'div7': False}), (59, 96, {'div2': False, 'div7': False}), (59, 97, {'div2': False, 'div7': False}), (59, 98, {'div2': False, 'div7': False}), (59, 99, {'div2': False, 'div7': False}), (60, 61, {'div2': False, 'div7': False}), (60, 62, {'div2': True, 'div7': False}), (60, 63, {'div2': False, 'div7': False}), (60, 64, {'div2': True, 'div7': False}), (60, 65, {'div2': False, 'div7': False}), (60, 66, {'div2': True, 'div7': False}), (60, 67, {'div2': False, 'div7': False}), (60, 68, {'div2': True, 'div7': False}), (60, 69, {'div2': False, 'div7': False}), (60, 70, {'div2': True, 'div7': False}), (60, 71, {'div2': False, 'div7': False}), (60, 72, {'div2': True, 'div7': False}), (60, 73, {'div2': False, 'div7': False}), (60, 74, {'div2': True, 'div7': False}), (60, 75, {'div2': False, 'div7': False}), (60, 76, {'div2': True, 'div7': False}), (60, 77, {'div2': False, 'div7': False}), (60, 78, {'div2': True, 'div7': False}), (60, 79, {'div2': False, 'div7': False}), (60, 80, {'div2': True, 'div7': False}), (60, 81, {'div2': False, 'div7': False}), (60, 82, {'div2': True, 'div7': False}), (60, 83, {'div2': False, 'div7': False}), (60, 84, {'div2': True, 'div7': False}), (60, 85, {'div2': False, 'div7': False}), (60, 86, {'div2': True, 'div7': False}), (60, 87, {'div2': False, 'div7': False}), (60, 88, {'div2': True, 'div7': False}), (60, 89, {'div2': False, 'div7': False}), (60, 90, {'div2': True, 'div7': False}), (60, 91, {'div2': False, 'div7': False}), (60, 92, {'div2': True, 'div7': False}), (60, 93, {'div2': False, 'div7': False}), (60, 94, {'div2': True, 'div7': False}), (60, 95, {'div2': False, 'div7': False}), (60, 96, {'div2': True, 'div7': False}), (60, 97, {'div2': False, 'div7': False}), (60, 98, {'div2': True, 'div7': False}), (60, 99, {'div2': False, 'div7': False}), (61, 62, {'div2': False, 'div7': False}), (61, 63, {'div2': False, 'div7': False}), (61, 64, {'div2': False, 'div7': False}), (61, 65, {'div2': False, 'div7': False}), (61, 66, {'div2': False, 'div7': False}), (61, 67, {'div2': False, 'div7': False}), (61, 68, {'div2': False, 'div7': False}), (61, 69, {'div2': False, 'div7': False}), (61, 70, {'div2': False, 'div7': False}), (61, 71, {'div2': False, 'div7': False}), (61, 72, {'div2': False, 'div7': False}), (61, 73, {'div2': False, 'div7': False}), (61, 74, {'div2': False, 'div7': False}), (61, 75, {'div2': False, 'div7': False}), (61, 76, {'div2': False, 'div7': False}), (61, 77, {'div2': False, 'div7': False}), (61, 78, {'div2': False, 'div7': False}), (61, 79, {'div2': False, 'div7': False}), (61, 80, {'div2': False, 'div7': False}), (61, 81, {'div2': False, 'div7': False}), (61, 82, {'div2': False, 'div7': False}), (61, 83, {'div2': False, 'div7': False}), (61, 84, {'div2': False, 'div7': False}), (61, 85, {'div2': False, 'div7': False}), (61, 86, {'div2': False, 'div7': False}), (61, 87, {'div2': False, 'div7': False}), (61, 88, {'div2': False, 'div7': False}), (61, 89, {'div2': False, 'div7': False}), (61, 90, {'div2': False, 'div7': False}), (61, 91, {'div2': False, 'div7': False}), (61, 92, {'div2': False, 'div7': False}), (61, 93, {'div2': False, 'div7': False}), (61, 94, {'div2': False, 'div7': False}), (61, 95, {'div2': False, 'div7': False}), (61, 96, {'div2': False, 'div7': False}), (61, 97, {'div2': False, 'div7': False}), (61, 98, {'div2': False, 'div7': False}), (61, 99, {'div2': False, 'div7': False}), (62, 63, {'div2': False, 'div7': False}), (62, 64, {'div2': True, 'div7': False}), (62, 65, {'div2': False, 'div7': False}), (62, 66, {'div2': True, 'div7': False}), (62, 67, {'div2': False, 'div7': False}), (62, 68, {'div2': True, 'div7': False}), (62, 69, {'div2': False, 'div7': False}), (62, 70, {'div2': True, 'div7': False}), (62, 71, {'div2': False, 'div7': False}), (62, 72, {'div2': True, 'div7': False}), (62, 73, {'div2': False, 'div7': False}), (62, 74, {'div2': True, 'div7': False}), (62, 75, {'div2': False, 'div7': False}), (62, 76, {'div2': True, 'div7': False}), (62, 77, {'div2': False, 'div7': False}), (62, 78, {'div2': True, 'div7': False}), (62, 79, {'div2': False, 'div7': False}), (62, 80, {'div2': True, 'div7': False}), (62, 81, {'div2': False, 'div7': False}), (62, 82, {'div2': True, 'div7': False}), (62, 83, {'div2': False, 'div7': False}), (62, 84, {'div2': True, 'div7': False}), (62, 85, {'div2': False, 'div7': False}), (62, 86, {'div2': True, 'div7': False}), (62, 87, {'div2': False, 'div7': False}), (62, 88, {'div2': True, 'div7': False}), (62, 89, {'div2': False, 'div7': False}), (62, 90, {'div2': True, 'div7': False}), (62, 91, {'div2': False, 'div7': False}), (62, 92, {'div2': True, 'div7': False}), (62, 93, {'div2': False, 'div7': False}), (62, 94, {'div2': True, 'div7': False}), (62, 95, {'div2': False, 'div7': False}), (62, 96, {'div2': True, 'div7': False}), (62, 97, {'div2': False, 'div7': False}), (62, 98, {'div2': True, 'div7': False}), (62, 99, {'div2': False, 'div7': False}), (63, 64, {'div2': False, 'div7': False}), (63, 65, {'div2': False, 'div7': False}), (63, 66, {'div2': False, 'div7': False}), (63, 67, {'div2': False, 'div7': False}), (63, 68, {'div2': False, 'div7': False}), (63, 69, {'div2': False, 'div7': False}), (63, 70, {'div2': False, 'div7': True}), (63, 71, {'div2': False, 'div7': False}), (63, 72, {'div2': False, 'div7': False}), (63, 73, {'div2': False, 'div7': False}), (63, 74, {'div2': False, 'div7': False}), (63, 75, {'div2': False, 'div7': False}), (63, 76, {'div2': False, 'div7': False}), (63, 77, {'div2': False, 'div7': True}), (63, 78, {'div2': False, 'div7': False}), (63, 79, {'div2': False, 'div7': False}), (63, 80, {'div2': False, 'div7': False}), (63, 81, {'div2': False, 'div7': False}), (63, 82, {'div2': False, 'div7': False}), (63, 83, {'div2': False, 'div7': False}), (63, 84, {'div2': False, 'div7': True}), (63, 85, {'div2': False, 'div7': False}), (63, 86, {'div2': False, 'div7': False}), (63, 87, {'div2': False, 'div7': False}), (63, 88, {'div2': False, 'div7': False}), (63, 89, {'div2': False, 'div7': False}), (63, 90, {'div2': False, 'div7': False}), (63, 91, {'div2': False, 'div7': True}), (63, 92, {'div2': False, 'div7': False}), (63, 93, {'div2': False, 'div7': False}), (63, 94, {'div2': False, 'div7': False}), (63, 95, {'div2': False, 'div7': False}), (63, 96, {'div2': False, 'div7': False}), (63, 97, {'div2': False, 'div7': False}), (63, 98, {'div2': False, 'div7': True}), (63, 99, {'div2': False, 'div7': False}), (64, 65, {'div2': False, 'div7': False}), (64, 66, {'div2': True, 'div7': False}), (64, 67, {'div2': False, 'div7': False}), (64, 68, {'div2': True, 'div7': False}), (64, 69, {'div2': False, 'div7': False}), (64, 70, {'div2': True, 'div7': False}), (64, 71, {'div2': False, 'div7': False}), (64, 72, {'div2': True, 'div7': False}), (64, 73, {'div2': False, 'div7': False}), (64, 74, {'div2': True, 'div7': False}), (64, 75, {'div2': False, 'div7': False}), (64, 76, {'div2': True, 'div7': False}), (64, 77, {'div2': False, 'div7': False}), (64, 78, {'div2': True, 'div7': False}), (64, 79, {'div2': False, 'div7': False}), (64, 80, {'div2': True, 'div7': False}), (64, 81, {'div2': False, 'div7': False}), (64, 82, {'div2': True, 'div7': False}), (64, 83, {'div2': False, 'div7': False}), (64, 84, {'div2': True, 'div7': False}), (64, 85, {'div2': False, 'div7': False}), (64, 86, {'div2': True, 'div7': False}), (64, 87, {'div2': False, 'div7': False}), (64, 88, {'div2': True, 'div7': False}), (64, 89, {'div2': False, 'div7': False}), (64, 90, {'div2': True, 'div7': False}), (64, 91, {'div2': False, 'div7': False}), (64, 92, {'div2': True, 'div7': False}), (64, 93, {'div2': False, 'div7': False}), (64, 94, {'div2': True, 'div7': False}), (64, 95, {'div2': False, 'div7': False}), (64, 96, {'div2': True, 'div7': False}), (64, 97, {'div2': False, 'div7': False}), (64, 98, {'div2': True, 'div7': False}), (64, 99, {'div2': False, 'div7': False}), (65, 66, {'div2': False, 'div7': False}), (65, 67, {'div2': False, 'div7': False}), (65, 68, {'div2': False, 'div7': False}), (65, 69, {'div2': False, 'div7': False}), (65, 70, {'div2': False, 'div7': False}), (65, 71, {'div2': False, 'div7': False}), (65, 72, {'div2': False, 'div7': False}), (65, 73, {'div2': False, 'div7': False}), (65, 74, {'div2': False, 'div7': False}), (65, 75, {'div2': False, 'div7': False}), (65, 76, {'div2': False, 'div7': False}), (65, 77, {'div2': False, 'div7': False}), (65, 78, {'div2': False, 'div7': False}), (65, 79, {'div2': False, 'div7': False}), (65, 80, {'div2': False, 'div7': False}), (65, 81, {'div2': False, 'div7': False}), (65, 82, {'div2': False, 'div7': False}), (65, 83, {'div2': False, 'div7': False}), (65, 84, {'div2': False, 'div7': False}), (65, 85, {'div2': False, 'div7': False}), (65, 86, {'div2': False, 'div7': False}), (65, 87, {'div2': False, 'div7': False}), (65, 88, {'div2': False, 'div7': False}), (65, 89, {'div2': False, 'div7': False}), (65, 90, {'div2': False, 'div7': False}), (65, 91, {'div2': False, 'div7': False}), (65, 92, {'div2': False, 'div7': False}), (65, 93, {'div2': False, 'div7': False}), (65, 94, {'div2': False, 'div7': False}), (65, 95, {'div2': False, 'div7': False}), (65, 96, {'div2': False, 'div7': False}), (65, 97, {'div2': False, 'div7': False}), (65, 98, {'div2': False, 'div7': False}), (65, 99, {'div2': False, 'div7': False}), (66, 67, {'div2': False, 'div7': False}), (66, 68, {'div2': True, 'div7': False}), (66, 69, {'div2': False, 'div7': False}), (66, 70, {'div2': True, 'div7': False}), (66, 71, {'div2': False, 'div7': False}), (66, 72, {'div2': True, 'div7': False}), (66, 73, {'div2': False, 'div7': False}), (66, 74, {'div2': True, 'div7': False}), (66, 75, {'div2': False, 'div7': False}), (66, 76, {'div2': True, 'div7': False}), (66, 77, {'div2': False, 'div7': False}), (66, 78, {'div2': True, 'div7': False}), (66, 79, {'div2': False, 'div7': False}), (66, 80, {'div2': True, 'div7': False}), (66, 81, {'div2': False, 'div7': False}), (66, 82, {'div2': True, 'div7': False}), (66, 83, {'div2': False, 'div7': False}), (66, 84, {'div2': True, 'div7': False}), (66, 85, {'div2': False, 'div7': False}), (66, 86, {'div2': True, 'div7': False}), (66, 87, {'div2': False, 'div7': False}), (66, 88, {'div2': True, 'div7': False}), (66, 89, {'div2': False, 'div7': False}), (66, 90, {'div2': True, 'div7': False}), (66, 91, {'div2': False, 'div7': False}), (66, 92, {'div2': True, 'div7': False}), (66, 93, {'div2': False, 'div7': False}), (66, 94, {'div2': True, 'div7': False}), (66, 95, {'div2': False, 'div7': False}), (66, 96, {'div2': True, 'div7': False}), (66, 97, {'div2': False, 'div7': False}), (66, 98, {'div2': True, 'div7': False}), (66, 99, {'div2': False, 'div7': False}), (67, 68, {'div2': False, 'div7': False}), (67, 69, {'div2': False, 'div7': False}), (67, 70, {'div2': False, 'div7': False}), (67, 71, {'div2': False, 'div7': False}), (67, 72, {'div2': False, 'div7': False}), (67, 73, {'div2': False, 'div7': False}), (67, 74, {'div2': False, 'div7': False}), (67, 75, {'div2': False, 'div7': False}), (67, 76, {'div2': False, 'div7': False}), (67, 77, {'div2': False, 'div7': False}), (67, 78, {'div2': False, 'div7': False}), (67, 79, {'div2': False, 'div7': False}), (67, 80, {'div2': False, 'div7': False}), (67, 81, {'div2': False, 'div7': False}), (67, 82, {'div2': False, 'div7': False}), (67, 83, {'div2': False, 'div7': False}), (67, 84, {'div2': False, 'div7': False}), (67, 85, {'div2': False, 'div7': False}), (67, 86, {'div2': False, 'div7': False}), (67, 87, {'div2': False, 'div7': False}), (67, 88, {'div2': False, 'div7': False}), (67, 89, {'div2': False, 'div7': False}), (67, 90, {'div2': False, 'div7': False}), (67, 91, {'div2': False, 'div7': False}), (67, 92, {'div2': False, 'div7': False}), (67, 93, {'div2': False, 'div7': False}), (67, 94, {'div2': False, 'div7': False}), (67, 95, {'div2': False, 'div7': False}), (67, 96, {'div2': False, 'div7': False}), (67, 97, {'div2': False, 'div7': False}), (67, 98, {'div2': False, 'div7': False}), (67, 99, {'div2': False, 'div7': False}), (68, 69, {'div2': False, 'div7': False}), (68, 70, {'div2': True, 'div7': False}), (68, 71, {'div2': False, 'div7': False}), (68, 72, {'div2': True, 'div7': False}), (68, 73, {'div2': False, 'div7': False}), (68, 74, {'div2': True, 'div7': False}), (68, 75, {'div2': False, 'div7': False}), (68, 76, {'div2': True, 'div7': False}), (68, 77, {'div2': False, 'div7': False}), (68, 78, {'div2': True, 'div7': False}), (68, 79, {'div2': False, 'div7': False}), (68, 80, {'div2': True, 'div7': False}), (68, 81, {'div2': False, 'div7': False}), (68, 82, {'div2': True, 'div7': False}), (68, 83, {'div2': False, 'div7': False}), (68, 84, {'div2': True, 'div7': False}), (68, 85, {'div2': False, 'div7': False}), (68, 86, {'div2': True, 'div7': False}), (68, 87, {'div2': False, 'div7': False}), (68, 88, {'div2': True, 'div7': False}), (68, 89, {'div2': False, 'div7': False}), (68, 90, {'div2': True, 'div7': False}), (68, 91, {'div2': False, 'div7': False}), (68, 92, {'div2': True, 'div7': False}), (68, 93, {'div2': False, 'div7': False}), (68, 94, {'div2': True, 'div7': False}), (68, 95, {'div2': False, 'div7': False}), (68, 96, {'div2': True, 'div7': False}), (68, 97, {'div2': False, 'div7': False}), (68, 98, {'div2': True, 'div7': False}), (68, 99, {'div2': False, 'div7': False}), (69, 70, {'div2': False, 'div7': False}), (69, 71, {'div2': False, 'div7': False}), (69, 72, {'div2': False, 'div7': False}), (69, 73, {'div2': False, 'div7': False}), (69, 74, {'div2': False, 'div7': False}), (69, 75, {'div2': False, 'div7': False}), (69, 76, {'div2': False, 'div7': False}), (69, 77, {'div2': False, 'div7': False}), (69, 78, {'div2': False, 'div7': False}), (69, 79, {'div2': False, 'div7': False}), (69, 80, {'div2': False, 'div7': False}), (69, 81, {'div2': False, 'div7': False}), (69, 82, {'div2': False, 'div7': False}), (69, 83, {'div2': False, 'div7': False}), (69, 84, {'div2': False, 'div7': False}), (69, 85, {'div2': False, 'div7': False}), (69, 86, {'div2': False, 'div7': False}), (69, 87, {'div2': False, 'div7': False}), (69, 88, {'div2': False, 'div7': False}), (69, 89, {'div2': False, 'div7': False}), (69, 90, {'div2': False, 'div7': False}), (69, 91, {'div2': False, 'div7': False}), (69, 92, {'div2': False, 'div7': False}), (69, 93, {'div2': False, 'div7': False}), (69, 94, {'div2': False, 'div7': False}), (69, 95, {'div2': False, 'div7': False}), (69, 96, {'div2': False, 'div7': False}), (69, 97, {'div2': False, 'div7': False}), (69, 98, {'div2': False, 'div7': False}), (69, 99, {'div2': False, 'div7': False}), (70, 71, {'div2': False, 'div7': False}), (70, 72, {'div2': True, 'div7': False}), (70, 73, {'div2': False, 'div7': False}), (70, 74, {'div2': True, 'div7': False}), (70, 75, {'div2': False, 'div7': False}), (70, 76, {'div2': True, 'div7': False}), (70, 77, {'div2': False, 'div7': True}), (70, 78, {'div2': True, 'div7': False}), (70, 79, {'div2': False, 'div7': False}), (70, 80, {'div2': True, 'div7': False}), (70, 81, {'div2': False, 'div7': False}), (70, 82, {'div2': True, 'div7': False}), (70, 83, {'div2': False, 'div7': False}), (70, 84, {'div2': True, 'div7': True}), (70, 85, {'div2': False, 'div7': False}), (70, 86, {'div2': True, 'div7': False}), (70, 87, {'div2': False, 'div7': False}), (70, 88, {'div2': True, 'div7': False}), (70, 89, {'div2': False, 'div7': False}), (70, 90, {'div2': True, 'div7': False}), (70, 91, {'div2': False, 'div7': True}), (70, 92, {'div2': True, 'div7': False}), (70, 93, {'div2': False, 'div7': False}), (70, 94, {'div2': True, 'div7': False}), (70, 95, {'div2': False, 'div7': False}), (70, 96, {'div2': True, 'div7': False}), (70, 97, {'div2': False, 'div7': False}), (70, 98, {'div2': True, 'div7': True}), (70, 99, {'div2': False, 'div7': False}), (71, 72, {'div2': False, 'div7': False}), (71, 73, {'div2': False, 'div7': False}), (71, 74, {'div2': False, 'div7': False}), (71, 75, {'div2': False, 'div7': False}), (71, 76, {'div2': False, 'div7': False}), (71, 77, {'div2': False, 'div7': False}), (71, 78, {'div2': False, 'div7': False}), (71, 79, {'div2': False, 'div7': False}), (71, 80, {'div2': False, 'div7': False}), (71, 81, {'div2': False, 'div7': False}), (71, 82, {'div2': False, 'div7': False}), (71, 83, {'div2': False, 'div7': False}), (71, 84, {'div2': False, 'div7': False}), (71, 85, {'div2': False, 'div7': False}), (71, 86, {'div2': False, 'div7': False}), (71, 87, {'div2': False, 'div7': False}), (71, 88, {'div2': False, 'div7': False}), (71, 89, {'div2': False, 'div7': False}), (71, 90, {'div2': False, 'div7': False}), (71, 91, {'div2': False, 'div7': False}), (71, 92, {'div2': False, 'div7': False}), (71, 93, {'div2': False, 'div7': False}), (71, 94, {'div2': False, 'div7': False}), (71, 95, {'div2': False, 'div7': False}), (71, 96, {'div2': False, 'div7': False}), (71, 97, {'div2': False, 'div7': False}), (71, 98, {'div2': False, 'div7': False}), (71, 99, {'div2': False, 'div7': False}), (72, 73, {'div2': False, 'div7': False}), (72, 74, {'div2': True, 'div7': False}), (72, 75, {'div2': False, 'div7': False}), (72, 76, {'div2': True, 'div7': False}), (72, 77, {'div2': False, 'div7': False}), (72, 78, {'div2': True, 'div7': False}), (72, 79, {'div2': False, 'div7': False}), (72, 80, {'div2': True, 'div7': False}), (72, 81, {'div2': False, 'div7': False}), (72, 82, {'div2': True, 'div7': False}), (72, 83, {'div2': False, 'div7': False}), (72, 84, {'div2': True, 'div7': False}), (72, 85, {'div2': False, 'div7': False}), (72, 86, {'div2': True, 'div7': False}), (72, 87, {'div2': False, 'div7': False}), (72, 88, {'div2': True, 'div7': False}), (72, 89, {'div2': False, 'div7': False}), (72, 90, {'div2': True, 'div7': False}), (72, 91, {'div2': False, 'div7': False}), (72, 92, {'div2': True, 'div7': False}), (72, 93, {'div2': False, 'div7': False}), (72, 94, {'div2': True, 'div7': False}), (72, 95, {'div2': False, 'div7': False}), (72, 96, {'div2': True, 'div7': False}), (72, 97, {'div2': False, 'div7': False}), (72, 98, {'div2': True, 'div7': False}), (72, 99, {'div2': False, 'div7': False}), (73, 74, {'div2': False, 'div7': False}), (73, 75, {'div2': False, 'div7': False}), (73, 76, {'div2': False, 'div7': False}), (73, 77, {'div2': False, 'div7': False}), (73, 78, {'div2': False, 'div7': False}), (73, 79, {'div2': False, 'div7': False}), (73, 80, {'div2': False, 'div7': False}), (73, 81, {'div2': False, 'div7': False}), (73, 82, {'div2': False, 'div7': False}), (73, 83, {'div2': False, 'div7': False}), (73, 84, {'div2': False, 'div7': False}), (73, 85, {'div2': False, 'div7': False}), (73, 86, {'div2': False, 'div7': False}), (73, 87, {'div2': False, 'div7': False}), (73, 88, {'div2': False, 'div7': False}), (73, 89, {'div2': False, 'div7': False}), (73, 90, {'div2': False, 'div7': False}), (73, 91, {'div2': False, 'div7': False}), (73, 92, {'div2': False, 'div7': False}), (73, 93, {'div2': False, 'div7': False}), (73, 94, {'div2': False, 'div7': False}), (73, 95, {'div2': False, 'div7': False}), (73, 96, {'div2': False, 'div7': False}), (73, 97, {'div2': False, 'div7': False}), (73, 98, {'div2': False, 'div7': False}), (73, 99, {'div2': False, 'div7': False}), (74, 75, {'div2': False, 'div7': False}), (74, 76, {'div2': True, 'div7': False}), (74, 77, {'div2': False, 'div7': False}), (74, 78, {'div2': True, 'div7': False}), (74, 79, {'div2': False, 'div7': False}), (74, 80, {'div2': True, 'div7': False}), (74, 81, {'div2': False, 'div7': False}), (74, 82, {'div2': True, 'div7': False}), (74, 83, {'div2': False, 'div7': False}), (74, 84, {'div2': True, 'div7': False}), (74, 85, {'div2': False, 'div7': False}), (74, 86, {'div2': True, 'div7': False}), (74, 87, {'div2': False, 'div7': False}), (74, 88, {'div2': True, 'div7': False}), (74, 89, {'div2': False, 'div7': False}), (74, 90, {'div2': True, 'div7': False}), (74, 91, {'div2': False, 'div7': False}), (74, 92, {'div2': True, 'div7': False}), (74, 93, {'div2': False, 'div7': False}), (74, 94, {'div2': True, 'div7': False}), (74, 95, {'div2': False, 'div7': False}), (74, 96, {'div2': True, 'div7': False}), (74, 97, {'div2': False, 'div7': False}), (74, 98, {'div2': True, 'div7': False}), (74, 99, {'div2': False, 'div7': False}), (75, 76, {'div2': False, 'div7': False}), (75, 77, {'div2': False, 'div7': False}), (75, 78, {'div2': False, 'div7': False}), (75, 79, {'div2': False, 'div7': False}), (75, 80, {'div2': False, 'div7': False}), (75, 81, {'div2': False, 'div7': False}), (75, 82, {'div2': False, 'div7': False}), (75, 83, {'div2': False, 'div7': False}), (75, 84, {'div2': False, 'div7': False}), (75, 85, {'div2': False, 'div7': False}), (75, 86, {'div2': False, 'div7': False}), (75, 87, {'div2': False, 'div7': False}), (75, 88, {'div2': False, 'div7': False}), (75, 89, {'div2': False, 'div7': False}), (75, 90, {'div2': False, 'div7': False}), (75, 91, {'div2': False, 'div7': False}), (75, 92, {'div2': False, 'div7': False}), (75, 93, {'div2': False, 'div7': False}), (75, 94, {'div2': False, 'div7': False}), (75, 95, {'div2': False, 'div7': False}), (75, 96, {'div2': False, 'div7': False}), (75, 97, {'div2': False, 'div7': False}), (75, 98, {'div2': False, 'div7': False}), (75, 99, {'div2': False, 'div7': False}), (76, 77, {'div2': False, 'div7': False}), (76, 78, {'div2': True, 'div7': False}), (76, 79, {'div2': False, 'div7': False}), (76, 80, {'div2': True, 'div7': False}), (76, 81, {'div2': False, 'div7': False}), (76, 82, {'div2': True, 'div7': False}), (76, 83, {'div2': False, 'div7': False}), (76, 84, {'div2': True, 'div7': False}), (76, 85, {'div2': False, 'div7': False}), (76, 86, {'div2': True, 'div7': False}), (76, 87, {'div2': False, 'div7': False}), (76, 88, {'div2': True, 'div7': False}), (76, 89, {'div2': False, 'div7': False}), (76, 90, {'div2': True, 'div7': False}), (76, 91, {'div2': False, 'div7': False}), (76, 92, {'div2': True, 'div7': False}), (76, 93, {'div2': False, 'div7': False}), (76, 94, {'div2': True, 'div7': False}), (76, 95, {'div2': False, 'div7': False}), (76, 96, {'div2': True, 'div7': False}), (76, 97, {'div2': False, 'div7': False}), (76, 98, {'div2': True, 'div7': False}), (76, 99, {'div2': False, 'div7': False}), (77, 78, {'div2': False, 'div7': False}), (77, 79, {'div2': False, 'div7': False}), (77, 80, {'div2': False, 'div7': False}), (77, 81, {'div2': False, 'div7': False}), (77, 82, {'div2': False, 'div7': False}), (77, 83, {'div2': False, 'div7': False}), (77, 84, {'div2': False, 'div7': True}), (77, 85, {'div2': False, 'div7': False}), (77, 86, {'div2': False, 'div7': False}), (77, 87, {'div2': False, 'div7': False}), (77, 88, {'div2': False, 'div7': False}), (77, 89, {'div2': False, 'div7': False}), (77, 90, {'div2': False, 'div7': False}), (77, 91, {'div2': False, 'div7': True}), (77, 92, {'div2': False, 'div7': False}), (77, 93, {'div2': False, 'div7': False}), (77, 94, {'div2': False, 'div7': False}), (77, 95, {'div2': False, 'div7': False}), (77, 96, {'div2': False, 'div7': False}), (77, 97, {'div2': False, 'div7': False}), (77, 98, {'div2': False, 'div7': True}), (77, 99, {'div2': False, 'div7': False}), (78, 79, {'div2': False, 'div7': False}), (78, 80, {'div2': True, 'div7': False}), (78, 81, {'div2': False, 'div7': False}), (78, 82, {'div2': True, 'div7': False}), (78, 83, {'div2': False, 'div7': False}), (78, 84, {'div2': True, 'div7': False}), (78, 85, {'div2': False, 'div7': False}), (78, 86, {'div2': True, 'div7': False}), (78, 87, {'div2': False, 'div7': False}), (78, 88, {'div2': True, 'div7': False}), (78, 89, {'div2': False, 'div7': False}), (78, 90, {'div2': True, 'div7': False}), (78, 91, {'div2': False, 'div7': False}), (78, 92, {'div2': True, 'div7': False}), (78, 93, {'div2': False, 'div7': False}), (78, 94, {'div2': True, 'div7': False}), (78, 95, {'div2': False, 'div7': False}), (78, 96, {'div2': True, 'div7': False}), (78, 97, {'div2': False, 'div7': False}), (78, 98, {'div2': True, 'div7': False}), (78, 99, {'div2': False, 'div7': False}), (79, 80, {'div2': False, 'div7': False}), (79, 81, {'div2': False, 'div7': False}), (79, 82, {'div2': False, 'div7': False}), (79, 83, {'div2': False, 'div7': False}), (79, 84, {'div2': False, 'div7': False}), (79, 85, {'div2': False, 'div7': False}), (79, 86, {'div2': False, 'div7': False}), (79, 87, {'div2': False, 'div7': False}), (79, 88, {'div2': False, 'div7': False}), (79, 89, {'div2': False, 'div7': False}), (79, 90, {'div2': False, 'div7': False}), (79, 91, {'div2': False, 'div7': False}), (79, 92, {'div2': False, 'div7': False}), (79, 93, {'div2': False, 'div7': False}), (79, 94, {'div2': False, 'div7': False}), (79, 95, {'div2': False, 'div7': False}), (79, 96, {'div2': False, 'div7': False}), (79, 97, {'div2': False, 'div7': False}), (79, 98, {'div2': False, 'div7': False}), (79, 99, {'div2': False, 'div7': False}), (80, 81, {'div2': False, 'div7': False}), (80, 82, {'div2': True, 'div7': False}), (80, 83, {'div2': False, 'div7': False}), (80, 84, {'div2': True, 'div7': False}), (80, 85, {'div2': False, 'div7': False}), (80, 86, {'div2': True, 'div7': False}), (80, 87, {'div2': False, 'div7': False}), (80, 88, {'div2': True, 'div7': False}), (80, 89, {'div2': False, 'div7': False}), (80, 90, {'div2': True, 'div7': False}), (80, 91, {'div2': False, 'div7': False}), (80, 92, {'div2': True, 'div7': False}), (80, 93, {'div2': False, 'div7': False}), (80, 94, {'div2': True, 'div7': False}), (80, 95, {'div2': False, 'div7': False}), (80, 96, {'div2': True, 'div7': False}), (80, 97, {'div2': False, 'div7': False}), (80, 98, {'div2': True, 'div7': False}), (80, 99, {'div2': False, 'div7': False}), (81, 82, {'div2': False, 'div7': False}), (81, 83, {'div2': False, 'div7': False}), (81, 84, {'div2': False, 'div7': False}), (81, 85, {'div2': False, 'div7': False}), (81, 86, {'div2': False, 'div7': False}), (81, 87, {'div2': False, 'div7': False}), (81, 88, {'div2': False, 'div7': False}), (81, 89, {'div2': False, 'div7': False}), (81, 90, {'div2': False, 'div7': False}), (81, 91, {'div2': False, 'div7': False}), (81, 92, {'div2': False, 'div7': False}), (81, 93, {'div2': False, 'div7': False}), (81, 94, {'div2': False, 'div7': False}), (81, 95, {'div2': False, 'div7': False}), (81, 96, {'div2': False, 'div7': False}), (81, 97, {'div2': False, 'div7': False}), (81, 98, {'div2': False, 'div7': False}), (81, 99, {'div2': False, 'div7': False}), (82, 83, {'div2': False, 'div7': False}), (82, 84, {'div2': True, 'div7': False}), (82, 85, {'div2': False, 'div7': False}), (82, 86, {'div2': True, 'div7': False}), (82, 87, {'div2': False, 'div7': False}), (82, 88, {'div2': True, 'div7': False}), (82, 89, {'div2': False, 'div7': False}), (82, 90, {'div2': True, 'div7': False}), (82, 91, {'div2': False, 'div7': False}), (82, 92, {'div2': True, 'div7': False}), (82, 93, {'div2': False, 'div7': False}), (82, 94, {'div2': True, 'div7': False}), (82, 95, {'div2': False, 'div7': False}), (82, 96, {'div2': True, 'div7': False}), (82, 97, {'div2': False, 'div7': False}), (82, 98, {'div2': True, 'div7': False}), (82, 99, {'div2': False, 'div7': False}), (83, 84, {'div2': False, 'div7': False}), (83, 85, {'div2': False, 'div7': False}), (83, 86, {'div2': False, 'div7': False}), (83, 87, {'div2': False, 'div7': False}), (83, 88, {'div2': False, 'div7': False}), (83, 89, {'div2': False, 'div7': False}), (83, 90, {'div2': False, 'div7': False}), (83, 91, {'div2': False, 'div7': False}), (83, 92, {'div2': False, 'div7': False}), (83, 93, {'div2': False, 'div7': False}), (83, 94, {'div2': False, 'div7': False}), (83, 95, {'div2': False, 'div7': False}), (83, 96, {'div2': False, 'div7': False}), (83, 97, {'div2': False, 'div7': False}), (83, 98, {'div2': False, 'div7': False}), (83, 99, {'div2': False, 'div7': False}), (84, 85, {'div2': False, 'div7': False}), (84, 86, {'div2': True, 'div7': False}), (84, 87, {'div2': False, 'div7': False}), (84, 88, {'div2': True, 'div7': False}), (84, 89, {'div2': False, 'div7': False}), (84, 90, {'div2': True, 'div7': False}), (84, 91, {'div2': False, 'div7': True}), (84, 92, {'div2': True, 'div7': False}), (84, 93, {'div2': False, 'div7': False}), (84, 94, {'div2': True, 'div7': False}), (84, 95, {'div2': False, 'div7': False}), (84, 96, {'div2': True, 'div7': False}), (84, 97, {'div2': False, 'div7': False}), (84, 98, {'div2': True, 'div7': True}), (84, 99, {'div2': False, 'div7': False}), (85, 86, {'div2': False, 'div7': False}), (85, 87, {'div2': False, 'div7': False}), (85, 88, {'div2': False, 'div7': False}), (85, 89, {'div2': False, 'div7': False}), (85, 90, {'div2': False, 'div7': False}), (85, 91, {'div2': False, 'div7': False}), (85, 92, {'div2': False, 'div7': False}), (85, 93, {'div2': False, 'div7': False}), (85, 94, {'div2': False, 'div7': False}), (85, 95, {'div2': False, 'div7': False}), (85, 96, {'div2': False, 'div7': False}), (85, 97, {'div2': False, 'div7': False}), (85, 98, {'div2': False, 'div7': False}), (85, 99, {'div2': False, 'div7': False}), (86, 87, {'div2': False, 'div7': False}), (86, 88, {'div2': True, 'div7': False}), (86, 89, {'div2': False, 'div7': False}), (86, 90, {'div2': True, 'div7': False}), (86, 91, {'div2': False, 'div7': False}), (86, 92, {'div2': True, 'div7': False}), (86, 93, {'div2': False, 'div7': False}), (86, 94, {'div2': True, 'div7': False}), (86, 95, {'div2': False, 'div7': False}), (86, 96, {'div2': True, 'div7': False}), (86, 97, {'div2': False, 'div7': False}), (86, 98, {'div2': True, 'div7': False}), (86, 99, {'div2': False, 'div7': False}), (87, 88, {'div2': False, 'div7': False}), (87, 89, {'div2': False, 'div7': False}), (87, 90, {'div2': False, 'div7': False}), (87, 91, {'div2': False, 'div7': False}), (87, 92, {'div2': False, 'div7': False}), (87, 93, {'div2': False, 'div7': False}), (87, 94, {'div2': False, 'div7': False}), (87, 95, {'div2': False, 'div7': False}), (87, 96, {'div2': False, 'div7': False}), (87, 97, {'div2': False, 'div7': False}), (87, 98, {'div2': False, 'div7': False}), (87, 99, {'div2': False, 'div7': False}), (88, 89, {'div2': False, 'div7': False}), (88, 90, {'div2': True, 'div7': False}), (88, 91, {'div2': False, 'div7': False}), (88, 92, {'div2': True, 'div7': False}), (88, 93, {'div2': False, 'div7': False}), (88, 94, {'div2': True, 'div7': False}), (88, 95, {'div2': False, 'div7': False}), (88, 96, {'div2': True, 'div7': False}), (88, 97, {'div2': False, 'div7': False}), (88, 98, {'div2': True, 'div7': False}), (88, 99, {'div2': False, 'div7': False}), (89, 90, {'div2': False, 'div7': False}), (89, 91, {'div2': False, 'div7': False}), (89, 92, {'div2': False, 'div7': False}), (89, 93, {'div2': False, 'div7': False}), (89, 94, {'div2': False, 'div7': False}), (89, 95, {'div2': False, 'div7': False}), (89, 96, {'div2': False, 'div7': False}), (89, 97, {'div2': False, 'div7': False}), (89, 98, {'div2': False, 'div7': False}), (89, 99, {'div2': False, 'div7': False}), (90, 91, {'div2': False, 'div7': False}), (90, 92, {'div2': True, 'div7': False}), (90, 93, {'div2': False, 'div7': False}), (90, 94, {'div2': True, 'div7': False}), (90, 95, {'div2': False, 'div7': False}), (90, 96, {'div2': True, 'div7': False}), (90, 97, {'div2': False, 'div7': False}), (90, 98, {'div2': True, 'div7': False}), (90, 99, {'div2': False, 'div7': False}), (91, 92, {'div2': False, 'div7': False}), (91, 93, {'div2': False, 'div7': False}), (91, 94, {'div2': False, 'div7': False}), (91, 95, {'div2': False, 'div7': False}), (91, 96, {'div2': False, 'div7': False}), (91, 97, {'div2': False, 'div7': False}), (91, 98, {'div2': False, 'div7': True}), (91, 99, {'div2': False, 'div7': False}), (92, 93, {'div2': False, 'div7': False}), (92, 94, {'div2': True, 'div7': False}), (92, 95, {'div2': False, 'div7': False}), (92, 96, {'div2': True, 'div7': False}), (92, 97, {'div2': False, 'div7': False}), (92, 98, {'div2': True, 'div7': False}), (92, 99, {'div2': False, 'div7': False}), (93, 94, {'div2': False, 'div7': False}), (93, 95, {'div2': False, 'div7': False}), (93, 96, {'div2': False, 'div7': False}), (93, 97, {'div2': False, 'div7': False}), (93, 98, {'div2': False, 'div7': False}), (93, 99, {'div2': False, 'div7': False}), (94, 95, {'div2': False, 'div7': False}), (94, 96, {'div2': True, 'div7': False}), (94, 97, {'div2': False, 'div7': False}), (94, 98, {'div2': True, 'div7': False}), (94, 99, {'div2': False, 'div7': False}), (95, 96, {'div2': False, 'div7': False}), (95, 97, {'div2': False, 'div7': False}), (95, 98, {'div2': False, 'div7': False}), (95, 99, {'div2': False, 'div7': False}), (96, 97, {'div2': False, 'div7': False}), (96, 98, {'div2': True, 'div7': False}), (96, 99, {'div2': False, 'div7': False}), (97, 98, {'div2': False, 'div7': False}), (97, 99, {'div2': False, 'div7': False}), (98, 99, {'div2': False, 'div7': False})])"
      ]
     },
     "execution_count": 130,
     "metadata": {},
     "output_type": "execute_result"
    }
   ],
   "source": [
    "FizzBuzzGraph = nx.Graph()\n",
    "\n",
    "FizzBuzzGraph.add_nodes_from(range(1, 100))\n",
    "\n",
    "for u in range(1, 100):\n",
    "    for v in range(u + 1, 100):\n",
    "        FizzBuzzGraph.add_edge(u, v, div2=(u % 2 == 0 and v % 2 == 0), div7=(u % 7 == 0 and v % 7 == 0))\n",
    "\n",
    "FizzBuzzGraph.edges(data=True)"
   ]
  },
  {
   "cell_type": "markdown",
   "metadata": {
    "jp-MarkdownHeadingCollapsed": true
   },
   "source": [
    "## Multigraphs"
   ]
  },
  {
   "cell_type": "markdown",
   "metadata": {},
   "source": [
    "Multigraphs can have multiple edges between any two nodes. They are referenced by a key."
   ]
  },
  {
   "cell_type": "code",
   "execution_count": 131,
   "metadata": {
    "ExecuteTime": {
     "end_time": "2020-04-22T09:12:01.824066Z",
     "start_time": "2020-04-22T09:12:01.820148Z"
    }
   },
   "outputs": [
    {
     "data": {
      "text/plain": [
       "1"
      ]
     },
     "execution_count": 131,
     "metadata": {},
     "output_type": "execute_result"
    }
   ],
   "source": [
    "M = nx.MultiGraph()\n",
    "\n",
    "M.add_edge(0,1)\n",
    "M.add_edge(0,1)"
   ]
  },
  {
   "cell_type": "code",
   "execution_count": 132,
   "metadata": {
    "ExecuteTime": {
     "end_time": "2020-04-22T09:12:02.151147Z",
     "start_time": "2020-04-22T09:12:02.146641Z"
    }
   },
   "outputs": [
    {
     "data": {
      "text/plain": [
       "MultiEdgeDataView([(0, 1), (0, 1)])"
      ]
     },
     "execution_count": 132,
     "metadata": {},
     "output_type": "execute_result"
    }
   ],
   "source": [
    "M.edges()"
   ]
  },
  {
   "cell_type": "markdown",
   "metadata": {},
   "source": [
    "The keys of the edges can be accessed by using the keyword `keys=True`. This will give a tuple of `(u,v,k)`, with the edge being `u` and `v` and the key being `k`."
   ]
  },
  {
   "cell_type": "code",
   "execution_count": 133,
   "metadata": {
    "ExecuteTime": {
     "end_time": "2020-04-22T09:12:05.288395Z",
     "start_time": "2020-04-22T09:12:05.284562Z"
    }
   },
   "outputs": [
    {
     "data": {
      "text/plain": [
       "MultiEdgeView([(0, 1, 0), (0, 1, 1)])"
      ]
     },
     "execution_count": 133,
     "metadata": {},
     "output_type": "execute_result"
    }
   ],
   "source": [
    "M.edges(keys=True)"
   ]
  },
  {
   "cell_type": "markdown",
   "metadata": {},
   "source": [
    "`MultiDraphs` and `MultiDiGraphs` are similar to `Graphs` and `DiGraphs` in most respects"
   ]
  },
  {
   "cell_type": "markdown",
   "metadata": {},
   "source": [
    "## Adding Graph Motifs"
   ]
  },
  {
   "cell_type": "markdown",
   "metadata": {},
   "source": [
    "In addition to adding nodes and edges one at a time `networkx` has some convenient functions for adding complete subgraphs."
   ]
  },
  {
   "cell_type": "code",
   "execution_count": 134,
   "metadata": {},
   "outputs": [
    {
     "name": "stdout",
     "output_type": "stream",
     "text": [
      "Cycle: [(0, 1), (0, 9), (1, 2), (2, 3), (3, 4), (4, 5), (5, 6), (6, 7), (7, 8), (8, 9)]\n",
      "Star: [(0, 1), (0, 2), (0, 3), (0, 4), (0, 5), (0, 6), (0, 7), (0, 8), (0, 9)]\n",
      "Path: [(0, 1), (1, 2), (2, 3), (3, 4), (4, 5), (5, 6), (6, 7), (7, 8), (8, 9)]\n"
     ]
    }
   ],
   "source": [
    "Gc = nx.Graph()\n",
    "Gs = nx.Graph()\n",
    "Gp = nx.Graph()\n",
    "\n",
    "nx.add_cycle(Gc, range(10))\n",
    "nx.add_star(Gs, range(10))\n",
    "nx.add_path(Gp, range(10))\n",
    "\n",
    "print(f\"Cycle: {Gc.edges()}\")\n",
    "print(f\"Star: {Gs.edges()}\")\n",
    "print(f\"Path: {Gp.edges()}\")"
   ]
  },
  {
   "cell_type": "markdown",
   "metadata": {},
   "source": [
    "# Basic Graph Properties"
   ]
  },
  {
   "cell_type": "markdown",
   "metadata": {},
   "source": [
    "Basic graph properties are functions which are member of the `Graph` class itself. We'll explore different metrics in part III."
   ]
  },
  {
   "cell_type": "markdown",
   "metadata": {},
   "source": [
    "## Node and Edge Counts"
   ]
  },
  {
   "cell_type": "markdown",
   "metadata": {},
   "source": [
    "The _order_ of a graph is the number of nodes, it can be accessed by calling `G.order()` or using the builtin length function: `len(G)`."
   ]
  },
  {
   "cell_type": "code",
   "execution_count": 135,
   "metadata": {
    "ExecuteTime": {
     "end_time": "2020-04-22T09:12:21.350675Z",
     "start_time": "2020-04-22T09:12:21.347214Z"
    }
   },
   "outputs": [
    {
     "data": {
      "text/plain": [
       "(10, 10)"
      ]
     },
     "execution_count": 135,
     "metadata": {},
     "output_type": "execute_result"
    }
   ],
   "source": [
    "G = nx.Graph()\n",
    "nx.add_star(G, range(10))\n",
    "\n",
    "G.order(), len(G)"
   ]
  },
  {
   "cell_type": "markdown",
   "metadata": {},
   "source": [
    "The number of edges is usually referred to as the _size_ of the graph, and can be accessed by `G.size()`. You could also find out by calling `len(G.edges())`, but this is much slower."
   ]
  },
  {
   "cell_type": "code",
   "execution_count": 136,
   "metadata": {
    "ExecuteTime": {
     "end_time": "2020-04-22T09:12:24.358558Z",
     "start_time": "2020-04-22T09:12:24.354660Z"
    }
   },
   "outputs": [
    {
     "data": {
      "text/plain": [
       "(9, 9)"
      ]
     },
     "execution_count": 136,
     "metadata": {},
     "output_type": "execute_result"
    }
   ],
   "source": [
    "G.size(), len(G.edges)"
   ]
  },
  {
   "cell_type": "markdown",
   "metadata": {},
   "source": [
    "Number of nodes and edges can be also obtained by explicitly calling functions `number_of_nodes` and `number_of_edges`"
   ]
  },
  {
   "cell_type": "code",
   "execution_count": 137,
   "metadata": {},
   "outputs": [
    {
     "data": {
      "text/plain": [
       "(10, 9)"
      ]
     },
     "execution_count": 137,
     "metadata": {},
     "output_type": "execute_result"
    }
   ],
   "source": [
    "G.number_of_nodes(), G.number_of_edges()"
   ]
  },
  {
   "cell_type": "markdown",
   "metadata": {},
   "source": [
    "For multigraphs it counts the number of edges includeing multiplicity"
   ]
  },
  {
   "cell_type": "code",
   "execution_count": 138,
   "metadata": {
    "ExecuteTime": {
     "end_time": "2020-04-22T09:12:26.124001Z",
     "start_time": "2020-04-22T09:12:26.119044Z"
    }
   },
   "outputs": [
    {
     "data": {
      "text/plain": [
       "2"
      ]
     },
     "execution_count": 138,
     "metadata": {},
     "output_type": "execute_result"
    }
   ],
   "source": [
    "M.size()"
   ]
  },
  {
   "cell_type": "markdown",
   "metadata": {},
   "source": [
    "## Node Neighbors"
   ]
  },
  {
   "cell_type": "markdown",
   "metadata": {},
   "source": [
    "Node neighbors can be accessed via the `neighbors` function (which returns an iterator) "
   ]
  },
  {
   "cell_type": "code",
   "execution_count": 139,
   "metadata": {},
   "outputs": [
    {
     "data": {
      "text/plain": [
       "EdgeDataView([(0, 1), (0, 2), (0, 3), (0, 4), (0, 5), (0, 6), (0, 7), (0, 8), (0, 9)])"
      ]
     },
     "execution_count": 139,
     "metadata": {},
     "output_type": "execute_result"
    }
   ],
   "source": [
    "G.edges(0)"
   ]
  },
  {
   "cell_type": "code",
   "execution_count": 140,
   "metadata": {
    "ExecuteTime": {
     "end_time": "2020-04-22T09:13:02.656722Z",
     "start_time": "2020-04-22T09:13:02.653455Z"
    }
   },
   "outputs": [
    {
     "data": {
      "text/plain": [
       "([1, 2, 3, 4, 5, 6, 7, 8, 9], [0])"
      ]
     },
     "execution_count": 140,
     "metadata": {},
     "output_type": "execute_result"
    }
   ],
   "source": [
    "list(G.neighbors(0)), list(G.neighbors(1))"
   ]
  },
  {
   "cell_type": "markdown",
   "metadata": {},
   "source": [
    "In the case of directed graphs, neighbors are only those originating at the node."
   ]
  },
  {
   "cell_type": "code",
   "execution_count": 141,
   "metadata": {},
   "outputs": [
    {
     "data": {
      "text/plain": [
       "([1, 3, 5, 7, 9], [2, 4, 6, 8])"
      ]
     },
     "execution_count": 141,
     "metadata": {},
     "output_type": "execute_result"
    }
   ],
   "source": [
    "list(range(1, 10, 2)), list(range(2, 10, 2))"
   ]
  },
  {
   "cell_type": "code",
   "execution_count": 142,
   "metadata": {
    "ExecuteTime": {
     "end_time": "2020-04-22T09:13:12.265450Z",
     "start_time": "2020-04-22T09:13:12.260209Z"
    }
   },
   "outputs": [
    {
     "data": {
      "text/plain": [
       "([1, 3, 5, 7, 9], [], [0])"
      ]
     },
     "execution_count": 142,
     "metadata": {},
     "output_type": "execute_result"
    }
   ],
   "source": [
    "D = nx.DiGraph()\n",
    "\n",
    "D.add_edges_from([(0, i) for i in range(1, 10, 2)])\n",
    "D.add_edges_from([(i, 0) for i in range(2, 10, 2)])\n",
    "\n",
    "list(D.neighbors(0)), list(D.neighbors(1)), list(D.neighbors(2))"
   ]
  },
  {
   "cell_type": "markdown",
   "metadata": {},
   "source": [
    "For multigraphs, neighbors are only reported once."
   ]
  },
  {
   "cell_type": "code",
   "execution_count": 143,
   "metadata": {
    "ExecuteTime": {
     "end_time": "2020-04-22T09:13:19.778434Z",
     "start_time": "2020-04-22T09:13:19.775172Z"
    }
   },
   "outputs": [
    {
     "data": {
      "text/plain": [
       "[1]"
      ]
     },
     "execution_count": 143,
     "metadata": {},
     "output_type": "execute_result"
    }
   ],
   "source": [
    "list(M.neighbors(0))"
   ]
  },
  {
   "cell_type": "markdown",
   "metadata": {},
   "source": [
    "## Degree"
   ]
  },
  {
   "cell_type": "markdown",
   "metadata": {},
   "source": [
    "`DegreeView` (obtained via `G.degree`) provides a dynamic view of the degree of each node in the graph. For each node, it presents a pair consisting of the node label and its corresponding degree (the number of edges connected to that node). This view is iterable, allowing you to efficiently iterate through the degree of all nodes, and it updates automatically as the graph structure changes. For directed graphs, you can access in-degree and out-degree using `G.in_degree` and `G.out_degree`, respectively, which also return `DegreeView` objects.\n",
    "\n",
    "You can use these as properties (`G.degree`) or functions (`G.degree()`)"
   ]
  },
  {
   "cell_type": "code",
   "execution_count": 144,
   "metadata": {
    "ExecuteTime": {
     "end_time": "2020-04-22T09:13:25.744132Z",
     "start_time": "2020-04-22T09:13:25.741002Z"
    }
   },
   "outputs": [
    {
     "data": {
      "text/plain": [
       "DegreeView({0: 9, 1: 1, 2: 1, 3: 1, 4: 1, 5: 1, 6: 1, 7: 1, 8: 1, 9: 1})"
      ]
     },
     "execution_count": 144,
     "metadata": {},
     "output_type": "execute_result"
    }
   ],
   "source": [
    "G.degree"
   ]
  },
  {
   "cell_type": "code",
   "execution_count": 145,
   "metadata": {
    "ExecuteTime": {
     "end_time": "2020-04-22T09:13:31.374622Z",
     "start_time": "2020-04-22T09:13:31.370677Z"
    }
   },
   "outputs": [
    {
     "data": {
      "text/plain": [
       "InDegreeView({0: 4, 1: 1, 3: 1, 5: 1, 7: 1, 9: 1, 2: 0, 4: 0, 6: 0, 8: 0})"
      ]
     },
     "execution_count": 145,
     "metadata": {},
     "output_type": "execute_result"
    }
   ],
   "source": [
    "D.in_degree"
   ]
  },
  {
   "cell_type": "code",
   "execution_count": 146,
   "metadata": {
    "ExecuteTime": {
     "end_time": "2020-04-22T09:13:32.043912Z",
     "start_time": "2020-04-22T09:13:32.040264Z"
    }
   },
   "outputs": [
    {
     "data": {
      "text/plain": [
       "OutDegreeView({0: 5, 1: 0, 3: 0, 5: 0, 7: 0, 9: 0, 2: 1, 4: 1, 6: 1, 8: 1})"
      ]
     },
     "execution_count": 146,
     "metadata": {},
     "output_type": "execute_result"
    }
   ],
   "source": [
    "D.out_degree"
   ]
  },
  {
   "cell_type": "markdown",
   "metadata": {},
   "source": [
    "Both of these can be called on a single node or a subset of nodes if not all degrees are needed"
   ]
  },
  {
   "cell_type": "code",
   "execution_count": 147,
   "metadata": {
    "ExecuteTime": {
     "end_time": "2020-04-22T09:13:42.266096Z",
     "start_time": "2020-04-22T09:13:42.262716Z"
    }
   },
   "outputs": [
    {
     "data": {
      "text/plain": [
       "(1, OutDegreeView({0: 5, 1: 0, 2: 1}))"
      ]
     },
     "execution_count": 147,
     "metadata": {},
     "output_type": "execute_result"
    }
   ],
   "source": [
    "D.in_degree(5), D.out_degree([0, 1, 2])"
   ]
  },
  {
   "cell_type": "markdown",
   "metadata": {},
   "source": [
    "You can also calculate weighted degree. To do this each edge has to have specific attribute to be used as a weight."
   ]
  },
  {
   "cell_type": "code",
   "execution_count": 148,
   "metadata": {
    "ExecuteTime": {
     "end_time": "2020-04-22T09:14:02.595917Z",
     "start_time": "2020-04-22T09:14:02.592223Z"
    }
   },
   "outputs": [],
   "source": [
    "WG = nx.Graph()\n",
    "\n",
    "nx.add_star(WG, range(10))\n",
    "\n",
    "for (u, v) in WG.edges:\n",
    "    WG[u][v][\"weight\"] = (u + v) / 2"
   ]
  },
  {
   "cell_type": "code",
   "execution_count": 149,
   "metadata": {},
   "outputs": [
    {
     "data": {
      "text/plain": [
       "EdgeDataView([(0, 1, {'weight': 0.5}), (0, 2, {'weight': 1.0}), (0, 3, {'weight': 1.5}), (0, 4, {'weight': 2.0}), (0, 5, {'weight': 2.5}), (0, 6, {'weight': 3.0}), (0, 7, {'weight': 3.5}), (0, 8, {'weight': 4.0}), (0, 9, {'weight': 4.5})])"
      ]
     },
     "execution_count": 149,
     "metadata": {},
     "output_type": "execute_result"
    }
   ],
   "source": [
    "WG.edges(data=True)"
   ]
  },
  {
   "cell_type": "code",
   "execution_count": 150,
   "metadata": {
    "ExecuteTime": {
     "end_time": "2020-04-22T09:14:04.053171Z",
     "start_time": "2020-04-22T09:14:04.049966Z"
    }
   },
   "outputs": [
    {
     "data": {
      "text/plain": [
       "DegreeView({0: 22.5, 1: 0.5, 2: 1.0, 3: 1.5, 4: 2.0, 5: 2.5, 6: 3.0, 7: 3.5, 8: 4.0, 9: 4.5})"
      ]
     },
     "execution_count": 150,
     "metadata": {},
     "output_type": "execute_result"
    }
   ],
   "source": [
    "WG.degree(weight=\"weight\")"
   ]
  },
  {
   "attachments": {},
   "cell_type": "markdown",
   "metadata": {},
   "source": [
    "# Exercises\n",
    "\n",
    "## Exercise: Social Network Analysis\n",
    "\n",
    "* **Description:**\n",
    "    * Create an undirected graph called `social_network` to represent friendships in a small community.\n",
    "    * Add nodes representing people: \"Alice\", \"Bob\", \"Charlie\", \"David\", \"Emily\".\n",
    "    * Add edges to represent friendships: Alice is friends with Bob and Charlie, Bob is friends with Charlie and David, Charlie is friends with David and Emily, and David is friends with Emily.\n",
    "    * Add an attribute \"age\" to each person with the following values: Alice (25), Bob (30), Charlie (28), David (22), Emily (27).\n",
    "\n",
    "* **Tasks:**\n",
    "    1.  Print the number of people (nodes) in the network.\n",
    "    2.  List all of Alice's friends (neighbors).\n",
    "    3.  Calculate and print the average age of the people in the network.\n",
    "\n",
    "## Exercise: Task Dependency Graph\n",
    "\n",
    "* **Description:**\n",
    "    * Create a directed graph called `task_dependency_graph` to represent tasks in a project and their dependencies.\n",
    "    * Add nodes representing tasks: \"Task A\", \"Task B\", \"Task C\", \"Task D\".\n",
    "    * Add directed edges to represent dependencies: Task A must be completed before Task B, Task B before Task C, and Task A before Task D.\n",
    "    * Add an attribute \"time_estimate\" (in days) to each task: Task A (5 days), Task B (3 days), Task C (4 days), Task D (6 days).\n",
    "\n",
    "* **Tasks:**\n",
    "    1.  Print the total number of tasks (nodes) and dependencies (edges).\n",
    "    2.  Determine and print how many tasks need to be completed before \"Task C\" can start.\n",
    "    3.  Calculate and print the total estimated time for all tasks in the project.\n",
    "\n",
    "## Exercise: Analyzing a Small Network\n",
    "\n",
    "* **Description:**\n",
    "    * Create an undirected graph called `small_network` and add the following edges: (1, 2), (2, 3), (3, 4), (4, 1), (1, 5), (2, 6).\n",
    "\n",
    "\n",
    "* **Tasks:**\n",
    "    1.  Draw the graph on paper\n",
    "    2.  Determine the number of nodes and edges in the graph programmatically\n",
    "    3.  Calculate the degree of node 1 and node 2 programmatically."
   ]
  },
  {
   "cell_type": "code",
   "execution_count": 157,
   "metadata": {},
   "outputs": [
    {
     "name": "stdout",
     "output_type": "stream",
     "text": [
      "Number of nodes: 4\n",
      "Number of edges: 3\n",
      "Number of tasks to be completed before Task C: 2\n",
      "Total estimated time for all tasks: 18\n"
     ]
    }
   ],
   "source": [
    "# Task Dependency Graph\n",
    "task_dependency_graph = nx.DiGraph()\n",
    "task_dependency_graph.add_nodes_from([\"Task A\", \"Task B\", \"Task C\", \"Task D\"])\n",
    "task_dependency_graph.add_edges_from([(\"Task A\", \"Task B\"), (\"Task B\", \"Task C\"), (\"Task A\", \"Task D\")])\n",
    "task_dependency_graph.nodes()[\"Task A\"][\"time_estimate\"] = 5\n",
    "task_dependency_graph.nodes()[\"Task B\"][\"time_estimate\"] = 3\n",
    "task_dependency_graph.nodes()[\"Task C\"][\"time_estimate\"] = 4\n",
    "task_dependency_graph.nodes()[\"Task D\"][\"time_estimate\"] = 6\n",
    "\n",
    "print(\"Number of nodes:\", task_dependency_graph.number_of_nodes())\n",
    "print(\"Number of edges:\", task_dependency_graph.number_of_edges())\n",
    "print(\"Number of tasks to be completed before Task C:\", len(nx.ancestors(task_dependency_graph, \"Task C\")))\n",
    "\n",
    "sum_time_estimate = 0\n",
    "for v in task_dependency_graph.nodes:\n",
    "    sum_time_estimate += task_dependency_graph.nodes()[v][\"time_estimate\"]\n",
    "print(\"Total estimated time for all tasks:\", sum_time_estimate)\n"
   ]
  }
 ],
 "metadata": {
  "kernelspec": {
   "display_name": "venv",
   "language": "python",
   "name": "python3"
  },
  "language_info": {
   "codemirror_mode": {
    "name": "ipython",
    "version": 3
   },
   "file_extension": ".py",
   "mimetype": "text/x-python",
   "name": "python",
   "nbconvert_exporter": "python",
   "pygments_lexer": "ipython3",
   "version": "3.13.3"
  },
  "toc": {
   "base_numbering": 1,
   "nav_menu": {},
   "number_sections": true,
   "sideBar": true,
   "skip_h1_title": false,
   "title_cell": "Table of Contents",
   "title_sidebar": "Contents",
   "toc_cell": false,
   "toc_position": {},
   "toc_section_display": true,
   "toc_window_display": false
  },
  "varInspector": {
   "cols": {
    "lenName": 16,
    "lenType": 16,
    "lenVar": 40
   },
   "kernels_config": {
    "python": {
     "delete_cmd_postfix": "",
     "delete_cmd_prefix": "del ",
     "library": "var_list.py",
     "varRefreshCmd": "print(var_dic_list())"
    },
    "r": {
     "delete_cmd_postfix": ") ",
     "delete_cmd_prefix": "rm(",
     "library": "var_list.r",
     "varRefreshCmd": "cat(var_dic_list()) "
    }
   },
   "oldHeight": 502.246,
   "position": {
    "height": "40px",
    "left": "1416.25px",
    "right": "20px",
    "top": "120px",
    "width": "250px"
   },
   "types_to_exclude": [
    "module",
    "function",
    "builtin_function_or_method",
    "instance",
    "_Feature"
   ],
   "varInspector_section_display": "none",
   "window_display": true
  }
 },
 "nbformat": 4,
 "nbformat_minor": 4
}
