{
 "cells": [
  {
   "cell_type": "markdown",
   "metadata": {},
   "source": [
    "# Graph Drawing"
   ]
  },
  {
   "cell_type": "markdown",
   "metadata": {},
   "source": [
    "NetworkX does not have strong visualization capabilities. It primarily relies on an old, modified drawing function that utilizes `matplotlib`. This results in slow, non-interactive drawing with numerous visual defects; for instance, arrows for directed graphs are particularly unappealing.\n",
    "\n",
    "NetworkX can also be used with `graphviz` through the `pygraphviz` interface, allowing graphs visualized with graphviz to be read, written, and displayed to some extent. It is not recommended that NetworkX be used as a primary tool for graph visualization. Visualization might potentially be removed entirely from NetworkX in the future and moved to a separate package in a future release.\n",
    "\n",
    "In general, visualizing a graph rarely provides meaningful information. While many graph visualizations are found to be aesthetically pleasing, they often do not convey information about the graph that could be more easily discovered through analysis using different metrics. Moreover, because positional layouts can be arbitrary, they may cause perceived structure where none exists, which is especially true as graphs become larger than 100 nodes."
   ]
  },
  {
   "cell_type": "code",
   "execution_count": null,
   "metadata": {
    "ExecuteTime": {
     "end_time": "2019-04-11T19:52:03.567531Z",
     "start_time": "2019-04-11T19:52:03.175639Z"
    }
   },
   "outputs": [],
   "source": [
    "%matplotlib inline\n",
    "\n",
    "import networkx as nx"
   ]
  },
  {
   "cell_type": "markdown",
   "metadata": {},
   "source": [
    "The function responsible for most graph visualization in NetworkX is `nx.draw()`. Let us visualize a Barbell graph, which is formed by joining two complete graphs of size `m1` via a path of the length `m2`."
   ]
  },
  {
   "cell_type": "code",
   "execution_count": null,
   "metadata": {
    "ExecuteTime": {
     "end_time": "2019-04-11T19:52:05.691064Z",
     "start_time": "2019-04-11T19:52:05.682196Z"
    }
   },
   "outputs": [],
   "source": [
    "G = nx.barbell_graph(m1=5, m2=2)\n",
    "\n",
    "nx.draw(G)"
   ]
  },
  {
   "cell_type": "markdown",
   "metadata": {},
   "source": [
    "If you want to see the labels, you have to set the argument `with_labels=True`"
   ]
  },
  {
   "cell_type": "code",
   "execution_count": null,
   "metadata": {
    "ExecuteTime": {
     "end_time": "2019-04-11T19:52:16.265161Z",
     "start_time": "2019-04-11T19:52:16.125491Z"
    }
   },
   "outputs": [],
   "source": [
    "nx.draw(G,with_labels=True)"
   ]
  },
  {
   "cell_type": "markdown",
   "metadata": {},
   "source": [
    "The issue of physical placement of nodes is handled by the layout function. All these functions are available in the module `nx.layout`."
   ]
  },
  {
   "cell_type": "code",
   "execution_count": null,
   "metadata": {
    "ExecuteTime": {
     "end_time": "2019-04-11T19:52:20.495575Z",
     "start_time": "2019-04-11T19:52:20.488695Z"
    }
   },
   "outputs": [],
   "source": [
    "pos = nx.layout.spiral_layout(G)\n",
    "\n",
    "nx.draw(G,pos=pos)"
   ]
  },
  {
   "cell_type": "markdown",
   "metadata": {},
   "source": [
    "NetworkX allows controlling selected aspects of the graph's appearance. A detailed catalog of parameters can be found in [the description of the function](https://networkx.org/documentation/stable/reference/generated/networkx.drawing.nx_pylab.draw_networkx.html) `nx.draw_networkx`."
   ]
  },
  {
   "cell_type": "code",
   "execution_count": null,
   "metadata": {
    "ExecuteTime": {
     "end_time": "2019-04-11T19:52:31.337240Z",
     "start_time": "2019-04-11T19:52:31.184689Z"
    }
   },
   "outputs": [],
   "source": [
    "nx.draw(G,\n",
    "        pos=nx.layout.kamada_kawai_layout(G),\n",
    "        with_labels=True,\n",
    "        node_color=[n % 3 for n in G.nodes()],\n",
    "        node_size=500,\n",
    "        arrows=True,\n",
    "        node_shape='*',\n",
    "        width=2,\n",
    "        style='dotted',\n",
    "        edge_color='red',\n",
    "       )"
   ]
  },
  {
   "cell_type": "markdown",
   "metadata": {},
   "source": [
    "## K-coreness in Social Network Analysis\n",
    "\n",
    "In the analysis of social networks, k-coreness is a measure of the local cohesiveness of a node (actor) within the network. It is the largest value of k such that the node belongs to the k-core of the network. The k-core is the largest subgraph of the network in which every node has a degree (number of connections) of at least k within that subgraph.\n",
    "\n",
    "To find the k-core, an iterative process of removing nodes is used:\n",
    "- all nodes with a degree less than *k* are removed,\n",
    "- the removal of these nodes may cause the degrees of some remaining nodes to fall below *k*,\n",
    "- the removal process is repeated until no node in the remaining subgraph has a degree less than *k*,\n",
    "- the remaining subgraph is the k-core.\n",
    "\n",
    "Nodes with higher k-coreness are located in denser, more central parts of the network, while nodes with lower k-coreness are on the periphery. To find k-cores in the network you may use `nx.core_number()` function."
   ]
  },
  {
   "cell_type": "code",
   "execution_count": null,
   "metadata": {
    "ExecuteTime": {
     "end_time": "2019-04-11T19:52:46.035765Z",
     "start_time": "2019-04-11T19:52:46.028880Z"
    }
   },
   "outputs": [],
   "source": [
    "G = nx.random_geometric_graph(50,0.2)\n",
    "G.nodes(data=True)"
   ]
  },
  {
   "cell_type": "code",
   "execution_count": null,
   "metadata": {
    "ExecuteTime": {
     "end_time": "2019-04-11T19:52:46.035765Z",
     "start_time": "2019-04-11T19:52:46.028880Z"
    }
   },
   "outputs": [],
   "source": [
    "k_core = nx.core_number(G)\n",
    "k_core_color = [k_core[n] for n in G.nodes()]\n",
    "\n",
    "pos = {n: G.nodes[n]['pos'] for n in G.nodes()}\n",
    "size = [G.degree(n)**3 for n in G.nodes()]\n",
    "\n",
    "nx.draw(G,\n",
    "        node_color=k_core_color,\n",
    "        width=.5,\n",
    "        pos=pos,\n",
    "        node_size=size)"
   ]
  },
  {
   "attachments": {},
   "cell_type": "markdown",
   "metadata": {},
   "source": [
    "# Graph generators\n",
    "\n",
    "NetworkX comes with a large number of builtin graph generators. These can be especially useful for testing out new measures, metrics, and dynamics, on already well tested algorithms. \n",
    "\n",
    "NetworkX has the ability to make a bunch of the graphs we made in the previous section. They mainly fall under the `classic` namespace. For example, to make a complete graph, we could just use:"
   ]
  },
  {
   "cell_type": "code",
   "execution_count": null,
   "metadata": {},
   "outputs": [],
   "source": [
    "C = nx.classic.complete_graph(n=10)\n",
    "nx.draw(C)"
   ]
  },
  {
   "cell_type": "markdown",
   "metadata": {},
   "source": [
    "We don't actually have to use the full namespace call that is `nx.generators.classic.complete_graph`, everythin is under the `nx` module:"
   ]
  },
  {
   "cell_type": "code",
   "execution_count": null,
   "metadata": {},
   "outputs": [],
   "source": [
    "C = nx.complete_graph(n=10)\n",
    "C.nodes(), C.edges()"
   ]
  },
  {
   "cell_type": "markdown",
   "metadata": {},
   "source": [
    "Explore the classic generators, create graphs for at least 3 of them. You can list the graphs by typing `nx.generators.classic.[TAB]`. Read the documentation for each (remember you can type (`nx.circulant_graph?`) to see the documentation"
   ]
  },
  {
   "cell_type": "code",
   "execution_count": null,
   "metadata": {},
   "outputs": [],
   "source": [
    "..."
   ]
  },
  {
   "cell_type": "markdown",
   "metadata": {},
   "source": [
    "## Classic graphs\n",
    "\n",
    "NetworkX contains a number of small graphs from classic work. For example the Zachary karate Club is often used for testing community finding algorithms. It is included in networkx along with the community information. Similarly, Davis' Southern Women dataset is included."
   ]
  },
  {
   "cell_type": "code",
   "execution_count": null,
   "metadata": {},
   "outputs": [],
   "source": [
    "KC = nx.karate_club_graph()\n",
    "KC.nodes(data=True)"
   ]
  },
  {
   "cell_type": "code",
   "execution_count": null,
   "metadata": {},
   "outputs": [],
   "source": [
    "kc_colors = [\n",
    "    'blue' \n",
    "    if KC.nodes[n]['club'] == 'Mr. Hi' else 'orange' \n",
    "    for n in KC.nodes\n",
    "]\n",
    "\n",
    "nx.draw(KC, node_color=kc_colors)"
   ]
  },
  {
   "cell_type": "code",
   "execution_count": null,
   "metadata": {},
   "outputs": [],
   "source": [
    "DSW = nx.davis_southern_women_graph()\n",
    "DSW.nodes()"
   ]
  },
  {
   "cell_type": "code",
   "execution_count": null,
   "metadata": {},
   "outputs": [],
   "source": [
    "women, events = nx.bipartite.sets(DSW)\n",
    "women, events"
   ]
  },
  {
   "cell_type": "code",
   "execution_count": null,
   "metadata": {},
   "outputs": [],
   "source": [
    "nx.draw(DSW, pos=nx.layout.bipartite_layout(DSW, nodes=women), with_labels=True, font_size=6)"
   ]
  },
  {
   "cell_type": "markdown",
   "metadata": {},
   "source": [
    "## Random graphs\n",
    "\n",
    "Random graphs are often used as models for various physical phenomena, and testing new measures and dynamics. NetworkX has a bunch of them built in. For example the classic Erdős–Rényi graph is implemented as `gnp_random_graph` which takes a number of nodes and a probability of connection between any two nodes. Alternatively, we can use `gnm_random_graph` function which takes a number of nodes and a number of edges."
   ]
  },
  {
   "cell_type": "code",
   "execution_count": null,
   "metadata": {},
   "outputs": [],
   "source": [
    "ER_nodes = nx.gnp_random_graph(100, 1.0/100)\n",
    "ER_nodes.number_of_nodes(), ER_nodes.number_of_edges(), "
   ]
  },
  {
   "cell_type": "code",
   "execution_count": null,
   "metadata": {},
   "outputs": [],
   "source": [
    "ER_edges = nx.gnm_random_graph(100, 50)\n",
    "ER_edges.number_of_nodes(), ER_edges.number_of_edges(), "
   ]
  },
  {
   "cell_type": "markdown",
   "metadata": {},
   "source": [
    "The Erdős–Rényi does not have many of the properties seen in real world social network data, particularly, triadic closures. Watts and Strogatz developed a random graph model which accounts for this, and it's implemented in NetworkX. Function `nx.watts_strogatz_graph()` requires the number of nodes (`n`), number of neighbors (`k`), and the probability of random edge re-wiring."
   ]
  },
  {
   "cell_type": "code",
   "execution_count": null,
   "metadata": {},
   "outputs": [],
   "source": [
    "WS = nx.watts_strogatz_graph(n=100, k=4, p=.05)\n",
    "nx.draw(WS, pos=nx.circular_layout(WS), node_size=25, width=0.3)"
   ]
  },
  {
   "cell_type": "markdown",
   "metadata": {},
   "source": [
    "A common feature of complex networks is their heavy-tailed degree distribution. That is the degrees of the nodes in a graph varies over many orders of magnitude. NetworkX contains a number of random graph models that have power law degree sequences. One of the most famous is the Barabási–Albert model. In this model nodes are added sequentially and a fixed number of edges between new nodes and existing nodes are added with nodes being selected with probability proportional to their degree. In function `nx.barabasi_albert_graph` the main parameter is the number of edges brought by each new node (`m`)."
   ]
  },
  {
   "cell_type": "code",
   "execution_count": null,
   "metadata": {},
   "outputs": [],
   "source": [
    "from collections import Counter\n",
    "\n",
    "BA = nx.barabasi_albert_graph(100000, m=1)\n",
    "\n",
    "degree_distribution = sorted([v for k,v in nx.degree(BA)], reverse=True)\n",
    "degree_counts = dict(Counter(degree_distribution))"
   ]
  },
  {
   "cell_type": "code",
   "execution_count": null,
   "metadata": {},
   "outputs": [],
   "source": [
    "import pandas as pd\n",
    "\n",
    "df = pd.DataFrame(list(degree_counts.items()), columns=['degree', 'count'])"
   ]
  },
  {
   "cell_type": "code",
   "execution_count": null,
   "metadata": {},
   "outputs": [],
   "source": [
    "import seaborn as sns\n",
    "import matplotlib.pyplot as plt\n",
    "\n",
    "sns.set(style=\"whitegrid\")\n",
    "ax = sns.scatterplot(data=df, x='degree', y='count')\n",
    "\n",
    "ax.set_xscale('log')\n",
    "ax.set_yscale('log')\n",
    "\n",
    "plt.xlabel('degree')\n",
    "plt.ylabel('num nodes')\n",
    "plt.show()"
   ]
  },
  {
   "cell_type": "markdown",
   "metadata": {},
   "source": [
    "## Exercise\n",
    "\n",
    "One more exercise and then we'll get to the fun stuff. On disadvantage of the original Barabási–Albert model is that it had an integer average degree and the degree distribution was power law, but could only have integer exponent. Let's make a model that is able to have non-integer exponent.\n",
    "\n",
    "Let's write a new model. Instead of adding a fixed number of edges with each node, we add a random number of edges from a Poisson distribution with mean $\\lambda$. To ensure the graph stays connected, if the random number of edges is 0 we add at least 1 edge. Just as in the original model, we connect to new nodes to the graph to nodes proportional to the degree of the node.\n",
    "\n",
    "First lets find a function that can generate poisson random numbers for us. It's easy to do with the `numpy` package, we can import numpy and then just call `np.random.poisson` to generate a random number with $Poisson(\\lambda)$. A trick to write a fast BA implementation is to maintain a list of nodes with nodes repeated in the list each time they have a connection made. "
   ]
  },
  {
   "cell_type": "code",
   "execution_count": null,
   "metadata": {},
   "outputs": [],
   "source": [
    "import numpy as np\n",
    "\n",
    "def poisson_BA(n, lam):\n",
    "\n",
    "    start = max(2, np.random.poisson(lam=lam)) # start with at least two nodes\n",
    "    \n",
    "    G = nx.complete_graph(start)\n",
    "    \n",
    "    repeated_nodes = []\n",
    "\n",
    "    # add initial nodes to repeated_nodes list\n",
    "            \n",
    "    u = start\n",
    "    \n",
    "    while u < n:\n",
    "        # - using the the poisson random number generator, generate a number of connections\n",
    "        # - make sure it's greater than 1\n",
    "        # - store that variable in `connections`\n",
    "        connections = 0\n",
    "\n",
    "        for _ in range(connections):\n",
    "            # - for as many connections as it has select a node at random from repeated_nodes and create an edge\n",
    "            # - do not forget to update the repeated_nodes list\n",
    "            ...\n",
    "        u += 1\n",
    "    return G"
   ]
  },
  {
   "cell_type": "markdown",
   "metadata": {},
   "source": [
    "If you are successfull, you should be able to run the following cell:"
   ]
  },
  {
   "cell_type": "code",
   "execution_count": null,
   "metadata": {},
   "outputs": [],
   "source": [
    "# testing the poisson-based Barabasi-Albert model\n",
    "\n",
    "PBA = poisson_BA(1000, np.pi)\n",
    "\n",
    "deg = dict(PBA.degree())\n",
    "\n",
    "min_degree = min(deg)\n",
    "max_degree = max(deg)\n",
    "mean_degree = np.mean([d for n,d in PBA.degree()])\n",
    "\n",
    "print(f\"Minimum degree: {min_degree}, maximum degree: {max_degree}, mean degree: {mean_degree}\")"
   ]
  },
  {
   "cell_type": "markdown",
   "metadata": {},
   "source": [
    "# Graph analysis\n",
    "\n",
    "NetworkX contains several methods for graph analytics. In the following section we will see a couple of examples"
   ]
  },
  {
   "cell_type": "markdown",
   "metadata": {},
   "source": [
    "## Degree\n",
    "\n",
    "A common feature of complex networks it's their degree distribution. This is often represented as degree rank plot. Let's check out the degree rank plot of a preferential attachment graph"
   ]
  },
  {
   "cell_type": "code",
   "execution_count": null,
   "metadata": {},
   "outputs": [],
   "source": [
    "BA = nx.barabasi_albert_graph(10000,1)\n",
    "\n",
    "degrees = dict(BA.degree())\n",
    "list(degrees.items())[:10]"
   ]
  },
  {
   "cell_type": "code",
   "execution_count": null,
   "metadata": {},
   "outputs": [],
   "source": [
    "degree_sequence = sorted(degrees.values(), reverse=True)\n",
    "degree_sequence[:10]"
   ]
  },
  {
   "cell_type": "code",
   "execution_count": null,
   "metadata": {},
   "outputs": [],
   "source": [
    "plt.loglog(range(1, BA.order()+1), degree_sequence, 'b.')\n",
    "\n",
    "plt.xlabel('Rank')\n",
    "plt.ylabel('Degree')\n",
    "plt.ylim(1,max(degree_sequence)+1)\n",
    "plt.xlim(.9,10001)\n",
    "\n",
    "plt"
   ]
  },
  {
   "cell_type": "markdown",
   "metadata": {},
   "source": [
    "In the original paper where the Barabási–Albert model was introduced it was stated that it provided a good explanation for the Autonomous Sytems Network. Let's build a network with similar degree structure to a recent snapshot of the Autonomous Systems Network. The data was retrieved from [UCLA's Internet Research Lab's Topology Data](http://irl.cs.ucla.edu/topology/).\n",
    "\n",
    "First, read in the network, it is in the data folder labeled `20150201.link.v4`"
   ]
  },
  {
   "cell_type": "code",
   "execution_count": null,
   "metadata": {},
   "outputs": [],
   "source": [
    "AS = nx.read_edgelist('data/20150201.link.v4', delimiter='\\t')\n",
    "\n",
    "AS.number_of_nodes(), AS.number_of_edges()"
   ]
  },
  {
   "cell_type": "code",
   "execution_count": null,
   "metadata": {},
   "outputs": [],
   "source": [
    "avg_num_edges = 2 * AS.number_of_nodes() / AS.number_of_edges()\n",
    "\n",
    "print(f\"Average node degree is {avg_num_edges}\")"
   ]
  },
  {
   "cell_type": "markdown",
   "metadata": {},
   "source": [
    "## Exercise\n",
    "\n",
    "Generate a graph using the BA model with the average number of edges similar to the empirical average number of edges computed above. Find the degree sequence of the empirical network and the synthetic graph, and use the code below to plot each degree distribution. Is this a good model?"
   ]
  },
  {
   "cell_type": "code",
   "execution_count": null,
   "metadata": {},
   "outputs": [],
   "source": [
    "BA_deg_seq = ...\n",
    "AS_deg_seq = ...\n",
    "\n",
    "plt.loglog(BA_deg_seq,'b.',label='BA Model')\n",
    "plt.loglog(AS_deg_seq,'r.',label='AS Data')\n",
    "plt.xlabel('Rank')\n",
    "plt.ylabel('Degree')"
   ]
  },
  {
   "cell_type": "markdown",
   "metadata": {},
   "source": [
    "Apart from degree, NetworkX offers many other centrality metrics for nodes. You can check them using `nx.centrality.[TAB]`. All these functions return a dictionary with node numbers as keys, and centralities as values"
   ]
  },
  {
   "cell_type": "code",
   "execution_count": null,
   "metadata": {},
   "outputs": [],
   "source": [
    "G = nx.barabasi_albert_graph(1000, 1)\n",
    "\n",
    "degree_cent = nx.degree_centrality(G)\n",
    "betweenness_cent = nx.betweenness_centrality(G, normalized=True)\n",
    "closeness_cent = nx.closeness_centrality(G)\n",
    "pagerank_cent = nx.pagerank(G)\n",
    "katz_cent = nx.katz_centrality(G, normalized=True, tol=0.001)"
   ]
  },
  {
   "cell_type": "code",
   "execution_count": null,
   "metadata": {},
   "outputs": [],
   "source": [
    "import pandas as pd\n",
    "\n",
    "df = pd.DataFrame(\n",
    "    {\n",
    "        'degree': degree_cent.values(),\n",
    "        'betweenness': betweenness_cent.values(),\n",
    "        'closeness': closeness_cent.values(),\n",
    "        'pagerank': pagerank_cent.values(),\n",
    "        'katz': katz_cent.values()\n",
    "    }\n",
    ")\n",
    "\n",
    "correlation_matrix = df.corr()\n",
    "\n",
    "sns.heatmap(correlation_matrix, annot=True, cmap='Reds')\n",
    "plt.show()"
   ]
  },
  {
   "cell_type": "markdown",
   "metadata": {},
   "source": [
    "# Exercise\n",
    "\n",
    "Identifying important nodes is often a common technique in complex network analysis. Degree is a simple measure of centrality, but there are many others. Let's explore a few on some real data on Terrorists in Colonial America. I wish I could claim I came up with this, but I didn't all credit goes to \n",
    "\n",
    "[1] http://kieranhealy.org/blog/archives/2013/06/09/using-metadata-to-find-paul-revere/\n",
    "\n",
    "[2] Fischer, David Hackett. Historians' fallacies: Toward a logic of historical thought. Vol. 1970. London: Routledge & Kegan Paul, 1971.\n",
    "\n",
    "The data file contains a graph with two types of nodes, 'Organization' and 'Person'. Organizations are different groups who met in colonial America and supported independence from England. People are people attending those meetings. \n",
    "\n",
    "First let's get the data from `data/PaulRevereAppD.csv` file, then transform it to extract nodes representing people and organizations, and read it into NetworkX. Check the docs on [how to read bipartite graphs in NetworkX](https://networkx.github.io/documentation/stable/reference/algorithms/bipartite.html)"
   ]
  },
  {
   "cell_type": "code",
   "execution_count": null,
   "metadata": {},
   "outputs": [],
   "source": [
    "df = pd.read_csv('data/PaulRevereAppD.csv', index_col='Person')\n",
    "df.head()"
   ]
  },
  {
   "cell_type": "code",
   "execution_count": null,
   "metadata": {},
   "outputs": [],
   "source": [
    "tups = [\n",
    "    (person, organization) \n",
    "    for (person, organization, membership) \n",
    "    in df.stack().reset_index().values.tolist()\n",
    "    if membership == 1\n",
    "]\n",
    "\n",
    "tups[:10]"
   ]
  },
  {
   "cell_type": "markdown",
   "metadata": {},
   "source": [
    "Create a new undirected graph `R` and use `tups` as the list of edges"
   ]
  },
  {
   "cell_type": "code",
   "execution_count": null,
   "metadata": {},
   "outputs": [],
   "source": [
    "R = ..."
   ]
  },
  {
   "cell_type": "markdown",
   "metadata": {},
   "source": [
    "Check if `R` is bipartite."
   ]
  },
  {
   "cell_type": "code",
   "execution_count": null,
   "metadata": {},
   "outputs": [],
   "source": [
    "..."
   ]
  },
  {
   "cell_type": "markdown",
   "metadata": {},
   "source": [
    "Divide the set of nodes in `R` into two sets representing `people` and `orgs`"
   ]
  },
  {
   "cell_type": "code",
   "execution_count": null,
   "metadata": {},
   "outputs": [],
   "source": [
    "people, orgs = ..."
   ]
  },
  {
   "cell_type": "markdown",
   "metadata": {},
   "source": [
    "Do the 2-mode -> 1-mode projection of the graph `R` to create a new graph `P` consisting only of people. Two nodes are connected in `P` if the two persons belong to the same organization in `R`."
   ]
  },
  {
   "cell_type": "code",
   "execution_count": null,
   "metadata": {},
   "outputs": [],
   "source": [
    "P = ...\n",
    "\n",
    "plt.figure(figsize=(15, 10))\n",
    "nx.draw(P, with_labels=True, node_size=0, width=0.1, pos=nx.layout.kamada_kawai_layout(P))"
   ]
  },
  {
   "cell_type": "markdown",
   "metadata": {},
   "source": [
    "Repeat the same process to create a graph representing the collaboration between organizations. This time make sure that the projection is weighted, i.e., that for each edge connecting two organizations the edge has information about the number of people who belong to both organizations. Draw the graph and use the weight of each edge to outline the structure of the graph"
   ]
  },
  {
   "cell_type": "code",
   "execution_count": null,
   "metadata": {},
   "outputs": [],
   "source": [
    "O = ..."
   ]
  },
  {
   "cell_type": "code",
   "execution_count": null,
   "metadata": {},
   "outputs": [],
   "source": [
    "weights = ...\n",
    "nx.draw(O, with_labels=True, width=weights, pos=nx.layout.kamada_kawai_layout(O))"
   ]
  },
  {
   "cell_type": "markdown",
   "metadata": {},
   "source": [
    "Compute the weighted degree and the weighted betweenness of organizations. Print out three most important organizations w.r.t. degree and three most important organizations w.r.t. "
   ]
  },
  {
   "cell_type": "code",
   "execution_count": null,
   "metadata": {},
   "outputs": [],
   "source": [
    "..."
   ]
  }
 ],
 "metadata": {
  "kernelspec": {
   "display_name": "Python 3 (ipykernel)",
   "language": "python",
   "name": "python3"
  },
  "language_info": {
   "codemirror_mode": {
    "name": "ipython",
    "version": 3
   },
   "file_extension": ".py",
   "mimetype": "text/x-python",
   "name": "python",
   "nbconvert_exporter": "python",
   "pygments_lexer": "ipython3",
   "version": "3.12.7"
  },
  "toc": {
   "base_numbering": 1,
   "nav_menu": {},
   "number_sections": true,
   "sideBar": true,
   "skip_h1_title": false,
   "title_cell": "Table of Contents",
   "title_sidebar": "Contents",
   "toc_cell": false,
   "toc_position": {},
   "toc_section_display": true,
   "toc_window_display": false
  }
 },
 "nbformat": 4,
 "nbformat_minor": 4
}
